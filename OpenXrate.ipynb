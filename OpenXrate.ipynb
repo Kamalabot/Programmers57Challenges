{
 "cells": [
  {
   "cell_type": "code",
   "execution_count": 9,
   "id": "cf514ba1",
   "metadata": {},
   "outputs": [
    {
     "name": "stdout",
     "output_type": "stream",
     "text": [
      "Collecting coinoxr\n",
      "  Downloading coinoxr-0.0.1a0-py3-none-any.whl (6.8 kB)\n",
      "Requirement already satisfied: requests>=2.20 in c:\\workfiles\\wpy64-37120\\pypy3.7-v7.3.7-win64\\site-packages (from coinoxr) (2.25.1)Note: you may need to restart the kernel to use updated packages.\n",
      "\n",
      "Requirement already satisfied: chardet<5,>=3.0.2 in c:\\workfiles\\wpy64-37120\\pypy3.7-v7.3.7-win64\\site-packages (from requests>=2.20->coinoxr) (3.0.4)\n",
      "Requirement already satisfied: idna<3,>=2.5 in c:\\workfiles\\wpy64-37120\\pypy3.7-v7.3.7-win64\\site-packages (from requests>=2.20->coinoxr) (2.6)\n",
      "Requirement already satisfied: urllib3<1.27,>=1.21.1 in c:\\workfiles\\wpy64-37120\\pypy3.7-v7.3.7-win64\\site-packages (from requests>=2.20->coinoxr) (1.26.8)\n",
      "Requirement already satisfied: certifi>=2017.4.17 in c:\\workfiles\\wpy64-37120\\pypy3.7-v7.3.7-win64\\site-packages (from requests>=2.20->coinoxr) (2021.10.8)\n",
      "Installing collected packages: coinoxr\n",
      "Successfully installed coinoxr-0.0.1a0\n"
     ]
    }
   ],
   "source": [
    "%pip install coinoxr"
   ]
  },
  {
   "cell_type": "code",
   "execution_count": 10,
   "id": "e69e14be",
   "metadata": {},
   "outputs": [
    {
     "data": {
      "text/plain": [
       "Response(code=403, body={'error': True, 'status': 403, 'message': 'not_allowed', 'description': 'Changing the API `base` currency is available for Developer, Enterprise and Unlimited plan clients. Please upgrade, or contact support@openexchangerates.org with any questions.'})"
      ]
     },
     "execution_count": 10,
     "metadata": {},
     "output_type": "execute_result"
    }
   ],
   "source": [
    "import coinoxr\n",
    "coinoxr.app_id = \"ba30b50fbaff41c99cdefbc1b2f4d82c\"\n",
    "\n",
    "coinoxr.Latest().get(base=\"EUR\")"
   ]
  },
  {
   "cell_type": "code",
   "execution_count": 14,
   "id": "95b125ba",
   "metadata": {},
   "outputs": [],
   "source": [
    "f = coinoxr.Latest()"
   ]
  },
  {
   "cell_type": "code",
   "execution_count": 16,
   "id": "df57aa3b",
   "metadata": {},
   "outputs": [],
   "source": [
    "import json"
   ]
  },
  {
   "cell_type": "code",
   "execution_count": 17,
   "id": "eccde528",
   "metadata": {},
   "outputs": [],
   "source": [
    "json_rates = f.get()"
   ]
  },
  {
   "cell_type": "code",
   "execution_count": 21,
   "id": "2ed9a26e",
   "metadata": {},
   "outputs": [
    {
     "data": {
      "text/plain": [
       "coinoxr.response.Response"
      ]
     },
     "execution_count": 21,
     "metadata": {},
     "output_type": "execute_result"
    }
   ],
   "source": [
    "type(json_rates)"
   ]
  },
  {
   "cell_type": "code",
   "execution_count": 26,
   "id": "7112a0e8",
   "metadata": {},
   "outputs": [
    {
     "data": {
      "text/plain": [
       "dict"
      ]
     },
     "execution_count": 26,
     "metadata": {},
     "output_type": "execute_result"
    }
   ],
   "source": [
    "type(json_rates.body)"
   ]
  },
  {
   "cell_type": "code",
   "execution_count": 27,
   "id": "7ead1078",
   "metadata": {},
   "outputs": [],
   "source": [
    "conv_dict = f.get().body"
   ]
  },
  {
   "cell_type": "code",
   "execution_count": 36,
   "id": "5470914b",
   "metadata": {},
   "outputs": [
    {
     "data": {
      "text/plain": [
       "76.135507"
      ]
     },
     "execution_count": 36,
     "metadata": {},
     "output_type": "execute_result"
    }
   ],
   "source": [
    "conv_dict.get('rates')['INR']"
   ]
  },
  {
   "cell_type": "code",
   "execution_count": 39,
   "id": "67d5862e",
   "metadata": {},
   "outputs": [
    {
     "data": {
      "text/plain": [
       "dict_keys(['AED', 'AFN', 'ALL', 'AMD', 'ANG', 'AOA', 'ARS', 'AUD', 'AWG', 'AZN', 'BAM', 'BBD', 'BDT', 'BGN', 'BHD', 'BIF', 'BMD', 'BND', 'BOB', 'BRL', 'BSD', 'BTC', 'BTN', 'BWP', 'BYN', 'BZD', 'CAD', 'CDF', 'CHF', 'CLF', 'CLP', 'CNH', 'CNY', 'COP', 'CRC', 'CUC', 'CUP', 'CVE', 'CZK', 'DJF', 'DKK', 'DOP', 'DZD', 'EGP', 'ERN', 'ETB', 'EUR', 'FJD', 'FKP', 'GBP', 'GEL', 'GGP', 'GHS', 'GIP', 'GMD', 'GNF', 'GTQ', 'GYD', 'HKD', 'HNL', 'HRK', 'HTG', 'HUF', 'IDR', 'ILS', 'IMP', 'INR', 'IQD', 'IRR', 'ISK', 'JEP', 'JMD', 'JOD', 'JPY', 'KES', 'KGS', 'KHR', 'KMF', 'KPW', 'KRW', 'KWD', 'KYD', 'KZT', 'LAK', 'LBP', 'LKR', 'LRD', 'LSL', 'LYD', 'MAD', 'MDL', 'MGA', 'MKD', 'MMK', 'MNT', 'MOP', 'MRU', 'MUR', 'MVR', 'MWK', 'MXN', 'MYR', 'MZN', 'NAD', 'NGN', 'NIO', 'NOK', 'NPR', 'NZD', 'OMR', 'PAB', 'PEN', 'PGK', 'PHP', 'PKR', 'PLN', 'PYG', 'QAR', 'RON', 'RSD', 'RUB', 'RWF', 'SAR', 'SBD', 'SCR', 'SDG', 'SEK', 'SGD', 'SHP', 'SLL', 'SOS', 'SRD', 'SSP', 'STD', 'STN', 'SVC', 'SYP', 'SZL', 'THB', 'TJS', 'TMT', 'TND', 'TOP', 'TRY', 'TTD', 'TWD', 'TZS', 'UAH', 'UGX', 'USD', 'UYU', 'UZS', 'VES', 'VND', 'VUV', 'WST', 'XAF', 'XAG', 'XAU', 'XCD', 'XDR', 'XOF', 'XPD', 'XPF', 'XPT', 'YER', 'ZAR', 'ZMW', 'ZWL'])"
      ]
     },
     "execution_count": 39,
     "metadata": {},
     "output_type": "execute_result"
    }
   ],
   "source": [
    "conv_count = conv_dict.get('rates')\n",
    "conv_count.keys()"
   ]
  },
  {
   "cell_type": "code",
   "execution_count": 41,
   "id": "839ccee0",
   "metadata": {},
   "outputs": [
    {
     "data": {
      "text/plain": [
       "0.935042"
      ]
     },
     "execution_count": 41,
     "metadata": {},
     "output_type": "execute_result"
    }
   ],
   "source": [
    "conv_count['CHF']"
   ]
  },
  {
   "cell_type": "code",
   "execution_count": 42,
   "id": "0956882d",
   "metadata": {},
   "outputs": [
    {
     "data": {
      "text/plain": [
       "490.095456"
      ]
     },
     "execution_count": 42,
     "metadata": {},
     "output_type": "execute_result"
    }
   ],
   "source": [
    "conv_count['AMD']"
   ]
  }
 ],
 "metadata": {
  "kernelspec": {
   "display_name": "Python 3 (ipykernel)",
   "language": "python",
   "name": "python3"
  },
  "language_info": {
   "codemirror_mode": {
    "name": "ipython",
    "version": 3
   },
   "file_extension": ".py",
   "mimetype": "text/x-python",
   "name": "python",
   "nbconvert_exporter": "python",
   "pygments_lexer": "ipython3",
   "version": "3.7.12"
  }
 },
 "nbformat": 4,
 "nbformat_minor": 5
}
