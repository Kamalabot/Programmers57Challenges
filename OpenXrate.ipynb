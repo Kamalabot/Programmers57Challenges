{
 "cells": [
  {
   "cell_type": "markdown",
   "id": "11e15769",
   "metadata": {},
   "source": [
    "This notebook shows the Open Exchange rate data being accessed through the community"
   ]
  },
  {
   "cell_type": "code",
   "execution_count": 1,
   "id": "7d459e08",
   "metadata": {},
   "outputs": [
    {
     "name": "stdout",
     "output_type": "stream",
     "text": [
      "Collecting stdiomask\n",
      "  Downloading stdiomask-0.0.6.tar.gz (3.6 kB)\n",
      "  Installing build dependencies: started\n",
      "  Installing build dependencies: finished with status 'done'\n",
      "  Getting requirements to build wheel: started\n",
      "  Getting requirements to build wheel: finished with status 'done'Note: you may need to restart the kernel to use updated packages.\n",
      "\n",
      "  Preparing metadata (pyproject.toml): started\n",
      "  Preparing metadata (pyproject.toml): finished with status 'done'\n",
      "Building wheels for collected packages: stdiomask\n",
      "  Building wheel for stdiomask (pyproject.toml): started\n",
      "  Building wheel for stdiomask (pyproject.toml): finished with status 'done'\n",
      "  Created wheel for stdiomask: filename=stdiomask-0.0.6-py3-none-any.whl size=3321 sha256=65ed20249032073052bd7a995dda602f3c3827fd74acc66641c8376595c57e17\n",
      "  Stored in directory: c:\\users\\d30001e013\\appdata\\local\\pip\\cache\\wheels\\91\\5c\\6a\\4fb34b107f76e982547dd2123f05b4364fccd74c2e8b36bea3\n",
      "Successfully built stdiomask\n",
      "Installing collected packages: stdiomask\n",
      "Successfully installed stdiomask-0.0.6\n"
     ]
    }
   ],
   "source": [
    "%pip install stdiomask"
   ]
  },
  {
   "cell_type": "code",
   "execution_count": 9,
   "id": "115a7656",
   "metadata": {},
   "outputs": [
    {
     "name": "stdout",
     "output_type": "stream",
     "text": [
      "Collecting coinoxr\n",
      "  Downloading coinoxr-0.0.1a0-py3-none-any.whl (6.8 kB)\n",
      "Requirement already satisfied: requests>=2.20 in c:\\workfiles\\wpy64-37120\\pypy3.7-v7.3.7-win64\\site-packages (from coinoxr) (2.25.1)Note: you may need to restart the kernel to use updated packages.\n",
      "\n",
      "Requirement already satisfied: chardet<5,>=3.0.2 in c:\\workfiles\\wpy64-37120\\pypy3.7-v7.3.7-win64\\site-packages (from requests>=2.20->coinoxr) (3.0.4)\n",
      "Requirement already satisfied: idna<3,>=2.5 in c:\\workfiles\\wpy64-37120\\pypy3.7-v7.3.7-win64\\site-packages (from requests>=2.20->coinoxr) (2.6)\n",
      "Requirement already satisfied: urllib3<1.27,>=1.21.1 in c:\\workfiles\\wpy64-37120\\pypy3.7-v7.3.7-win64\\site-packages (from requests>=2.20->coinoxr) (1.26.8)\n",
      "Requirement already satisfied: certifi>=2017.4.17 in c:\\workfiles\\wpy64-37120\\pypy3.7-v7.3.7-win64\\site-packages (from requests>=2.20->coinoxr) (2021.10.8)\n",
      "Installing collected packages: coinoxr\n",
      "Successfully installed coinoxr-0.0.1a0\n"
     ]
    }
   ],
   "source": [
    "%pip install coinoxr"
   ]
  },
  {
   "cell_type": "code",
   "execution_count": 3,
   "id": "65e481a3",
   "metadata": {},
   "outputs": [
    {
     "data": {
      "text/plain": [
       "Response(code=403, body={'error': True, 'status': 403, 'message': 'not_allowed', 'description': 'Changing the API `base` currency is available for Developer, Enterprise and Unlimited plan clients. Please upgrade, or contact support@openexchangerates.org with any questions.'})"
      ]
     },
     "execution_count": 3,
     "metadata": {},
     "output_type": "execute_result"
    }
   ],
   "source": [
    "import coinoxr\n",
    "coinoxr.app_id = \"ba30b50fbaff41c99cdefbc1b2f4d82c\"\n",
    "\n",
    "coinoxr.Latest().get(base=\"EUR\")"
   ]
  },
  {
   "cell_type": "code",
   "execution_count": 4,
   "id": "77edf3f3",
   "metadata": {},
   "outputs": [],
   "source": [
    "f = coinoxr.Latest()"
   ]
  },
  {
   "cell_type": "code",
   "execution_count": 5,
   "id": "b7eda4fe",
   "metadata": {},
   "outputs": [],
   "source": [
    "import json"
   ]
  },
  {
   "cell_type": "code",
   "execution_count": 17,
   "id": "d1644858",
   "metadata": {},
   "outputs": [],
   "source": [
    "json_rates = f.get()"
   ]
  },
  {
   "cell_type": "code",
   "execution_count": 21,
   "id": "0220df3f",
   "metadata": {},
   "outputs": [
    {
     "data": {
      "text/plain": [
       "coinoxr.response.Response"
      ]
     },
     "execution_count": 21,
     "metadata": {},
     "output_type": "execute_result"
    }
   ],
   "source": [
    "type(json_rates)"
   ]
  },
  {
   "cell_type": "code",
   "execution_count": 26,
   "id": "6e4a2445",
   "metadata": {},
   "outputs": [
    {
     "data": {
      "text/plain": [
       "dict"
      ]
     },
     "execution_count": 26,
     "metadata": {},
     "output_type": "execute_result"
    }
   ],
   "source": [
    "type(json_rates.body)"
   ]
  },
  {
   "cell_type": "code",
   "execution_count": 27,
   "id": "79e44440",
   "metadata": {},
   "outputs": [],
   "source": [
    "conv_dict = f.get().body"
   ]
  },
  {
   "cell_type": "code",
   "execution_count": 36,
   "id": "a74e4332",
   "metadata": {},
   "outputs": [
    {
     "data": {
      "text/plain": [
       "76.135507"
      ]
     },
     "execution_count": 36,
     "metadata": {},
     "output_type": "execute_result"
    }
   ],
   "source": [
    "conv_dict.get('rates')['INR']"
   ]
  },
  {
   "cell_type": "code",
   "execution_count": 39,
   "id": "f7657a68",
   "metadata": {},
   "outputs": [
    {
     "data": {
      "text/plain": [
       "dict_keys(['AED', 'AFN', 'ALL', 'AMD', 'ANG', 'AOA', 'ARS', 'AUD', 'AWG', 'AZN', 'BAM', 'BBD', 'BDT', 'BGN', 'BHD', 'BIF', 'BMD', 'BND', 'BOB', 'BRL', 'BSD', 'BTC', 'BTN', 'BWP', 'BYN', 'BZD', 'CAD', 'CDF', 'CHF', 'CLF', 'CLP', 'CNH', 'CNY', 'COP', 'CRC', 'CUC', 'CUP', 'CVE', 'CZK', 'DJF', 'DKK', 'DOP', 'DZD', 'EGP', 'ERN', 'ETB', 'EUR', 'FJD', 'FKP', 'GBP', 'GEL', 'GGP', 'GHS', 'GIP', 'GMD', 'GNF', 'GTQ', 'GYD', 'HKD', 'HNL', 'HRK', 'HTG', 'HUF', 'IDR', 'ILS', 'IMP', 'INR', 'IQD', 'IRR', 'ISK', 'JEP', 'JMD', 'JOD', 'JPY', 'KES', 'KGS', 'KHR', 'KMF', 'KPW', 'KRW', 'KWD', 'KYD', 'KZT', 'LAK', 'LBP', 'LKR', 'LRD', 'LSL', 'LYD', 'MAD', 'MDL', 'MGA', 'MKD', 'MMK', 'MNT', 'MOP', 'MRU', 'MUR', 'MVR', 'MWK', 'MXN', 'MYR', 'MZN', 'NAD', 'NGN', 'NIO', 'NOK', 'NPR', 'NZD', 'OMR', 'PAB', 'PEN', 'PGK', 'PHP', 'PKR', 'PLN', 'PYG', 'QAR', 'RON', 'RSD', 'RUB', 'RWF', 'SAR', 'SBD', 'SCR', 'SDG', 'SEK', 'SGD', 'SHP', 'SLL', 'SOS', 'SRD', 'SSP', 'STD', 'STN', 'SVC', 'SYP', 'SZL', 'THB', 'TJS', 'TMT', 'TND', 'TOP', 'TRY', 'TTD', 'TWD', 'TZS', 'UAH', 'UGX', 'USD', 'UYU', 'UZS', 'VES', 'VND', 'VUV', 'WST', 'XAF', 'XAG', 'XAU', 'XCD', 'XDR', 'XOF', 'XPD', 'XPF', 'XPT', 'YER', 'ZAR', 'ZMW', 'ZWL'])"
      ]
     },
     "execution_count": 39,
     "metadata": {},
     "output_type": "execute_result"
    }
   ],
   "source": [
    "conv_count = conv_dict.get('rates')\n",
    "conv_count.keys()"
   ]
  },
  {
   "cell_type": "code",
   "execution_count": 41,
   "id": "c9319bd0",
   "metadata": {},
   "outputs": [
    {
     "data": {
      "text/plain": [
       "0.935042"
      ]
     },
     "execution_count": 41,
     "metadata": {},
     "output_type": "execute_result"
    }
   ],
   "source": [
    "conv_count['CHF']"
   ]
  },
  {
   "cell_type": "code",
   "execution_count": 42,
   "id": "7a20cb96",
   "metadata": {},
   "outputs": [
    {
     "data": {
      "text/plain": [
       "490.095456"
      ]
     },
     "execution_count": 42,
     "metadata": {},
     "output_type": "execute_result"
    }
   ],
   "source": [
    "conv_count['AMD']"
   ]
  }
 ],
 "metadata": {
  "kernelspec": {
   "display_name": "Python 3 (ipykernel)",
   "language": "python",
   "name": "python3"
  },
  "language_info": {
   "codemirror_mode": {
    "name": "ipython",
    "version": 3
   },
   "file_extension": ".py",
   "mimetype": "text/x-python",
   "name": "python",
   "nbconvert_exporter": "python",
   "pygments_lexer": "ipython3",
   "version": "3.7.12"
  }
 },
 "nbformat": 4,
 "nbformat_minor": 5
}
