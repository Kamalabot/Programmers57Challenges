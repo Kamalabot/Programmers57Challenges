{
 "cells": [
  {
   "cell_type": "code",
   "execution_count": 1,
   "metadata": {},
   "outputs": [],
   "source": [
    "import os"
   ]
  },
  {
   "cell_type": "code",
   "execution_count": 2,
   "metadata": {},
   "outputs": [
    {
     "data": {
      "text/plain": [
       "'nt'"
      ]
     },
     "execution_count": 2,
     "metadata": {},
     "output_type": "execute_result"
    }
   ],
   "source": [
    "os.name"
   ]
  },
  {
   "cell_type": "code",
   "execution_count": 3,
   "metadata": {},
   "outputs": [
    {
     "data": {
      "text/plain": [
       "OSError"
      ]
     },
     "execution_count": 3,
     "metadata": {},
     "output_type": "execute_result"
    }
   ],
   "source": [
    "os.error"
   ]
  },
  {
   "cell_type": "code",
   "execution_count": 6,
   "metadata": {},
   "outputs": [
    {
     "data": {
      "text/plain": [
       "nt.uname_result"
      ]
     },
     "execution_count": 6,
     "metadata": {},
     "output_type": "execute_result"
    }
   ],
   "source": [
    "os.uname_result"
   ]
  },
  {
   "cell_type": "code",
   "execution_count": 9,
   "metadata": {},
   "outputs": [
    {
     "data": {
      "text/plain": [
       "<field nodename (name of machine on network (implementation-defined)>"
      ]
     },
     "execution_count": 9,
     "metadata": {},
     "output_type": "execute_result"
    }
   ],
   "source": [
    "os.uname_result.nodename"
   ]
  },
  {
   "cell_type": "code",
   "execution_count": 17,
   "metadata": {},
   "outputs": [
    {
     "data": {
      "text/plain": [
       "'C:\\\\ProgramData'"
      ]
     },
     "execution_count": 17,
     "metadata": {},
     "output_type": "execute_result"
    }
   ],
   "source": [
    "os.environ.get('ALLUSERSPROFILE')"
   ]
  },
  {
   "cell_type": "code",
   "execution_count": null,
   "metadata": {},
   "outputs": [
    {
     "data": {
      "text/plain": [
       "'C:\\\\ProgramData'"
      ]
     },
     "metadata": {},
     "output_type": "display_data"
    }
   ],
   "source": [
    "os.environ.get('ALLUSERSPROFILE')"
   ]
  },
  {
   "cell_type": "code",
   "execution_count": 19,
   "metadata": {},
   "outputs": [
    {
     "data": {
      "text/plain": [
       "'NIND_SALES-0003'"
      ]
     },
     "execution_count": 19,
     "metadata": {},
     "output_type": "execute_result"
    }
   ],
   "source": [
    "os.environ.get('COMPUTERNAME')"
   ]
  },
  {
   "cell_type": "code",
   "execution_count": 20,
   "metadata": {},
   "outputs": [
    {
     "data": {
      "text/plain": [
       "'c:\\\\WorkFiles\\\\WPy64-37120\\\\notebooks\\\\Programmers57Challenges'"
      ]
     },
     "execution_count": 20,
     "metadata": {},
     "output_type": "execute_result"
    }
   ],
   "source": [
    "os.getcwd()"
   ]
  },
  {
   "cell_type": "code",
   "execution_count": 22,
   "metadata": {},
   "outputs": [
    {
     "data": {
      "text/plain": [
       "['.git',\n",
       " '.ipynb_checkpoints',\n",
       " 'age.py',\n",
       " 'copilot.py',\n",
       " 'empl_read.txt',\n",
       " 'exe1.py',\n",
       " 'exe10.py',\n",
       " 'exe10_indeterminate.py',\n",
       " 'exe11_API_OXR.py',\n",
       " 'exe11_Conv_dict.py']"
      ]
     },
     "execution_count": 22,
     "metadata": {},
     "output_type": "execute_result"
    }
   ],
   "source": [
    "os.listdir('.')[:10]"
   ]
  },
  {
   "cell_type": "code",
   "execution_count": 23,
   "metadata": {},
   "outputs": [
    {
     "data": {
      "text/plain": [
       "['.ipynb_checkpoints',\n",
       " '.virtual_documents',\n",
       " '.vscode',\n",
       " 'BIdata',\n",
       " 'Data Files',\n",
       " 'data-science-from-scratch',\n",
       " 'Datagathering_Automation',\n",
       " 'DAV_Git',\n",
       " 'docs',\n",
       " 'DS_fromScratch']"
      ]
     },
     "execution_count": 23,
     "metadata": {},
     "output_type": "execute_result"
    }
   ],
   "source": [
    "os.chdir('..')\n",
    "os.listdir('.')[:10]"
   ]
  },
  {
   "cell_type": "code",
   "execution_count": 24,
   "metadata": {},
   "outputs": [
    {
     "data": {
      "text/plain": [
       "['.git',\n",
       " '.ipynb_checkpoints',\n",
       " 'age.py',\n",
       " 'copilot.py',\n",
       " 'empl_read.txt',\n",
       " 'exe1.py',\n",
       " 'exe10.py',\n",
       " 'exe10_indeterminate.py',\n",
       " 'exe11_API_OXR.py',\n",
       " 'exe11_Conv_dict.py']"
      ]
     },
     "execution_count": 24,
     "metadata": {},
     "output_type": "execute_result"
    }
   ],
   "source": [
    "os.chdir('Programmers57Challenges')\n",
    "os.listdir('.')[:10]"
   ]
  },
  {
   "cell_type": "code",
   "execution_count": 25,
   "metadata": {},
   "outputs": [
    {
     "data": {
      "text/plain": [
       "[]"
      ]
     },
     "execution_count": 25,
     "metadata": {},
     "output_type": "execute_result"
    }
   ],
   "source": [
    "os.makedirs('local_dir')\n",
    "os.chdir('local_dir')\n",
    "os.listdir('.')"
   ]
  },
  {
   "cell_type": "code",
   "execution_count": 27,
   "metadata": {},
   "outputs": [],
   "source": [
    "os.chdir('..')"
   ]
  },
  {
   "cell_type": "code",
   "execution_count": 30,
   "metadata": {},
   "outputs": [
    {
     "name": "stdout",
     "output_type": "stream",
     "text": [
      "Current Path: .\n",
      "\n",
      "Current Path: .\\.git\n",
      "\n",
      "Current Path: .\\.git\\hooks\n",
      "\n",
      "Current Path: .\\.git\\info\n",
      "\n",
      "Current Path: .\\.git\\logs\n",
      "\n",
      "Current Path: .\\.git\\logs\\refs\n",
      "\n",
      "Current Path: .\\.git\\logs\\refs\\heads\n",
      "\n",
      "Current Path: .\\.git\\logs\\refs\\remotes\n",
      "\n",
      "Current Path: .\\.git\\logs\\refs\\remotes\\origin\n",
      "\n",
      "Current Path: .\\.git\\objects\n",
      "\n",
      "Current Path: .\\.git\\objects\\07\n",
      "\n",
      "Current Path: .\\.git\\objects\\08\n",
      "\n",
      "Current Path: .\\.git\\objects\\09\n",
      "\n",
      "Current Path: .\\.git\\objects\\0c\n",
      "\n",
      "Current Path: .\\.git\\objects\\0d\n",
      "\n",
      "Current Path: .\\.git\\objects\\0f\n",
      "\n",
      "Current Path: .\\.git\\objects\\14\n",
      "\n",
      "Current Path: .\\.git\\objects\\15\n",
      "\n",
      "Current Path: .\\.git\\objects\\22\n",
      "\n",
      "Current Path: .\\.git\\objects\\2c\n",
      "\n",
      "Current Path: .\\.git\\objects\\31\n",
      "\n",
      "Current Path: .\\.git\\objects\\35\n",
      "\n",
      "Current Path: .\\.git\\objects\\36\n",
      "\n",
      "Current Path: .\\.git\\objects\\37\n",
      "\n",
      "Current Path: .\\.git\\objects\\38\n",
      "\n",
      "Current Path: .\\.git\\objects\\39\n",
      "\n",
      "Current Path: .\\.git\\objects\\3c\n",
      "\n",
      "Current Path: .\\.git\\objects\\3e\n",
      "\n",
      "Current Path: .\\.git\\objects\\3f\n",
      "\n",
      "Current Path: .\\.git\\objects\\43\n",
      "\n",
      "Current Path: .\\.git\\objects\\44\n",
      "\n",
      "Current Path: .\\.git\\objects\\46\n",
      "\n",
      "Current Path: .\\.git\\objects\\4b\n",
      "\n",
      "Current Path: .\\.git\\objects\\4e\n",
      "\n",
      "Current Path: .\\.git\\objects\\50\n",
      "\n",
      "Current Path: .\\.git\\objects\\54\n",
      "\n",
      "Current Path: .\\.git\\objects\\58\n",
      "\n",
      "Current Path: .\\.git\\objects\\5b\n",
      "\n",
      "Current Path: .\\.git\\objects\\5c\n",
      "\n",
      "Current Path: .\\.git\\objects\\6f\n",
      "\n",
      "Current Path: .\\.git\\objects\\70\n",
      "\n",
      "Current Path: .\\.git\\objects\\71\n",
      "\n",
      "Current Path: .\\.git\\objects\\72\n",
      "\n",
      "Current Path: .\\.git\\objects\\74\n",
      "\n",
      "Current Path: .\\.git\\objects\\81\n",
      "\n",
      "Current Path: .\\.git\\objects\\82\n",
      "\n",
      "Current Path: .\\.git\\objects\\86\n",
      "\n",
      "Current Path: .\\.git\\objects\\87\n",
      "\n",
      "Current Path: .\\.git\\objects\\90\n",
      "\n",
      "Current Path: .\\.git\\objects\\91\n",
      "\n",
      "Current Path: .\\.git\\objects\\94\n",
      "\n",
      "Current Path: .\\.git\\objects\\95\n",
      "\n",
      "Current Path: .\\.git\\objects\\98\n",
      "\n",
      "Current Path: .\\.git\\objects\\9b\n",
      "\n",
      "Current Path: .\\.git\\objects\\a4\n",
      "\n",
      "Current Path: .\\.git\\objects\\a5\n",
      "\n",
      "Current Path: .\\.git\\objects\\ab\n",
      "\n",
      "Current Path: .\\.git\\objects\\b1\n",
      "\n",
      "Current Path: .\\.git\\objects\\b6\n",
      "\n",
      "Current Path: .\\.git\\objects\\ba\n",
      "\n",
      "Current Path: .\\.git\\objects\\be\n",
      "\n",
      "Current Path: .\\.git\\objects\\c2\n",
      "\n",
      "Current Path: .\\.git\\objects\\ca\n",
      "\n",
      "Current Path: .\\.git\\objects\\cf\n",
      "\n",
      "Current Path: .\\.git\\objects\\d0\n",
      "\n",
      "Current Path: .\\.git\\objects\\db\n",
      "\n",
      "Current Path: .\\.git\\objects\\de\n",
      "\n",
      "Current Path: .\\.git\\objects\\e4\n",
      "\n",
      "Current Path: .\\.git\\objects\\e6\n",
      "\n",
      "Current Path: .\\.git\\objects\\ef\n",
      "\n",
      "Current Path: .\\.git\\objects\\f0\n",
      "\n",
      "Current Path: .\\.git\\objects\\f5\n",
      "\n",
      "Current Path: .\\.git\\objects\\f8\n",
      "\n",
      "Current Path: .\\.git\\objects\\ff\n",
      "\n",
      "Current Path: .\\.git\\objects\\info\n",
      "\n",
      "Current Path: .\\.git\\objects\\pack\n",
      "\n",
      "Current Path: .\\.git\\refs\n",
      "\n",
      "Current Path: .\\.git\\refs\\heads\n",
      "\n",
      "Current Path: .\\.git\\refs\\remotes\n",
      "\n",
      "Current Path: .\\.git\\refs\\remotes\\origin\n",
      "\n",
      "Current Path: .\\.git\\refs\\tags\n",
      "\n",
      "Current Path: .\\.ipynb_checkpoints\n",
      "\n",
      "Current Path: .\\local_dir\n",
      "\n",
      "Current Path: .\\__pycache__\n",
      "\n"
     ]
    }
   ],
   "source": [
    "for dirpath, dirnames, files in os.walk('.'):\n",
    "    print('Current Path:', dirpath)\n",
    "    #print('Directories:', dirnames)\n",
    "    #print('Files:', files)\n",
    "    print()"
   ]
  },
  {
   "cell_type": "code",
   "execution_count": 31,
   "metadata": {},
   "outputs": [],
   "source": [
    "base_path = \"C:\\\\WorkFiles\\\\WPy64-37120\\\\notebooks\\\\Programmers57Challenges\\\\\""
   ]
  },
  {
   "cell_type": "code",
   "execution_count": 32,
   "metadata": {},
   "outputs": [
    {
     "name": "stdout",
     "output_type": "stream",
     "text": [
      "C:\\WorkFiles\\WPy64-37120\\notebooks\\Programmers57Challenges\\\n"
     ]
    }
   ],
   "source": [
    "print(base_path)\n",
    "#When printing the path, the backslash is escaped with another backslash."
   ]
  },
  {
   "cell_type": "code",
   "execution_count": 33,
   "metadata": {},
   "outputs": [
    {
     "data": {
      "text/plain": [
       "'C:\\\\WorkFiles\\\\WPy64-37120\\\\notebooks\\\\Programmers57Challenges\\\\local_dir'"
      ]
     },
     "execution_count": 33,
     "metadata": {},
     "output_type": "execute_result"
    }
   ],
   "source": [
    "os.path.join(base_path, 'local_dir')"
   ]
  },
  {
   "cell_type": "code",
   "execution_count": 35,
   "metadata": {},
   "outputs": [
    {
     "data": {
      "text/plain": [
       "'local_dir'"
      ]
     },
     "execution_count": 35,
     "metadata": {},
     "output_type": "execute_result"
    }
   ],
   "source": [
    "os.path.basename('C:\\\\WorkFiles\\\\WPy64-37120\\\\notebooks\\\\Programmers57Challenges\\\\local_dir')"
   ]
  },
  {
   "cell_type": "code",
   "execution_count": 37,
   "metadata": {},
   "outputs": [
    {
     "data": {
      "text/plain": [
       "'C:\\\\WorkFiles\\\\WPy64-37120\\\\notebooks\\\\Programmers57Challenges'"
      ]
     },
     "execution_count": 37,
     "metadata": {},
     "output_type": "execute_result"
    }
   ],
   "source": [
    "os.path.split('C:\\\\WorkFiles\\\\WPy64-37120\\\\notebooks\\\\Programmers57Challenges\\\\local_dir')[0]"
   ]
  },
  {
   "cell_type": "code",
   "execution_count": 38,
   "metadata": {},
   "outputs": [
    {
     "data": {
      "text/plain": [
       "1649089075.1058037"
      ]
     },
     "execution_count": 38,
     "metadata": {},
     "output_type": "execute_result"
    }
   ],
   "source": [
    "os.path.getmtime('local_dir')"
   ]
  },
  {
   "cell_type": "code",
   "execution_count": 39,
   "metadata": {},
   "outputs": [
    {
     "data": {
      "text/plain": [
       "1649089459.921484"
      ]
     },
     "execution_count": 39,
     "metadata": {},
     "output_type": "execute_result"
    }
   ],
   "source": [
    "os.path.getatime('local_dir')"
   ]
  },
  {
   "cell_type": "code",
   "execution_count": 41,
   "metadata": {},
   "outputs": [
    {
     "data": {
      "text/plain": [
       "'c:\\\\WorkFiles\\\\WPy64-37120\\\\notebooks\\\\Programmers57Challenges\\\\local_dir'"
      ]
     },
     "execution_count": 41,
     "metadata": {},
     "output_type": "execute_result"
    }
   ],
   "source": [
    "os.path.abspath('local_dir')"
   ]
  },
  {
   "cell_type": "code",
   "execution_count": 45,
   "metadata": {},
   "outputs": [
    {
     "data": {
      "text/plain": [
       "True"
      ]
     },
     "execution_count": 45,
     "metadata": {},
     "output_type": "execute_result"
    }
   ],
   "source": [
    "os.path.isfile('./raw_data.txt')"
   ]
  },
  {
   "cell_type": "code",
   "execution_count": 47,
   "metadata": {},
   "outputs": [
    {
     "data": {
      "text/plain": [
       "True"
      ]
     },
     "execution_count": 47,
     "metadata": {},
     "output_type": "execute_result"
    }
   ],
   "source": [
    "os.path.isdir('local_dir')"
   ]
  },
  {
   "cell_type": "code",
   "execution_count": null,
   "metadata": {},
   "outputs": [],
   "source": [
    "s"
   ]
  }
 ],
 "metadata": {
  "interpreter": {
   "hash": "a42c93b5eee6b56421653baa65deacde473063d5c4965d27c7a75f4e31a8d403"
  },
  "kernelspec": {
   "display_name": "Python 3.7.12 64-bit (system)",
   "language": "python",
   "name": "python3"
  },
  "language_info": {
   "codemirror_mode": {
    "name": "ipython",
    "version": 3
   },
   "file_extension": ".py",
   "mimetype": "text/x-python",
   "name": "python",
   "nbconvert_exporter": "python",
   "pygments_lexer": "ipython3",
   "version": "3.7.12"
  },
  "orig_nbformat": 4
 },
 "nbformat": 4,
 "nbformat_minor": 2
}
