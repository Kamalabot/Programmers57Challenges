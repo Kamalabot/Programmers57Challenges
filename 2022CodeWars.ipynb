{
 "cells": [
  {
   "cell_type": "code",
   "execution_count": 1,
   "metadata": {},
   "outputs": [],
   "source": [
    "def counting_sheep(friday,saturday,total):\n",
    "    return total - sum(friday)+sum(saturday)"
   ]
  },
  {
   "cell_type": "code",
   "execution_count": 10,
   "metadata": {},
   "outputs": [
    {
     "data": {
      "text/plain": [
       "'th'"
      ]
     },
     "execution_count": 10,
     "metadata": {},
     "output_type": "execute_result"
    }
   ],
   "source": [
    "eh = 'theiv'\n",
    "eh[:2]"
   ]
  },
  {
   "cell_type": "code",
   "execution_count": 11,
   "metadata": {},
   "outputs": [
    {
     "name": "stdout",
     "output_type": "stream",
     "text": [
      "theiv_\n"
     ]
    },
    {
     "data": {
      "text/plain": [
       "['th', 'ei', 'v_']"
      ]
     },
     "execution_count": 11,
     "metadata": {},
     "output_type": "execute_result"
    }
   ],
   "source": [
    "def splitter(str_):\n",
    "    splitted = [];\n",
    "    str_ = str_ + \"_\"\n",
    "    print(str_)\n",
    "    i = 0\n",
    "    while True:\n",
    "        splitted.append(str_[i : i + 2])\n",
    "        i = i + 2\n",
    "\n",
    "        if i >= (len(str_) - 1):\n",
    "            break\n",
    "\n",
    "    return splitted\n",
    "splitter(eh)"
   ]
  },
  {
   "cell_type": "code",
   "execution_count": 1,
   "metadata": {},
   "outputs": [
    {
     "data": {
      "text/plain": [
       "'Ther'"
      ]
     },
     "execution_count": 1,
     "metadata": {},
     "output_type": "execute_result"
    }
   ],
   "source": [
    "'ther'.capitalize()"
   ]
  },
  {
   "cell_type": "code",
   "execution_count": 2,
   "metadata": {},
   "outputs": [],
   "source": [
    "def jaden_case(string):\n",
    "    return ' '.join([c.capitalize() for c in string.split(' ')])"
   ]
  },
  {
   "cell_type": "code",
   "execution_count": 22,
   "metadata": {},
   "outputs": [
    {
     "name": "stdout",
     "output_type": "stream",
     "text": [
      "The quick brown fox\n",
      "12.87001287001287\n",
      "the result was 12.9\n"
     ]
    }
   ],
   "source": [
    "print('The {2} {1} {0}'.format('fox', 'brown', 'quick'))\n",
    "\n",
    "result = 10000/777\n",
    "\n",
    "print('{newvar}'.format(newvar = result))\n",
    "\n",
    "print('the result was {r:1.1f}'.format(r = result))"
   ]
  },
  {
   "cell_type": "code",
   "execution_count": 16,
   "metadata": {},
   "outputs": [
    {
     "data": {
      "text/plain": [
       "True"
      ]
     },
     "execution_count": 16,
     "metadata": {},
     "output_type": "execute_result"
    }
   ],
   "source": [
    "t = '586.7'\n",
    "isinstance(t,str)"
   ]
  },
  {
   "cell_type": "code",
   "execution_count": 64,
   "metadata": {},
   "outputs": [],
   "source": [
    "def process_order(order_list):\n",
    "    \"\"\"Processes individual orders and returns the value\"\"\"\n",
    "    buy = 0\n",
    "    sell = 0\n",
    "    for order in order_list:\n",
    "\n",
    "        #strip the orders of whitspace and then split\n",
    "        order = order.strip().split(' ')\n",
    "        #print(order)\n",
    "        if order[3] == 'B':\n",
    "            buy = buy + int(order[1]) * float(order[2])\n",
    "        if order[3] == 'S':\n",
    "            sell = sell + int(order[1]) * float(order[2])\n",
    "\n",
    "    print('Buy: {buy:0.0f} Sell: {sell:0.0f}'.format(buy = buy, sell = sell))\n",
    "\n",
    "\n",
    "def check_orders(order_list):\n",
    "    \"\"\"Checks the individual orders if they are formed as per rules. Check the following\n",
    "    Name : string\n",
    "    order : int\n",
    "    price : float\n",
    "    type : string\"\"\"\n",
    "    buy = 0\n",
    "    sell = 0\n",
    "\n",
    "    for ind, ind_order in enumerate(order_list):\n",
    "        #strip the orders of whitspace and then split\n",
    "        order = ind_order.strip().split(' ')\n",
    "        try:\n",
    "            order[1] = int(order[1])\n",
    "            order[2] = float(order[2])\n",
    "\n",
    "        except:\n",
    "\n",
    "            print(\"Buy: {buy:0.0f} Sell: {sell:0.0f}; Badly formed {ind}: {order};{remaining_list};\".format(buy = buy, sell = sell, ind = ind, order = ind_order, remaining_list = order_list[ind + 1:][0]))\n",
    "            return\n",
    "\n",
    "        if order[3] == 'B':\n",
    "            buy = buy + int(order[1]) * float(order[2])\n",
    "        \n",
    "        if order[3] == 'S':\n",
    "            sell = sell + int(order[1]) * float(order[2])\n",
    "\n",
    "    \n",
    "    print('Buy: {buy:0.0f} Sell: {sell:0.0f}'.format(buy = buy, sell = sell))\n",
    "        \n",
    "\n",
    "\n",
    "def balance_stmt(lst):\n",
    "    if lst == []:\n",
    "        return \"Buy: 0 Sell: 0\"\n",
    "\n",
    "    orders = lst.split(',')\n",
    "\n",
    "    buy = 0\n",
    "    sell = 0\n",
    "\n",
    "    for ind, ind_order in enumerate(orders):\n",
    "        #strip the orders of whitspace and then split\n",
    "        order = ind_order.strip().split(' ')\n",
    "        try:\n",
    "            order[1] = int(order[1])\n",
    "            order[2] = float(order[2])\n",
    "\n",
    "        except:\n",
    "\n",
    "            print(\"Buy: {buy:0.0f} Sell: {sell:0.0f}; Badly formed {ind}: {order};{remaining_list};\".format(buy = buy, sell = sell, ind = ind, order = ind_order, remaining_list = orders[ind + 1:][0]))\n",
    "            return\n",
    "\n",
    "        if order[3] == 'B':\n",
    "            buy = buy + int(order[1]) * float(order[2])\n",
    "        \n",
    "        if order[3] == 'S':\n",
    "            sell = sell + int(order[1]) * float(order[2])\n",
    "\n",
    "    \n",
    "    print('Buy: {buy:0.0f} Sell: {sell:0.0f}'.format(buy = buy, sell = sell))\n"
   ]
  },
  {
   "cell_type": "code",
   "execution_count": 31,
   "metadata": {},
   "outputs": [
    {
     "data": {
      "text/plain": [
       "True"
      ]
     },
     "execution_count": 31,
     "metadata": {},
     "output_type": "execute_result"
    }
   ],
   "source": [
    "isinstance('B',str)"
   ]
  },
  {
   "cell_type": "code",
   "execution_count": 62,
   "metadata": {},
   "outputs": [
    {
     "name": "stdout",
     "output_type": "stream",
     "text": [
      "Buy: 29499 Sell: 0\n"
     ]
    }
   ],
   "source": [
    "lOrd = \"ZNGA 1300 2.66 B, CLH15.NYM 50 56.32 B, OWW 1000 11.623 B, OGG 20 580.1 B\"\n",
    "\n",
    "balance_stmt(lOrd)"
   ]
  },
  {
   "cell_type": "code",
   "execution_count": 65,
   "metadata": {},
   "outputs": [
    {
     "name": "stdout",
     "output_type": "stream",
     "text": [
      "Buy: 14440 Sell: 858; Badly formed 2:  MYSPACE 24.0 210 B; CITI 50 450 B;\n"
     ]
    }
   ],
   "source": [
    "mLor = \"GOOG 90 160.45 B, JPMC 67 12.8 S, MYSPACE 24.0 210 B, CITI 50 450 B, CSCO 100 55.5 S\"\n",
    "balance_stmt(mLor)"
   ]
  },
  {
   "cell_type": "code",
   "execution_count": 9,
   "metadata": {},
   "outputs": [],
   "source": [
    "import pandas as pd\n",
    "\n",
    "def rename_columns(df, names):\n",
    "    df_out = df.copy(deep=True)\n",
    "    df_out.columns = list(names)\n",
    "    return df_out\n"
   ]
  },
  {
   "cell_type": "code",
   "execution_count": 6,
   "metadata": {},
   "outputs": [
    {
     "data": {
      "text/plain": [
       "['a', 'b', 'c']"
      ]
     },
     "execution_count": 6,
     "metadata": {},
     "output_type": "execute_result"
    }
   ],
   "source": [
    "list('abc')"
   ]
  },
  {
   "cell_type": "code",
   "execution_count": 13,
   "metadata": {},
   "outputs": [
    {
     "data": {
      "text/html": [
       "<div>\n",
       "<style scoped>\n",
       "    .dataframe tbody tr th:only-of-type {\n",
       "        vertical-align: middle;\n",
       "    }\n",
       "\n",
       "    .dataframe tbody tr th {\n",
       "        vertical-align: top;\n",
       "    }\n",
       "\n",
       "    .dataframe thead th {\n",
       "        text-align: right;\n",
       "    }\n",
       "</style>\n",
       "<table border=\"1\" class=\"dataframe\">\n",
       "  <thead>\n",
       "    <tr style=\"text-align: right;\">\n",
       "      <th></th>\n",
       "      <th>1</th>\n",
       "      <th>2</th>\n",
       "      <th>3</th>\n",
       "    </tr>\n",
       "  </thead>\n",
       "  <tbody>\n",
       "    <tr>\n",
       "      <th>0</th>\n",
       "      <td>1</td>\n",
       "      <td>2</td>\n",
       "      <td>3</td>\n",
       "    </tr>\n",
       "    <tr>\n",
       "      <th>1</th>\n",
       "      <td>4</td>\n",
       "      <td>5</td>\n",
       "      <td>6</td>\n",
       "    </tr>\n",
       "  </tbody>\n",
       "</table>\n",
       "</div>"
      ],
      "text/plain": [
       "   1  2  3\n",
       "0  1  2  3\n",
       "1  4  5  6"
      ]
     },
     "execution_count": 13,
     "metadata": {},
     "output_type": "execute_result"
    }
   ],
   "source": [
    "df = pd.DataFrame(data=[[1,2,3], [4,5,6]], columns=list('123'))\n",
    "df"
   ]
  },
  {
   "cell_type": "code",
   "execution_count": 7,
   "metadata": {},
   "outputs": [
    {
     "data": {
      "text/html": [
       "<div>\n",
       "<style scoped>\n",
       "    .dataframe tbody tr th:only-of-type {\n",
       "        vertical-align: middle;\n",
       "    }\n",
       "\n",
       "    .dataframe tbody tr th {\n",
       "        vertical-align: top;\n",
       "    }\n",
       "\n",
       "    .dataframe thead th {\n",
       "        text-align: right;\n",
       "    }\n",
       "</style>\n",
       "<table border=\"1\" class=\"dataframe\">\n",
       "  <thead>\n",
       "    <tr style=\"text-align: right;\">\n",
       "      <th></th>\n",
       "      <th>a</th>\n",
       "      <th>b</th>\n",
       "      <th>c</th>\n",
       "    </tr>\n",
       "  </thead>\n",
       "  <tbody>\n",
       "    <tr>\n",
       "      <th>0</th>\n",
       "      <td>1</td>\n",
       "      <td>2</td>\n",
       "      <td>3</td>\n",
       "    </tr>\n",
       "    <tr>\n",
       "      <th>1</th>\n",
       "      <td>4</td>\n",
       "      <td>5</td>\n",
       "      <td>6</td>\n",
       "    </tr>\n",
       "  </tbody>\n",
       "</table>\n",
       "</div>"
      ],
      "text/plain": [
       "   a  b  c\n",
       "0  1  2  3\n",
       "1  4  5  6"
      ]
     },
     "execution_count": 7,
     "metadata": {},
     "output_type": "execute_result"
    }
   ],
   "source": [
    "rename_columns(df,'abc')"
   ]
  },
  {
   "cell_type": "markdown",
   "metadata": {},
   "source": [
    "Fry and then DRY"
   ]
  },
  {
   "cell_type": "code",
   "execution_count": 19,
   "metadata": {},
   "outputs": [
    {
     "data": {
      "text/plain": [
       "array([[1, 2],\n",
       "       [4, 5]], dtype=int64)"
      ]
     },
     "execution_count": 19,
     "metadata": {},
     "output_type": "execute_result"
    }
   ],
   "source": [
    "df[['1','2']].values"
   ]
  },
  {
   "cell_type": "code",
   "execution_count": 20,
   "metadata": {},
   "outputs": [
    {
     "data": {
      "text/plain": [
       "array([[2, 3],\n",
       "       [5, 6]], dtype=int64)"
      ]
     },
     "execution_count": 20,
     "metadata": {},
     "output_type": "execute_result"
    }
   ],
   "source": [
    "df[['2','3']].values"
   ]
  },
  {
   "cell_type": "code",
   "execution_count": 76,
   "metadata": {},
   "outputs": [],
   "source": [
    "def max_common(df_a, df_b): \n",
    "    # your code here\n",
    "    new_df = df_a.copy(deep=True)\n",
    "\n",
    "    common = data_a.columns.intersection(data_b.columns).values\n",
    "    \n",
    "    common_a = df_a.loc[:,common].values\n",
    "    common_b = df_b.loc[:,common].values\n",
    "    new_array = []\n",
    "\n",
    "    for i in range(len(common_a)): #Both df have same row length\n",
    "        temp = []\n",
    "        for j in range(len(common)): #the columns will be equal to common columns\n",
    "            if common_a[i][j] > common_b[i][j]:\n",
    "                temp.append(common_a[i][j])\n",
    "            else:\n",
    "                temp.append(common_b[i][j])\n",
    "        new_array.append(temp)\n",
    "        #print(new_array)\n",
    "    new_df = pd.DataFrame(data=new_array,columns=common)\n",
    "\n",
    "    cols_use = df_a.columns.difference(new_df.columns)\n",
    "\n",
    "    mer_df = pd.merge(df_a[cols_use],new_df,left_index=True,right_index=True)\n",
    "    sort_cols = mer_df.columns.sort_values(ascending = True)\n",
    "    return mer_df[sort_cols]\n"
   ]
  },
  {
   "cell_type": "code",
   "execution_count": 66,
   "metadata": {},
   "outputs": [],
   "source": [
    "data_a=pd.DataFrame([[1.0, 6.0, 7.0, 1.0], [8.5, 1.0, 9.0, 1.0]], columns=list('CBDE'))\n",
    "data_b=pd.DataFrame([[2.5, 2.0, 2.0], [2.0, 2.0, 2.0]], columns=list('ABC'))"
   ]
  },
  {
   "cell_type": "code",
   "execution_count": 74,
   "metadata": {},
   "outputs": [
    {
     "data": {
      "text/plain": [
       "array(['C', 'B'], dtype=object)"
      ]
     },
     "execution_count": 74,
     "metadata": {},
     "output_type": "execute_result"
    }
   ],
   "source": [
    "data_a.columns.intersection(data_b.columns).values"
   ]
  },
  {
   "cell_type": "code",
   "execution_count": 77,
   "metadata": {},
   "outputs": [],
   "source": [
    "temp = max_common(data_b,data_a)"
   ]
  },
  {
   "cell_type": "code",
   "execution_count": 78,
   "metadata": {},
   "outputs": [
    {
     "data": {
      "text/html": [
       "<div>\n",
       "<style scoped>\n",
       "    .dataframe tbody tr th:only-of-type {\n",
       "        vertical-align: middle;\n",
       "    }\n",
       "\n",
       "    .dataframe tbody tr th {\n",
       "        vertical-align: top;\n",
       "    }\n",
       "\n",
       "    .dataframe thead th {\n",
       "        text-align: right;\n",
       "    }\n",
       "</style>\n",
       "<table border=\"1\" class=\"dataframe\">\n",
       "  <thead>\n",
       "    <tr style=\"text-align: right;\">\n",
       "      <th></th>\n",
       "      <th>A</th>\n",
       "      <th>B</th>\n",
       "      <th>C</th>\n",
       "    </tr>\n",
       "  </thead>\n",
       "  <tbody>\n",
       "    <tr>\n",
       "      <th>0</th>\n",
       "      <td>2.5</td>\n",
       "      <td>6.0</td>\n",
       "      <td>2.0</td>\n",
       "    </tr>\n",
       "    <tr>\n",
       "      <th>1</th>\n",
       "      <td>2.0</td>\n",
       "      <td>2.0</td>\n",
       "      <td>8.5</td>\n",
       "    </tr>\n",
       "  </tbody>\n",
       "</table>\n",
       "</div>"
      ],
      "text/plain": [
       "     A    B    C\n",
       "0  2.5  6.0  2.0\n",
       "1  2.0  2.0  8.5"
      ]
     },
     "execution_count": 78,
     "metadata": {},
     "output_type": "execute_result"
    }
   ],
   "source": [
    "temp"
   ]
  },
  {
   "cell_type": "code",
   "execution_count": 60,
   "metadata": {},
   "outputs": [
    {
     "data": {
      "text/html": [
       "<div>\n",
       "<style scoped>\n",
       "    .dataframe tbody tr th:only-of-type {\n",
       "        vertical-align: middle;\n",
       "    }\n",
       "\n",
       "    .dataframe tbody tr th {\n",
       "        vertical-align: top;\n",
       "    }\n",
       "\n",
       "    .dataframe thead th {\n",
       "        text-align: right;\n",
       "    }\n",
       "</style>\n",
       "<table border=\"1\" class=\"dataframe\">\n",
       "  <thead>\n",
       "    <tr style=\"text-align: right;\">\n",
       "      <th></th>\n",
       "      <th>A</th>\n",
       "      <th>B_x</th>\n",
       "      <th>C_x</th>\n",
       "      <th>C_y</th>\n",
       "      <th>B_y</th>\n",
       "    </tr>\n",
       "  </thead>\n",
       "  <tbody>\n",
       "    <tr>\n",
       "      <th>0</th>\n",
       "      <td>2.5</td>\n",
       "      <td>2.0</td>\n",
       "      <td>2.0</td>\n",
       "      <td>2.0</td>\n",
       "      <td>6.0</td>\n",
       "    </tr>\n",
       "    <tr>\n",
       "      <th>1</th>\n",
       "      <td>2.0</td>\n",
       "      <td>2.0</td>\n",
       "      <td>2.0</td>\n",
       "      <td>8.5</td>\n",
       "      <td>2.0</td>\n",
       "    </tr>\n",
       "  </tbody>\n",
       "</table>\n",
       "</div>"
      ],
      "text/plain": [
       "     A  B_x  C_x  C_y  B_y\n",
       "0  2.5  2.0  2.0  2.0  6.0\n",
       "1  2.0  2.0  2.0  8.5  2.0"
      ]
     },
     "execution_count": 60,
     "metadata": {},
     "output_type": "execute_result"
    }
   ],
   "source": [
    "pd.merge(left=data_b,right=temp,\n",
    "            left_index=True,\n",
    "            right_index=True,\n",
    "            how=\"outer\")"
   ]
  },
  {
   "cell_type": "code",
   "execution_count": 80,
   "metadata": {},
   "outputs": [
    {
     "name": "stdout",
     "output_type": "stream",
     "text": [
      "5\n",
      "7\n"
     ]
    }
   ],
   "source": [
    "for x in filter(lambda x: x > 2, [5, 7, 1, 0, 2]):\n",
    "    print(x)"
   ]
  },
  {
   "cell_type": "code",
   "execution_count": 1,
   "metadata": {},
   "outputs": [],
   "source": [
    "def rolldice_sum(sum_, num_dice):\n",
    "    dice = range(1, 7)\n",
    "    combins = []\n",
    "    for val1 in dice:\n",
    "        for val2 in dice:\n",
    "            if val1 + val2 == sum_:\n",
    "                combins.append([val1,val2])\n",
    "    num_combins = len(combins)\n",
    "    total_combins = 6 ** num_dice\n",
    "    return num_combins/ total_combins"
   ]
  },
  {
   "cell_type": "code",
   "execution_count": 42,
   "metadata": {},
   "outputs": [],
   "source": [
    "from itertools import product\n",
    "\n",
    "def rolldice_sum(sum_, num_dice):\n",
    "    res = list(product(range(1,7), repeat= num_dice))\n",
    "    #print(res)\n",
    "    combins = []\n",
    "    for rolls in res:\n",
    "        sum_loc = 0\n",
    "        for x in rolls:\n",
    "            sum_loc = sum_loc + x\n",
    "        if sum_loc == sum_:\n",
    "            combins.append(rolls)\n",
    "    \n",
    "    return len(combins) / len(res)"
   ]
  },
  {
   "cell_type": "code",
   "execution_count": 45,
   "metadata": {},
   "outputs": [],
   "source": [
    "#functional solution\n",
    "def s(x,n):\n",
    "    if n==1:\n",
    "        return 1 if 1<=x<=6 else 0\n",
    "    else:\n",
    "        return sum([s(x-i, n-1) for i in range(1,7)])\n",
    "    \n",
    "def rolldice_sum_prob(x, n):\n",
    "    return 1.0*s(x,n)/6**n"
   ]
  },
  {
   "cell_type": "code",
   "execution_count": null,
   "metadata": {},
   "outputs": [],
   "source": []
  },
  {
   "cell_type": "code",
   "execution_count": null,
   "metadata": {},
   "outputs": [],
   "source": []
  }
 ],
 "metadata": {
  "interpreter": {
   "hash": "a42c93b5eee6b56421653baa65deacde473063d5c4965d27c7a75f4e31a8d403"
  },
  "kernelspec": {
   "display_name": "Python 3.7.12 64-bit (system)",
   "language": "python",
   "name": "python3"
  },
  "language_info": {
   "codemirror_mode": {
    "name": "ipython",
    "version": 3
   },
   "file_extension": ".py",
   "mimetype": "text/x-python",
   "name": "python",
   "nbconvert_exporter": "python",
   "pygments_lexer": "ipython3",
   "version": "3.7.12"
  },
  "orig_nbformat": 4
 },
 "nbformat": 4,
 "nbformat_minor": 2
}
