{
 "cells": [
  {
   "cell_type": "code",
   "execution_count": 1,
   "metadata": {},
   "outputs": [],
   "source": [
    "#The code in this notebook are the puzzles that were described in \n",
    "#Chris's Coffee Break Python book"
   ]
  },
  {
   "cell_type": "code",
   "execution_count": 3,
   "metadata": {},
   "outputs": [
    {
     "name": "stdout",
     "output_type": "stream",
     "text": [
      "Hello World\n"
     ]
    },
    {
     "data": {
      "text/plain": [
       "[1500, 1516]"
      ]
     },
     "execution_count": 3,
     "metadata": {},
     "output_type": "execute_result"
    }
   ],
   "source": [
    "from Elo_rater import elo_rate\n",
    "starting_rate = [1500] #Need to take change of score as list\n",
    "\n",
    "#The 1st python question was correct\n",
    "\n",
    "print('Hello World')\n",
    "#Hello World\n",
    "\n",
    "starting_rate.append(elo_rate(starting_rate[-1],'Correct'))\n",
    "\n",
    "starting_rate"
   ]
  },
  {
   "cell_type": "code",
   "execution_count": 4,
   "metadata": {},
   "outputs": [
    {
     "name": "stdout",
     "output_type": "stream",
     "text": [
      "5.0\n"
     ]
    },
    {
     "data": {
      "text/plain": [
       "[1500, 1516, 1532]"
      ]
     },
     "execution_count": 4,
     "metadata": {},
     "output_type": "execute_result"
    }
   ],
   "source": [
    "x = 55 / 11\n",
    "\n",
    "print(x)\n",
    "\n",
    "#5\n",
    "\n",
    "starting_rate.append(elo_rate(starting_rate[-1],'Correct'))\n",
    "\n",
    "starting_rate"
   ]
  },
  {
   "cell_type": "code",
   "execution_count": 5,
   "metadata": {},
   "outputs": [
    {
     "name": "stdout",
     "output_type": "stream",
     "text": [
      "110.0\n"
     ]
    },
    {
     "data": {
      "text/plain": [
       "[1500, 1516, 1532, 1548]"
      ]
     },
     "execution_count": 5,
     "metadata": {},
     "output_type": "execute_result"
    }
   ],
   "source": [
    "x = 50 * 2 + (60 - 20) / 4\n",
    "\n",
    "print(x)\n",
    "\n",
    "starting_rate.append(elo_rate(starting_rate[-1],'Correct'))\n",
    "\n",
    "starting_rate"
   ]
  },
  {
   "cell_type": "code",
   "execution_count": 7,
   "metadata": {},
   "outputs": [
    {
     "name": "stdout",
     "output_type": "stream",
     "text": [
      "# Is this is a comment?\n"
     ]
    },
    {
     "data": {
      "text/plain": [
       "[1500, 1516, 1532, 1548, 1564]"
      ]
     },
     "execution_count": 7,
     "metadata": {},
     "output_type": "execute_result"
    }
   ],
   "source": [
    "answer = 42\n",
    "\n",
    "text =\"# Is this is a comment?\"\n",
    "\n",
    "print(text)\n",
    "\n",
    "starting_rate.append(elo_rate(starting_rate[-1],'Correct'))\n",
    "\n",
    "starting_rate"
   ]
  },
  {
   "cell_type": "code",
   "execution_count": 8,
   "metadata": {},
   "outputs": [
    {
     "name": "stdout",
     "output_type": "stream",
     "text": [
      "listen\n"
     ]
    },
    {
     "data": {
      "text/plain": [
       "[1500, 1516, 1532, 1548, 1564, 1580]"
      ]
     },
     "execution_count": 8,
     "metadata": {},
     "output_type": "execute_result"
    }
   ],
   "source": [
    "x = 'silent'\n",
    "print(x[2] + x[1] + x[0] + x[5] + x[3] + x[4])\n",
    "#listen\n",
    "\n",
    "starting_rate.append(elo_rate(starting_rate[-1], 'Correct'))\n",
    "\n",
    "starting_rate"
   ]
  },
  {
   "cell_type": "code",
   "execution_count": 9,
   "metadata": {},
   "outputs": [
    {
     "name": "stdout",
     "output_type": "stream",
     "text": [
      "1\n"
     ]
    },
    {
     "data": {
      "text/plain": [
       "[1500, 1516, 1532, 1548, 1564, 1580, 1596]"
      ]
     },
     "execution_count": 9,
     "metadata": {},
     "output_type": "execute_result"
    }
   ],
   "source": [
    "square = [1, 4, 9, 16, 25]\n",
    "print(square[0])\n",
    "#1\n",
    "\n",
    "starting_rate.append(elo_rate(starting_rate[-1],'Correct'))\n",
    "\n",
    "starting_rate"
   ]
  },
  {
   "cell_type": "code",
   "execution_count": 10,
   "metadata": {},
   "outputs": [
    {
     "name": "stdout",
     "output_type": "stream",
     "text": [
      "5\n"
     ]
    },
    {
     "data": {
      "text/plain": [
       "[1500, 1516, 1532, 1548, 1564, 1580, 1596, 1612]"
      ]
     },
     "execution_count": 10,
     "metadata": {},
     "output_type": "execute_result"
    }
   ],
   "source": [
    "word = 'galaxy'\n",
    "print(len(word[1:]))\n",
    "\n",
    "#5\n",
    "\n",
    "starting_rate.append(elo_rate(starting_rate[-1],'Correct'))\n",
    "starting_rate"
   ]
  },
  {
   "cell_type": "code",
   "execution_count": 14,
   "metadata": {},
   "outputs": [
    {
     "data": {
      "text/plain": [
       "1628"
      ]
     },
     "execution_count": 14,
     "metadata": {},
     "output_type": "execute_result"
    }
   ],
   "source": [
    "starting_rate.pop(-1)"
   ]
  },
  {
   "cell_type": "code",
   "execution_count": 15,
   "metadata": {},
   "outputs": [
    {
     "name": "stdout",
     "output_type": "stream",
     "text": [
      "4\n"
     ]
    },
    {
     "data": {
      "text/plain": [
       "[1500, 1516, 1532, 1548, 1564, 1580, 1596, 1612, 1573]"
      ]
     },
     "execution_count": 15,
     "metadata": {},
     "output_type": "execute_result"
    }
   ],
   "source": [
    "x = 50 // 11\n",
    "\n",
    "print(x)\n",
    "\n",
    "#6 This is applicable for % \n",
    "\n",
    "starting_rate.append(elo_rate(starting_rate[-1],'Incorrect'))\n",
    "\n",
    "starting_rate"
   ]
  },
  {
   "cell_type": "code",
   "execution_count": 17,
   "metadata": {},
   "outputs": [
    {
     "name": "stdout",
     "output_type": "stream",
     "text": [
      "unununium\n"
     ]
    },
    {
     "data": {
      "text/plain": [
       "[1500, 1516, 1532, 1548, 1564, 1580, 1596, 1612, 1573, 1589]"
      ]
     },
     "execution_count": 17,
     "metadata": {},
     "output_type": "execute_result"
    }
   ],
   "source": [
    "print(3 * 'un' + 'ium')\n",
    "#unununium\n",
    "starting_rate.append(elo_rate(starting_rate[-1],'Correct'))\n",
    "\n",
    "starting_rate"
   ]
  },
  {
   "cell_type": "code",
   "execution_count": 19,
   "metadata": {},
   "outputs": [
    {
     "name": "stdout",
     "output_type": "stream",
     "text": [
      "python\n"
     ]
    },
    {
     "data": {
      "text/plain": [
       "[1500, 1516, 1532, 1548, 1564, 1580, 1596, 1612, 1573, 1589, 1550]"
      ]
     },
     "execution_count": 19,
     "metadata": {},
     "output_type": "execute_result"
    }
   ],
   "source": [
    "x = 'py' 'thon'\n",
    "\n",
    "print(x)\n",
    "#py\n",
    "\n",
    "starting_rate.append(elo_rate(starting_rate[-1],'Incorrect'))\n",
    "\n",
    "starting_rate"
   ]
  },
  {
   "cell_type": "code",
   "execution_count": 21,
   "metadata": {},
   "outputs": [
    {
     "name": "stdout",
     "output_type": "stream",
     "text": [
      "21\n"
     ]
    }
   ],
   "source": [
    "print(sum(range(0, 7)))\n",
    "\n",
    "#21\n",
    "\n",
    "starting_rate.append(elo_rate(starting_rate[-1],'Correct'))"
   ]
  },
  {
   "cell_type": "code",
   "execution_count": 1,
   "metadata": {},
   "outputs": [
    {
     "name": "stdout",
     "output_type": "stream",
     "text": [
      "[1, 8, 27, 64]\n"
     ]
    }
   ],
   "source": [
    "cubes = [1, 8, 27]\n",
    "\n",
    "cubes.append(4 ** 3)\n",
    "\n",
    "print(cubes)\n",
    "\n",
    "#[1, 8, 27, 64]"
   ]
  },
  {
   "cell_type": "code",
   "execution_count": 2,
   "metadata": {},
   "outputs": [
    {
     "name": "stdout",
     "output_type": "stream",
     "text": [
      "xy\n"
     ]
    }
   ],
   "source": [
    "word = 'galaxy'\n",
    "print(word[4:50])\n",
    "\n",
    "#xy\n"
   ]
  },
  {
   "cell_type": "code",
   "execution_count": 3,
   "metadata": {},
   "outputs": [
    {
     "name": "stdout",
     "output_type": "stream",
     "text": [
      "0\n"
     ]
    }
   ],
   "source": [
    "x = 51 % 3\n",
    "\n",
    "print(x)\n",
    "\n",
    "# 0"
   ]
  },
  {
   "cell_type": "code",
   "execution_count": 6,
   "metadata": {},
   "outputs": [
    {
     "name": "stdout",
     "output_type": "stream",
     "text": [
      "H\n"
     ]
    }
   ],
   "source": [
    "def if_confusion(x, y):\n",
    "    if x > y:\n",
    "        if x - 5 > 0:\n",
    "            \n",
    "            x = y\n",
    "\n",
    "            return \"A\" if y == y + y else \"B\"\n",
    "        \n",
    "        elif x + y > 0:\n",
    "        \n",
    "            while x > y: x -= 1\n",
    "            \n",
    "            while y > x: y -= 1\n",
    "                \n",
    "            if x == y:\n",
    "                return \"E\"\n",
    "    else:\n",
    "\n",
    "        if x - 2 > y - 4:\n",
    "        \n",
    "            x_old = x\n",
    "            x = y * y\n",
    "            y = 2 * x_old\n",
    "        \n",
    "            if (x - 4) ** 2 > (y - 7) ** 2:\n",
    "                \n",
    "                return \"C\"\n",
    "    \n",
    "            return \"D\"\n",
    "    \n",
    "    return \"H\"\n",
    "\n",
    "print(if_confusion(3, 7))"
   ]
  },
  {
   "cell_type": "code",
   "execution_count": 7,
   "metadata": {},
   "outputs": [
    {
     "name": "stdout",
     "output_type": "stream",
     "text": [
      "loco\n"
     ]
    }
   ],
   "source": [
    "#negative indices\n",
    "\n",
    "x = 'cool'\n",
    "\n",
    "print(x[-1] + x[-2] + x[-4] + x[-3])\n",
    "\n",
    "#loco"
   ]
  },
  {
   "cell_type": "code",
   "execution_count": 8,
   "metadata": {},
   "outputs": [
    {
     "name": "stdout",
     "output_type": "stream",
     "text": [
      "3\n",
      "5\n"
     ]
    }
   ],
   "source": [
    "#for loop\n",
    "\n",
    "words = ['cat', 'mouse']\n",
    "\n",
    "for word in words:\n",
    "    print(len(word))\n",
    "\n",
    "#3\n",
    "#5"
   ]
  },
  {
   "cell_type": "code",
   "execution_count": 9,
   "metadata": {},
   "outputs": [
    {
     "name": "stdout",
     "output_type": "stream",
     "text": [
      "6\n"
     ]
    }
   ],
   "source": [
    "#functions and naming\n",
    "\n",
    "def func(x):\n",
    "    return x + 1\n",
    "\n",
    "f = func\n",
    "\n",
    "print(f(2) + func(2))\n",
    "\n",
    "#6"
   ]
  },
  {
   "cell_type": "code",
   "execution_count": 10,
   "metadata": {},
   "outputs": [
    {
     "name": "stdout",
     "output_type": "stream",
     "text": [
      "galaxy\n"
     ]
    }
   ],
   "source": [
    "#slice concatenation\n",
    "\n",
    "word = 'galaxy'\n",
    "\n",
    "print(word[:-2] + word[-2:])\n",
    "\n",
    "#end slice value is not included\n",
    "#galaxxy"
   ]
  },
  {
   "cell_type": "code",
   "execution_count": 12,
   "metadata": {},
   "outputs": [
    {
     "name": "stdout",
     "output_type": "stream",
     "text": [
      "A\n",
      "B\n",
      "C\n"
     ]
    }
   ],
   "source": [
    "def func(a, *args):\n",
    "\n",
    "    print(a)\n",
    "\n",
    "    for arg in args:\n",
    "\n",
    "        print(arg)\n",
    "\n",
    "func('A','B','C')\n",
    "#A\n",
    "#B\n",
    "#C"
   ]
  },
  {
   "cell_type": "code",
   "execution_count": 13,
   "metadata": {},
   "outputs": [
    {
     "name": "stdout",
     "output_type": "stream",
     "text": [
      "1\n"
     ]
    }
   ],
   "source": [
    "#indirect recursion\n",
    "\n",
    "def ping(i):\n",
    "    if i > 0:\n",
    "        return pong(i - 1)\n",
    "    return 0\n",
    "\n",
    "def pong(i):\n",
    "    if i > 0:\n",
    "        return ping(i - 1)\n",
    "    return '1'\n",
    "\n",
    "print(ping(29))\n",
    "#1"
   ]
  },
  {
   "cell_type": "code",
   "execution_count": 14,
   "metadata": {},
   "outputs": [
    {
     "name": "stdout",
     "output_type": "stream",
     "text": [
      "end\n"
     ]
    }
   ],
   "source": [
    "#string slicing\n",
    "word = 'bender'\n",
    "print(word[1:4]) #s[i:j] i included, j not included\n",
    "#end"
   ]
  },
  {
   "cell_type": "code",
   "execution_count": 16,
   "metadata": {},
   "outputs": [
    {
     "name": "stdout",
     "output_type": "stream",
     "text": [
      "['Marie', 'Anne', 'Barack', 'Olivia', 'Sophia']\n"
     ]
    }
   ],
   "source": [
    "#slice assignments\n",
    "customers = ['Marie','Anne','Donald']\n",
    "customers[2:4] = ['Barack', 'Olivia', 'Sophia']\n",
    "print(customers)\n",
    "\n",
    "#['Marie','Anne','Barack','Olivia','Sophia']\n",
    "\n",
    "#Nice way to clear list customers[:] = []"
   ]
  },
  {
   "cell_type": "code",
   "execution_count": 17,
   "metadata": {},
   "outputs": [
    {
     "name": "stdout",
     "output_type": "stream",
     "text": [
      "Error\n",
      "Error\n",
      "Error\n",
      "Error\n",
      "Error\n"
     ]
    }
   ],
   "source": [
    "#default arguments\n",
    "\n",
    "def ask(prompt, retries = 4, output = 'Error'):\n",
    "\n",
    "    for _ in range(retries):\n",
    "\n",
    "        response = input(prompt).lower()\n",
    "\n",
    "        if response in ['y', 'yes']:\n",
    "\n",
    "            return True\n",
    "\n",
    "        if response in ['n', 'no']:\n",
    "\n",
    "            return False\n",
    "\n",
    "        print(output)\n",
    "\n",
    "ask('Want to know the answer?', 5)\n",
    "#Will as input 5 times or give error"
   ]
  },
  {
   "cell_type": "code",
   "execution_count": 18,
   "metadata": {},
   "outputs": [
    {
     "name": "stdout",
     "output_type": "stream",
     "text": [
      "2\n"
     ]
    }
   ],
   "source": [
    "#Slicing and len()\n",
    "letters = ['a', 'b', 'c', 'd']\n",
    "\n",
    "print(len(letters[1:-1]))\n",
    "\n",
    "#2"
   ]
  },
  {
   "cell_type": "code",
   "execution_count": null,
   "metadata": {},
   "outputs": [],
   "source": []
  }
 ],
 "metadata": {
  "interpreter": {
   "hash": "a42c93b5eee6b56421653baa65deacde473063d5c4965d27c7a75f4e31a8d403"
  },
  "kernelspec": {
   "display_name": "Python 3.7.12 64-bit (system)",
   "language": "python",
   "name": "python3"
  },
  "language_info": {
   "codemirror_mode": {
    "name": "ipython",
    "version": 3
   },
   "file_extension": ".py",
   "mimetype": "text/x-python",
   "name": "python",
   "nbconvert_exporter": "python",
   "pygments_lexer": "ipython3",
   "version": "3.7.12"
  },
  "orig_nbformat": 4
 },
 "nbformat": 4,
 "nbformat_minor": 2
}
