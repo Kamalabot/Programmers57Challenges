{
 "cells": [
  {
   "cell_type": "markdown",
   "metadata": {},
   "source": [
    "Text\n",
    "\n",
    "\n",
    "1.get the numpy version and show numpy build configuration.\n",
    "\n",
    "\n",
    "2.  get help on the add function.\n",
    "\n",
    "\n",
    "3. test whether none of the elements of a given array is zero.\n",
    "\n",
    "\n",
    "4. test whether any of the elements of a given array is non-zero.\n",
    "\n",
    "\n",
    "5. test a given array element-wise for finiteness (not infinity or not a Number).\n",
    "\n",
    "\n",
    "6. test element-wise for positive or negative infinity.\n",
    "\n",
    "\n",
    "7. test element-wise for NaN of a given array.\n",
    "\n",
    "\n",
    "8. test element-wise for complex number, real number of a given array. Also test whether a given number is a scalar type or not.\n",
    "\n",
    "\n",
    "9. test whether two arrays are element-wise equal within a tolerance.\n",
    "\n",
    "\n",
    "10. create an element-wise comparison (greater, greater_equal, less and less_equal) of two given arrays.\n",
    "\n",
    "\n",
    "11. create an element-wise comparison (equal, equal within a tolerance) of two given arrays.\n",
    "\n",
    "\n",
    "12. create an array with the values 1, 7, 13, 105 and determine the size of the memory occupied by the array.\n",
    "\n",
    "\n",
    "13. create an array of 10 zeros,10 ones, 10 fives.\n",
    "\n",
    "\n",
    "14. create an array of the integers from 30 to70.\n",
    "\n",
    "\n",
    "15. create an array of all the even integers from 30 to 70.\n",
    "\n",
    "\n",
    "16. create a 3x3 identity matrix.\n",
    "\n",
    "\n",
    "17. generate a random number between 0 and 1.\n",
    "\n",
    "\n",
    "18. generate an array of 15 random numbers from a standard normal distribution.\n",
    "\n",
    "\n",
    "19. create a vector with values ranging from 15 to 55 and print all values except the first and last.\n",
    "\n",
    "\n",
    "20. create a 3X4 array using and iterate over it.\n",
    "\n",
    "\n",
    "21. create a vector of length 10 with values evenly distributed between 5 and 50.\n",
    "\n",
    "\n",
    "22. create a vector with values from 0 to 20 and change the sign of the numbers in the range from 9 to 15.\n",
    "\n",
    "\n",
    "23. create a vector of length 5 filled with arbitrary integers from 0 to 10.\n",
    "\n",
    "\n",
    "24. multiply the values of two given vectors.\n",
    "\n",
    "\n",
    "25. create a 3x4 matrix filled with values from 10 to 21.\n",
    "\n",
    "\n",
    "26. find the number of rows and columns of a given matrix.\n",
    "\n",
    "\n",
    "27. create a 3x3 identity matrix, i.e. diagonal elements are 1, the rest are 0.\n",
    "\n",
    "\n",
    "28. create a 10x10 matrix, in which the elements on the borders will be equal to 1, and inside 0.\n",
    "\n",
    "\n",
    "29. create a 5x5 zero matrix with elements on the main diagonal equal to 1, 2, 3, 4, 5.\n",
    "\n",
    "\n",
    "30. create a 4x4 matrix in which 0 and 1 are staggered, with zeros on the main diagonal.\n",
    "\n",
    "\n",
    "31. create a 3x3x3 array filled with arbitrary values.\n",
    "\n",
    "\n",
    "32. compute sum of all elements, sum of each column and sum of each row of a given array.\n",
    "\n",
    "\n",
    "33. compute the inner product of two given vectors.\n",
    "\n",
    "\n",
    "34. add a vector to each row of a given matrix.\n",
    "\n",
    "\n",
    "35. save a given array to a binary file .\n",
    "\n",
    "\n",
    "36. save two given arrays into a single file in compressed format (.npz format) and load it.\n",
    "\n",
    "\n",
    "37. save a given array to a text file and load it.\n",
    "\n",
    "\n",
    "38. convert a given array into bytes, and load it as array.\n",
    "\n",
    "\n",
    "39. convert a given list into an array, then again convert it into a list. Check initial list and final list are equal or not.\n",
    "\n",
    "\n",
    "40. compute the x and y coordinates for points on a sine curve and plot the points using matplotlib.\n",
    "\n",
    "\n",
    "41. convert numpy dtypes to native python types.\n",
    "\n",
    "\n",
    "42. add elements in a matrix. If an element in the matrix is 0, we will not add the element below this element.\n",
    "\n",
    "\n",
    "43. find the missing data in a given array.\n",
    "\n",
    "\n",
    "44. check whether two arrays are equal (element wise) or not.\n",
    "\n",
    "\n",
    "45. create one-dimensional array of single, two and three digit numbers.\n",
    "\n",
    "\n",
    "46. create a two-dimensional array of specified format.\n",
    "\n",
    "\n",
    "47. create a one dimensional array of forty pseudo-randomly generated values. Select random numbers from a uniform distribution between 0 and 1.\n",
    "\n",
    "\n",
    "48. create a two-dimensional array with shape (8,5) of random numbers. Select random numbers from a normal distribution (200,7).\n",
    "\n",
    "\n",
    "49. generate a uniform, non-uniform random sample from a given 1-D array with and without replacement.\n",
    "\n",
    "\n",
    "50. create a 4x4 array with random values, now create a new array from the said array swapping first and last rows.\n",
    "\n",
    "\n",
    "51. create a new array of given shape (5,6) and type, filled with zeros.\n",
    "\n",
    "\n",
    "52. sort a given array by row and column in ascending order.\n",
    "\n",
    "\n",
    "53. extract all numbers from a given array which are less and greater than a specified number.\n",
    "\n",
    "\n",
    "54. replace all numbers in a given array which is equal, less and greater to a given number.\n",
    "\n",
    "\n",
    "55. create an array of equal shape and data type of a given array.\n",
    "\n",
    "\n",
    "56. create a three-dimension array with shape (3,5,4) and set to a variable.\n",
    "\n",
    "\n",
    "57. create a 4x4 array, now create a new array from the said array swapping first and last, second and third columns.\n",
    "\n",
    "\n",
    "58. swap rows and columns of a given array in reverse order.\n",
    "\n",
    "\n",
    "59. multiply two given arrays of same size element-by-element.\n",
    "\n",
    "\n"
   ]
  },
  {
   "cell_type": "code",
   "execution_count": 2,
   "metadata": {},
   "outputs": [
    {
     "name": "stdout",
     "output_type": "stream",
     "text": [
      "1.21.4\n",
      "1.2.5\n"
     ]
    }
   ],
   "source": [
    "import numpy as np\n",
    "import pandas as pd\n",
    "\n",
    "print(np.__version__)\n",
    "print(pd.__version__)"
   ]
  },
  {
   "cell_type": "code",
   "execution_count": 3,
   "metadata": {},
   "outputs": [
    {
     "name": "stdout",
     "output_type": "stream",
     "text": [
      "Help on ufunc object:\n",
      "\n",
      "add = class ufunc(builtins.object)\n",
      " |  Methods defined here:\n",
      " |  \n",
      " |  __call__(...)\n",
      " |      __call__($self, /, *args, **kwargs)\n",
      " |      --\n",
      " |      \n",
      " |      Call self as a function.\n",
      " |  \n",
      " |  __repr__(...)\n",
      " |      __repr__($self, /)\n",
      " |      --\n",
      " |      \n",
      " |      Return repr(self).\n",
      " |  \n",
      " |  __str__(...)\n",
      " |      __str__($self, /)\n",
      " |      --\n",
      " |      \n",
      " |      Return str(self).\n",
      " |  \n",
      " |  accumulate(...)\n",
      " |  \n",
      " |  at(...)\n",
      " |  \n",
      " |  outer(...)\n",
      " |  \n",
      " |  reduce(...)\n",
      " |  \n",
      " |  reduceat(...)\n",
      " |  \n",
      " |  ----------------------------------------------------------------------\n",
      " |  Data descriptors defined here:\n",
      " |  \n",
      " |  __dict__\n",
      " |      dictionary for instance variables (if defined)\n",
      " |  \n",
      " |  __weakref__\n",
      " |      list of weak references to the object (if defined)\n",
      " |  \n",
      " |  identity\n",
      " |  \n",
      " |  nargs\n",
      " |  \n",
      " |  nin\n",
      " |  \n",
      " |  nout\n",
      " |  \n",
      " |  ntypes\n",
      " |  \n",
      " |  signature\n",
      " |  \n",
      " |  types\n",
      "\n"
     ]
    }
   ],
   "source": [
    "#help on add\n",
    "help(np.add)"
   ]
  },
  {
   "cell_type": "code",
   "execution_count": 8,
   "metadata": {},
   "outputs": [
    {
     "data": {
      "text/plain": [
       "False"
      ]
     },
     "execution_count": 8,
     "metadata": {},
     "output_type": "execute_result"
    }
   ],
   "source": [
    "#check if any element is 0\n",
    "trb = np.array([5,7,8,0,70,2])\n",
    "np.all(trb)"
   ]
  },
  {
   "cell_type": "code",
   "execution_count": 7,
   "metadata": {},
   "outputs": [
    {
     "data": {
      "text/plain": [
       "True"
      ]
     },
     "execution_count": 7,
     "metadata": {},
     "output_type": "execute_result"
    }
   ],
   "source": [
    "#check if all element is true\n",
    "trb = np.array([5,7,8,10,70,2])\n",
    "np.any(trb)"
   ]
  },
  {
   "cell_type": "code",
   "execution_count": 11,
   "metadata": {},
   "outputs": [
    {
     "name": "stdout",
     "output_type": "stream",
     "text": [
      "[False  True  True  True False False]\n",
      "[ True False False False False False]\n",
      "[ True False False False  True  True]\n"
     ]
    }
   ],
   "source": [
    "trb = np.array([np.NaN,5,8,7, -np.inf, np.inf])\n",
    "print(np.isfinite(trb))\n",
    "print(np.isnan(trb))\n",
    "print(~np.isfinite(trb))"
   ]
  },
  {
   "cell_type": "code",
   "execution_count": 13,
   "metadata": {},
   "outputs": [
    {
     "name": "stdout",
     "output_type": "stream",
     "text": [
      "[ True  True False False  True]\n",
      "[ True  True False False  True]\n"
     ]
    }
   ],
   "source": [
    "trb = np.array([7,5,6,0,9])\n",
    "era = np.array([7,5,0,6,9])\n",
    "\n",
    "print(trb == era)\n",
    "\n",
    "print(np.equal(trb, era))"
   ]
  },
  {
   "cell_type": "code",
   "execution_count": 23,
   "metadata": {},
   "outputs": [
    {
     "ename": "TypeError",
     "evalue": "getsizeof(...)\n    getsizeof(object, default) -> int\n\n    Return the size of object in bytes.\n\nsys.getsizeof(object, default) will always return default on PyPy, and\nraise a TypeError if default is not provided.\n\nFirst note that the CPython documentation says that this function may\nraise a TypeError, so if you are seeing it, it means that the program\nyou are using is not correctly handling this case.\n\nOn PyPy, though, it always raises TypeError.  Before looking for\nalternatives, please take a moment to read the following explanation as\nto why it is the case.  What you are looking for may not be possible.\n\nA memory profiler using this function is most likely to give results\ninconsistent with reality on PyPy.  It would be possible to have\nsys.getsizeof() return a number (with enough work), but that may or\nmay not represent how much memory the object uses.  It doesn't even\nmake really sense to ask how much *one* object uses, in isolation\nwith the rest of the system.  For example, instances have maps,\nwhich are often shared across many instances; in this case the maps\nwould probably be ignored by an implementation of sys.getsizeof(),\nbut their overhead is important in some cases if they are many\ninstances with unique maps.  Conversely, equal strings may share\ntheir internal string data even if they are different objects---or\nempty containers may share parts of their internals as long as they\nare empty.  Even stranger, some lists create objects as you read\nthem; if you try to estimate the size in memory of range(10**6) as\nthe sum of all items' size, that operation will by itself create one\nmillion integer objects that never existed in the first place.\n",
     "output_type": "error",
     "traceback": [
      "\u001b[1;31m---------------------------------------------------------------------------\u001b[0m",
      "\u001b[1;31mTypeError\u001b[0m                                 Traceback (most recent call last)",
      "\u001b[1;32mC:\\Users\\D30001~1\\AppData\\Local\\Temp/ipykernel_2836/2072244716.py\u001b[0m in \u001b[0;36m<module>\u001b[1;34m\u001b[0m\n\u001b[0;32m      4\u001b[0m \u001b[1;32mimport\u001b[0m \u001b[0msys\u001b[0m\u001b[1;33m\u001b[0m\u001b[1;33m\u001b[0m\u001b[0m\n\u001b[0;32m      5\u001b[0m \u001b[1;33m\u001b[0m\u001b[0m\n\u001b[1;32m----> 6\u001b[1;33m \u001b[0msys\u001b[0m\u001b[1;33m.\u001b[0m\u001b[0mgetsizeof\u001b[0m\u001b[1;33m(\u001b[0m\u001b[0mtrb\u001b[0m\u001b[1;33m)\u001b[0m\u001b[1;33m\u001b[0m\u001b[1;33m\u001b[0m\u001b[0m\n\u001b[0m",
      "\u001b[1;31mTypeError\u001b[0m: getsizeof(...)\n    getsizeof(object, default) -> int\n\n    Return the size of object in bytes.\n\nsys.getsizeof(object, default) will always return default on PyPy, and\nraise a TypeError if default is not provided.\n\nFirst note that the CPython documentation says that this function may\nraise a TypeError, so if you are seeing it, it means that the program\nyou are using is not correctly handling this case.\n\nOn PyPy, though, it always raises TypeError.  Before looking for\nalternatives, please take a moment to read the following explanation as\nto why it is the case.  What you are looking for may not be possible.\n\nA memory profiler using this function is most likely to give results\ninconsistent with reality on PyPy.  It would be possible to have\nsys.getsizeof() return a number (with enough work), but that may or\nmay not represent how much memory the object uses.  It doesn't even\nmake really sense to ask how much *one* object uses, in isolation\nwith the rest of the system.  For example, instances have maps,\nwhich are often shared across many instances; in this case the maps\nwould probably be ignored by an implementation of sys.getsizeof(),\nbut their overhead is important in some cases if they are many\ninstances with unique maps.  Conversely, equal strings may share\ntheir internal string data even if they are different objects---or\nempty containers may share parts of their internals as long as they\nare empty.  Even stranger, some lists create objects as you read\nthem; if you try to estimate the size in memory of range(10**6) as\nthe sum of all items' size, that operation will by itself create one\nmillion integer objects that never existed in the first place.\n"
     ]
    }
   ],
   "source": [
    "np.size(trb)\n",
    "trb.nbytes\n",
    "\n",
    "import sys\n",
    "\n",
    "sys.getsizeof(trb) #basically in pypy cannot be used"
   ]
  },
  {
   "cell_type": "code",
   "execution_count": 19,
   "metadata": {},
   "outputs": [
    {
     "data": {
      "text/plain": [
       "array([0, 0, 0, 0, 0, 0, 0, 0, 0, 0, 1, 1, 1, 1, 1, 1, 1, 1, 1, 1, 5, 5,\n",
       "       5, 5, 5, 5, 5, 5, 5, 5])"
      ]
     },
     "execution_count": 19,
     "metadata": {},
     "output_type": "execute_result"
    }
   ],
   "source": [
    "tens = np.array([0]* 10 + [1] * 10 + [5] * 10)\n",
    "tens"
   ]
  },
  {
   "cell_type": "code",
   "execution_count": 25,
   "metadata": {},
   "outputs": [
    {
     "data": {
      "text/plain": [
       "array([[1., 0., 0.],\n",
       "       [0., 1., 0.],\n",
       "       [0., 0., 1.]])"
      ]
     },
     "execution_count": 25,
     "metadata": {},
     "output_type": "execute_result"
    }
   ],
   "source": [
    "ident = np.identity(3)\n",
    "ident"
   ]
  },
  {
   "cell_type": "code",
   "execution_count": 30,
   "metadata": {},
   "outputs": [
    {
     "data": {
      "text/plain": [
       "array([0.46553171])"
      ]
     },
     "execution_count": 30,
     "metadata": {},
     "output_type": "execute_result"
    }
   ],
   "source": [
    "np.random.normal(0,1,1)"
   ]
  },
  {
   "cell_type": "code",
   "execution_count": 32,
   "metadata": {},
   "outputs": [
    {
     "data": {
      "text/plain": [
       "6"
      ]
     },
     "execution_count": 32,
     "metadata": {},
     "output_type": "execute_result"
    }
   ],
   "source": [
    "np.random.choice([7,5,6,0,9])"
   ]
  },
  {
   "cell_type": "code",
   "execution_count": 4,
   "metadata": {},
   "outputs": [
    {
     "data": {
      "text/plain": [
       "array([0.15909109, 0.46588145, 0.01115473, 0.38168056, 0.9519    ])"
      ]
     },
     "execution_count": 4,
     "metadata": {},
     "output_type": "execute_result"
    }
   ],
   "source": [
    "np.random.random(5)"
   ]
  },
  {
   "cell_type": "code",
   "execution_count": 29,
   "metadata": {},
   "outputs": [
    {
     "data": {
      "text/plain": [
       "array([37, 54, 52, 50, 64, 57, 75, 66, 63, 66, 65, 37, 60, 63, 53, 44, 36])"
      ]
     },
     "execution_count": 29,
     "metadata": {},
     "output_type": "execute_result"
    }
   ],
   "source": [
    "import random\n",
    "np.array([random.randrange(33, 77) for _ in range(17)])"
   ]
  },
  {
   "cell_type": "code",
   "execution_count": 11,
   "metadata": {},
   "outputs": [
    {
     "data": {
      "text/plain": [
       "array([  0,   1,   2,   3,   4,   5,   6,   7,   8,  -9, -10, -11, -12,\n",
       "       -13, -14, -15,  16,  17,  18,  19,  20])"
      ]
     },
     "execution_count": 11,
     "metadata": {},
     "output_type": "execute_result"
    }
   ],
   "source": [
    "strt = np.array([x for x in range(0, 21)])\n",
    "strt = np.array([-x if (x >= 9 and x <= 15) else x for x in strt])\n",
    "strt"
   ]
  },
  {
   "cell_type": "code",
   "execution_count": 12,
   "metadata": {},
   "outputs": [
    {
     "data": {
      "text/plain": [
       "array([ 0, 14, 18,  6,  8, 25])"
      ]
     },
     "execution_count": 12,
     "metadata": {},
     "output_type": "execute_result"
    }
   ],
   "source": [
    "a = np.array([0,7,2,3,1,5])\n",
    "b = np.array([8,2,9,2,8,5])\n",
    "\n",
    "b * a"
   ]
  },
  {
   "cell_type": "code",
   "execution_count": 14,
   "metadata": {},
   "outputs": [
    {
     "data": {
      "text/plain": [
       "array([[10, 11, 12, 13],\n",
       "       [14, 15, 16, 17],\n",
       "       [18, 19, 20, 21]])"
      ]
     },
     "execution_count": 14,
     "metadata": {},
     "output_type": "execute_result"
    }
   ],
   "source": [
    "thrfour = np.array([x for x in range(10, 22)]).reshape(-1,4)\n",
    "thrfour"
   ]
  },
  {
   "cell_type": "markdown",
   "metadata": {},
   "source": [
    "Write a NumPy program to create a 10x10 matrix, in which the elements on the borders will be equal to 1, and inside 0."
   ]
  },
  {
   "cell_type": "code",
   "execution_count": 15,
   "metadata": {},
   "outputs": [
    {
     "data": {
      "text/plain": [
       "array([[1., 0., 0., 0., 0.],\n",
       "       [0., 2., 0., 0., 0.],\n",
       "       [0., 0., 3., 0., 0.],\n",
       "       [0., 0., 0., 4., 0.],\n",
       "       [0., 0., 0., 0., 5.]])"
      ]
     },
     "execution_count": 15,
     "metadata": {},
     "output_type": "execute_result"
    }
   ],
   "source": [
    "ar = [1, 2, 3, 4, 5]\n",
    "id = np.identity(5) * ar\n",
    "id"
   ]
  },
  {
   "cell_type": "markdown",
   "metadata": {},
   "source": [
    ". Write a NumPy program to create a 4x4 matrix in which 0 and 1 are staggered, with zeros on the main diagona"
   ]
  },
  {
   "cell_type": "code",
   "execution_count": 28,
   "metadata": {},
   "outputs": [
    {
     "ename": "TypeError",
     "evalue": "Cannot interpret '4' as a data type",
     "output_type": "error",
     "traceback": [
      "\u001b[1;31m---------------------------------------------------------------------------\u001b[0m",
      "\u001b[1;31mTypeError\u001b[0m                                 Traceback (most recent call last)",
      "\u001b[1;32mC:\\Users\\D30001~1\\AppData\\Local\\Temp/ipykernel_1564/3669381690.py\u001b[0m in \u001b[0;36m<module>\u001b[1;34m\u001b[0m\n\u001b[1;32m----> 1\u001b[1;33m \u001b[0mr\u001b[0m \u001b[1;33m=\u001b[0m \u001b[0mnp\u001b[0m\u001b[1;33m.\u001b[0m\u001b[0mones\u001b[0m\u001b[1;33m(\u001b[0m\u001b[1;36m4\u001b[0m\u001b[1;33m,\u001b[0m\u001b[1;36m4\u001b[0m\u001b[1;33m)\u001b[0m\u001b[1;33m\u001b[0m\u001b[1;33m\u001b[0m\u001b[0m\n\u001b[0m\u001b[0;32m      2\u001b[0m \u001b[0mr\u001b[0m\u001b[1;33m\u001b[0m\u001b[1;33m\u001b[0m\u001b[0m\n",
      "\u001b[1;32mC:\\WorkFiles\\WPy64-37120\\pypy3.7-v7.3.7-win64\\site-packages\\numpy\\core\\numeric.py\u001b[0m in \u001b[0;36mones\u001b[1;34m(shape, dtype, order, like)\u001b[0m\n\u001b[0;32m    202\u001b[0m         \u001b[1;32mreturn\u001b[0m \u001b[0m_ones_with_like\u001b[0m\u001b[1;33m(\u001b[0m\u001b[0mshape\u001b[0m\u001b[1;33m,\u001b[0m \u001b[0mdtype\u001b[0m\u001b[1;33m=\u001b[0m\u001b[0mdtype\u001b[0m\u001b[1;33m,\u001b[0m \u001b[0morder\u001b[0m\u001b[1;33m=\u001b[0m\u001b[0morder\u001b[0m\u001b[1;33m,\u001b[0m \u001b[0mlike\u001b[0m\u001b[1;33m=\u001b[0m\u001b[0mlike\u001b[0m\u001b[1;33m)\u001b[0m\u001b[1;33m\u001b[0m\u001b[1;33m\u001b[0m\u001b[0m\n\u001b[0;32m    203\u001b[0m \u001b[1;33m\u001b[0m\u001b[0m\n\u001b[1;32m--> 204\u001b[1;33m     \u001b[0ma\u001b[0m \u001b[1;33m=\u001b[0m \u001b[0mempty\u001b[0m\u001b[1;33m(\u001b[0m\u001b[0mshape\u001b[0m\u001b[1;33m,\u001b[0m \u001b[0mdtype\u001b[0m\u001b[1;33m,\u001b[0m \u001b[0morder\u001b[0m\u001b[1;33m)\u001b[0m\u001b[1;33m\u001b[0m\u001b[1;33m\u001b[0m\u001b[0m\n\u001b[0m\u001b[0;32m    205\u001b[0m     \u001b[0mmultiarray\u001b[0m\u001b[1;33m.\u001b[0m\u001b[0mcopyto\u001b[0m\u001b[1;33m(\u001b[0m\u001b[0ma\u001b[0m\u001b[1;33m,\u001b[0m \u001b[1;36m1\u001b[0m\u001b[1;33m,\u001b[0m \u001b[0mcasting\u001b[0m\u001b[1;33m=\u001b[0m\u001b[1;34m'unsafe'\u001b[0m\u001b[1;33m)\u001b[0m\u001b[1;33m\u001b[0m\u001b[1;33m\u001b[0m\u001b[0m\n\u001b[0;32m    206\u001b[0m     \u001b[1;32mreturn\u001b[0m \u001b[0ma\u001b[0m\u001b[1;33m\u001b[0m\u001b[1;33m\u001b[0m\u001b[0m\n",
      "\u001b[1;31mTypeError\u001b[0m: Cannot interpret '4' as a data type"
     ]
    }
   ],
   "source": [
    "r = np.ones(4,4)"
   ]
  },
  {
   "cell_type": "code",
   "execution_count": 36,
   "metadata": {},
   "outputs": [
    {
     "data": {
      "text/plain": [
       "array([[[2, 2, 2],\n",
       "        [3, 3, 2],\n",
       "        [3, 1, 3]],\n",
       "\n",
       "       [[2, 0, 3],\n",
       "        [0, 3, 2],\n",
       "        [3, 2, 3]],\n",
       "\n",
       "       [[3, 3, 4],\n",
       "        [4, 0, 1],\n",
       "        [2, 4, 0]]])"
      ]
     },
     "execution_count": 36,
     "metadata": {},
     "output_type": "execute_result"
    }
   ],
   "source": [
    "np.array([np.array([np.random.randint(5) for _ in range(9)]).reshape(-1,3) for _ in range(3)])"
   ]
  },
  {
   "cell_type": "code",
   "execution_count": 46,
   "metadata": {},
   "outputs": [
    {
     "data": {
      "text/plain": [
       "array([[[0.11573057, 0.79527433, 0.08315339],\n",
       "        [0.59372618, 0.48787357, 0.006505  ],\n",
       "        [0.21756655, 0.27814849, 0.93151954]],\n",
       "\n",
       "       [[0.41911411, 0.24419867, 0.14964541],\n",
       "        [0.78278471, 0.53047207, 0.87067344],\n",
       "        [0.75840175, 0.77444394, 0.67438612]],\n",
       "\n",
       "       [[0.31633978, 0.786839  , 0.41470854],\n",
       "        [0.80465304, 0.05976003, 0.43251743],\n",
       "        [0.98432548, 0.43845016, 0.14072514]]])"
      ]
     },
     "execution_count": 46,
     "metadata": {},
     "output_type": "execute_result"
    }
   ],
   "source": [
    "np.random.random((3,3,3))"
   ]
  },
  {
   "cell_type": "code",
   "execution_count": 40,
   "metadata": {},
   "outputs": [
    {
     "name": "stdout",
     "output_type": "stream",
     "text": [
      "[[1 3 0]\n",
      " [2 0 1]\n",
      " [3 0 4]]\n",
      "[4 3 7]\n",
      "[6 3 5]\n",
      "14\n"
     ]
    }
   ],
   "source": [
    "summing = np.array([np.random.randint(5) for _ in range(9)]).reshape(-1,3)\n",
    "print(summing)\n",
    "print(summing.sum(axis=1))\n",
    "print(summing.sum(axis=0))\n",
    "print(summing.sum())"
   ]
  },
  {
   "cell_type": "code",
   "execution_count": 41,
   "metadata": {},
   "outputs": [],
   "source": [
    "bet = np.array([np.random.randint(5) for _ in range(9)])\n",
    "bet = bet.tobytes()"
   ]
  },
  {
   "cell_type": "code",
   "execution_count": 44,
   "metadata": {},
   "outputs": [
    {
     "data": {
      "text/plain": [
       "array([4, 3, 3, 2, 4, 0, 4, 1, 4])"
      ]
     },
     "execution_count": 44,
     "metadata": {},
     "output_type": "execute_result"
    }
   ],
   "source": [
    "buf2 = np.frombuffer(bet, dtype= a.dtype) #use just a\n",
    "buf2"
   ]
  },
  {
   "cell_type": "code",
   "execution_count": 47,
   "metadata": {},
   "outputs": [
    {
     "name": "stdout",
     "output_type": "stream",
     "text": [
      "Original array:\n",
      "[[ 0  1  2]\n",
      " [ 3  4  5]\n",
      " [ 6  7  8]\n",
      " [ 9 10 11]]\n",
      "After loading, content of the text file:\n",
      "[[ 0.  1.  2.]\n",
      " [ 3.  4.  5.]\n",
      " [ 6.  7.  8.]\n",
      " [ 9. 10. 11.]]\n"
     ]
    }
   ],
   "source": [
    "import numpy as np\n",
    "import os\n",
    "x = np.arange(12).reshape(4, 3)\n",
    "print(\"Original array:\")\n",
    "print(x)\n",
    "header = 'col1 col2 col3'\n",
    "\n",
    "#There is a constructor to save the files\n",
    "\n",
    "np.savetxt('temp.txt', x, fmt=\"%d\", header=header) \n",
    "print(\"After loading, content of the text file:\")\n",
    "result = np.loadtxt('temp.txt')\n",
    "print(result)"
   ]
  },
  {
   "cell_type": "code",
   "execution_count": 52,
   "metadata": {},
   "outputs": [
    {
     "data": {
      "image/png": "[encoded data removed]",
      "text/plain": [
       "<Figure size 432x288 with 1 Axes>"
      ]
     },
     "metadata": {
      "needs_background": "light"
     },
     "output_type": "display_data"
    }
   ],
   "source": [
    "import matplotlib.pyplot as plt\n",
    "import math\n",
    "\n",
    "\n",
    "x = np.array([x/10 for x in range(1, 100, 1)])\n",
    "y = [math.sin(a) for a in x]\n",
    "\n",
    "plt.plot(x,y)\n",
    "\n",
    "plt.show()\n",
    "\n"
   ]
  },
  {
   "cell_type": "code",
   "execution_count": 56,
   "metadata": {},
   "outputs": [
    {
     "data": {
      "text/plain": [
       "numpy.ndarray"
      ]
     },
     "execution_count": 56,
     "metadata": {},
     "output_type": "execute_result"
    }
   ],
   "source": [
    "type(a[0])\n",
    "a[0] = np.float32()\n",
    "type(a)"
   ]
  },
  {
   "cell_type": "code",
   "execution_count": 67,
   "metadata": {},
   "outputs": [
    {
     "data": {
      "text/plain": [
       "array([13, 14, 15, 16])"
      ]
     },
     "execution_count": 67,
     "metadata": {},
     "output_type": "execute_result"
    }
   ],
   "source": [
    "swap = np.array([x for x in range(1, 17)]).reshape(-1,4)\n",
    "temp = np.copy(swap[-1]) #have to use copy to decouple the connection between temp and the array\n",
    "temp"
   ]
  },
  {
   "cell_type": "code",
   "execution_count": 68,
   "metadata": {},
   "outputs": [],
   "source": [
    "swap[-1] = swap[0]\n"
   ]
  },
  {
   "cell_type": "code",
   "execution_count": 69,
   "metadata": {},
   "outputs": [
    {
     "data": {
      "text/plain": [
       "array([13, 14, 15, 16])"
      ]
     },
     "execution_count": 69,
     "metadata": {},
     "output_type": "execute_result"
    }
   ],
   "source": [
    "temp"
   ]
  },
  {
   "cell_type": "code",
   "execution_count": 70,
   "metadata": {},
   "outputs": [
    {
     "data": {
      "text/plain": [
       "array([[13, 14, 15, 16],\n",
       "       [ 5,  6,  7,  8],\n",
       "       [ 9, 10, 11, 12],\n",
       "       [ 1,  2,  3,  4]])"
      ]
     },
     "execution_count": 70,
     "metadata": {},
     "output_type": "execute_result"
    }
   ],
   "source": [
    "swap[0] = temp\n",
    "swap"
   ]
  },
  {
   "cell_type": "code",
   "execution_count": 75,
   "metadata": {},
   "outputs": [
    {
     "data": {
      "text/plain": [
       "array([[ 1,  2,  3,  4],\n",
       "       [ 5,  6,  7,  8],\n",
       "       [ 9, 10, 11, 12],\n",
       "       [13, 14, 15, 16]])"
      ]
     },
     "execution_count": 75,
     "metadata": {},
     "output_type": "execute_result"
    }
   ],
   "source": [
    "swap.sort(axis=0)\n",
    "swap"
   ]
  },
  {
   "cell_type": "code",
   "execution_count": 76,
   "metadata": {},
   "outputs": [
    {
     "data": {
      "text/plain": [
       "array([[ 1,  2,  3,  4],\n",
       "       [ 5,  6,  7,  8],\n",
       "       [ 9, 10, 11, 12],\n",
       "       [13, 14, 15, 16]])"
      ]
     },
     "execution_count": 76,
     "metadata": {},
     "output_type": "execute_result"
    }
   ],
   "source": [
    "swap.sort(axis=1,)\n",
    "swap"
   ]
  }
 ],
 "metadata": {
  "interpreter": {
   "hash": "a42c93b5eee6b56421653baa65deacde473063d5c4965d27c7a75f4e31a8d403"
  },
  "kernelspec": {
   "display_name": "Python 3.7.12 64-bit (system)",
   "language": "python",
   "name": "python3"
  },
  "language_info": {
   "codemirror_mode": {
    "name": "ipython",
    "version": 3
   },
   "file_extension": ".py",
   "mimetype": "text/x-python",
   "name": "python",
   "nbconvert_exporter": "python",
   "pygments_lexer": "ipython3",
   "version": "3.7.12"
  },
  "orig_nbformat": 4
 },
 "nbformat": 4,
 "nbformat_minor": 2
}
