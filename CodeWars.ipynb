{
 "cells": [
  {
   "cell_type": "code",
   "execution_count": 1,
   "metadata": {},
   "outputs": [],
   "source": [
    "let = [1, 2,3,4,3,2,1]"
   ]
  },
  {
   "cell_type": "code",
   "execution_count": 14,
   "metadata": {},
   "outputs": [],
   "source": [
    "l_sum = 0\n",
    "r_sum = 0\n",
    "\n",
    "from typing import List\n",
    "\n",
    "def find_sum(part: List[int], l:int) ->int:\n",
    "    \"\"\"Given array and an integer, calculate \n",
    "    the sum on both sides of the array\"\"\"\n",
    "\n",
    "    l_sum = sum(part[:l])\n",
    "    r_sum = sum(part[-l:])\n",
    "    \n",
    "    return l_sum, r_sum"
   ]
  },
  {
   "cell_type": "code",
   "execution_count": 23,
   "metadata": {},
   "outputs": [
    {
     "data": {
      "text/plain": [
       "[1, 3, 6, 10, 13, 15, 16]"
      ]
     },
     "execution_count": 23,
     "metadata": {},
     "output_type": "execute_result"
    }
   ],
   "source": [
    "[sum(let[:ind]) + i for ind, i in enumerate(let)]"
   ]
  },
  {
   "cell_type": "code",
   "execution_count": 33,
   "metadata": {},
   "outputs": [
    {
     "data": {
      "text/plain": [
       "[1, 2, 3, 4, 3, 2, 1]"
      ]
     },
     "execution_count": 33,
     "metadata": {},
     "output_type": "execute_result"
    }
   ],
   "source": [
    "[i for i in reversed(let)]"
   ]
  },
  {
   "cell_type": "code",
   "execution_count": 53,
   "metadata": {},
   "outputs": [],
   "source": [
    "def str_rev(arr: List[int]) -> List[List[int]]:\n",
    "    f_sum = [sum(arr[:ind]) for ind, _ in enumerate(arr)]\n",
    "    arr = [i for i in reversed(arr)]\n",
    "    r_sum = [sum(arr[:ind]) for ind, _ in enumerate(arr)]\n",
    "    return f_sum, r_sum\n"
   ]
  },
  {
   "cell_type": "code",
   "execution_count": 61,
   "metadata": {},
   "outputs": [],
   "source": [
    "def str_rev(arr: List[int]) -> List[List[int]]:\n",
    "    f_sum = [sum(arr[:ind]) for ind in range(1, len(arr) - 1)]\n",
    "    arr = [i for i in reversed(arr)]\n",
    "    r_sum = [sum(arr[:ind]) for ind in range(1, len(arr))]\n",
    "    return f_sum, r_sum\n"
   ]
  },
  {
   "cell_type": "code",
   "execution_count": 62,
   "metadata": {},
   "outputs": [
    {
     "data": {
      "text/plain": [
       "([20, 30, -50, -40, -30], [35, 50, 60, 70, -10, 0])"
      ]
     },
     "execution_count": 62,
     "metadata": {},
     "output_type": "execute_result"
    }
   ],
   "source": [
    "tri = [20,10,-80,10,10,15,35]\n",
    "\n",
    "str_rev(tri)"
   ]
  },
  {
   "cell_type": "code",
   "execution_count": 67,
   "metadata": {},
   "outputs": [
    {
     "data": {
      "text/plain": [
       "array([ 35,  50,  60,  70, -10,   0,  20], dtype=int32)"
      ]
     },
     "execution_count": 67,
     "metadata": {},
     "output_type": "execute_result"
    }
   ],
   "source": [
    "import math\n",
    "import numpy as np\n",
    "\n",
    "np.cumsum(tri)\n",
    "\n",
    "rev = [i for i in reversed(tri)]\n",
    "np.cumsum(rev)\n"
   ]
  },
  {
   "cell_type": "code",
   "execution_count": 16,
   "metadata": {},
   "outputs": [
    {
     "data": {
      "text/plain": [
       "(3, 3)"
      ]
     },
     "execution_count": 16,
     "metadata": {},
     "output_type": "execute_result"
    }
   ],
   "source": [
    "find_sum(part=let, l= 2)"
   ]
  },
  {
   "cell_type": "code",
   "execution_count": null,
   "metadata": {},
   "outputs": [],
   "source": [
    "def find_equal_sum_index(arr: List[int]) -> int:\n",
    "    ind = 0\n",
    "    car = 0\n",
    "    l_sum = 0\n",
    "    r_sum = 0\n",
    "    while car < len(arr):\n",
    "\n",
    "        l_sum = l_sum + arr[:car]\n",
    "\n"
   ]
  },
  {
   "cell_type": "code",
   "execution_count": 79,
   "metadata": {},
   "outputs": [
    {
     "data": {
      "text/plain": [
       "8"
      ]
     },
     "execution_count": 79,
     "metadata": {},
     "output_type": "execute_result"
    }
   ],
   "source": [
    "#persistent Bugger\n",
    "\n",
    "x = 24\n",
    "\n",
    "tem = [int(i) for i in str(x)]\n",
    "\n",
    "prod = 1\n",
    "\n",
    "i = 0\n",
    "\n",
    "while i < len(tem):\n",
    "\n",
    "    prod = prod * tem[i] \n",
    "\n",
    "    i = i + 1\n",
    "\n",
    "prod"
   ]
  },
  {
   "cell_type": "code",
   "execution_count": 80,
   "metadata": {},
   "outputs": [],
   "source": [
    "def cum_prod(x: str) ->int:\n",
    "\n",
    "    tem = [int(i) for i in str(x)]\n",
    "\n",
    "    prod = 1\n",
    "\n",
    "    i = 0\n",
    "\n",
    "    while i < len(tem):\n",
    "\n",
    "        prod = prod * tem[i] \n",
    "\n",
    "        i = i + 1\n",
    "    \n",
    "    return prod"
   ]
  },
  {
   "cell_type": "code",
   "execution_count": 95,
   "metadata": {},
   "outputs": [],
   "source": [
    "giv = 4\n",
    "\n",
    "iters = 0\n",
    "\n",
    "while True:\n",
    "\n",
    "    if len(str(giv)) == 1:\n",
    "\n",
    "        break\n",
    "\n",
    "    prov = cum_prod(giv)\n",
    "    \n",
    "    print(prov)\n",
    "    \n",
    "    iters = iters + 1\n",
    "    \n",
    "    giv = prov\n",
    "    "
   ]
  },
  {
   "cell_type": "code",
   "execution_count": 96,
   "metadata": {},
   "outputs": [
    {
     "data": {
      "text/plain": [
       "0"
      ]
     },
     "execution_count": 96,
     "metadata": {},
     "output_type": "execute_result"
    }
   ],
   "source": [
    "iters"
   ]
  }
 ],
 "metadata": {
  "interpreter": {
   "hash": "a42c93b5eee6b56421653baa65deacde473063d5c4965d27c7a75f4e31a8d403"
  },
  "kernelspec": {
   "display_name": "Python 3.7.12 64-bit (system)",
   "language": "python",
   "name": "python3"
  },
  "language_info": {
   "codemirror_mode": {
    "name": "ipython",
    "version": 3
   },
   "file_extension": ".py",
   "mimetype": "text/x-python",
   "name": "python",
   "nbconvert_exporter": "python",
   "pygments_lexer": "ipython3",
   "version": "3.7.12"
  },
  "orig_nbformat": 4
 },
 "nbformat": 4,
 "nbformat_minor": 2
}
