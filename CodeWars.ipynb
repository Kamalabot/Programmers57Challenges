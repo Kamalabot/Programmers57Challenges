{
 "cells": [
  {
   "cell_type": "code",
   "execution_count": 25,
   "metadata": {},
   "outputs": [],
   "source": [
    "let = [1, 2,3,4,3,2,1]"
   ]
  },
  {
   "cell_type": "code",
   "execution_count": 26,
   "metadata": {},
   "outputs": [],
   "source": [
    "l_sum = 0\n",
    "r_sum = 0\n",
    "\n",
    "from typing import List\n",
    "\n",
    "def find_sum(part: List[int], l:int) ->int:\n",
    "    \"\"\"Given array and an integer, calculate \n",
    "    the sum on both sides of the array\"\"\"\n",
    "\n",
    "    l_sum = sum(part[:l])\n",
    "    r_sum = sum(part[-l:])\n",
    "    \n",
    "    return l_sum, r_sum"
   ]
  },
  {
   "cell_type": "code",
   "execution_count": 27,
   "metadata": {},
   "outputs": [
    {
     "data": {
      "text/plain": [
       "[1, 3, 6, 10, 13, 15, 16]"
      ]
     },
     "execution_count": 27,
     "metadata": {},
     "output_type": "execute_result"
    }
   ],
   "source": [
    "[sum(let[:ind]) + i for ind, i in enumerate(let)]"
   ]
  },
  {
   "cell_type": "code",
   "execution_count": 28,
   "metadata": {},
   "outputs": [
    {
     "data": {
      "text/plain": [
       "[1, 2, 3, 4, 3, 2, 1]"
      ]
     },
     "execution_count": 28,
     "metadata": {},
     "output_type": "execute_result"
    }
   ],
   "source": [
    "[i for i in reversed(let)]"
   ]
  },
  {
   "cell_type": "code",
   "execution_count": 29,
   "metadata": {},
   "outputs": [],
   "source": [
    "def str_rev(arr: List[int]) -> List[List[int]]:\n",
    "    f_sum = [sum(arr[:ind]) for ind, _ in enumerate(arr)]\n",
    "    arr = [i for i in reversed(arr)]\n",
    "    r_sum = [sum(arr[:ind]) for ind, _ in enumerate(arr)]\n",
    "    return f_sum, r_sum\n"
   ]
  },
  {
   "cell_type": "code",
   "execution_count": 30,
   "metadata": {},
   "outputs": [],
   "source": [
    "def str_rev(arr: List[int]) -> List[List[int]]:\n",
    "    f_sum = [sum(arr[:ind]) for ind in range(1, len(arr) - 1)]\n",
    "    arr = [i for i in reversed(arr)]\n",
    "    r_sum = [sum(arr[:ind]) for ind in range(1, len(arr))]\n",
    "    return f_sum, r_sum\n"
   ]
  },
  {
   "cell_type": "code",
   "execution_count": 31,
   "metadata": {},
   "outputs": [
    {
     "data": {
      "text/plain": [
       "([20, 30, -50, -40, -30], [35, 50, 60, 70, -10, 0])"
      ]
     },
     "execution_count": 31,
     "metadata": {},
     "output_type": "execute_result"
    }
   ],
   "source": [
    "tri = [20,10,-80,10,10,15,35]\n",
    "\n",
    "str_rev(tri)"
   ]
  },
  {
   "cell_type": "code",
   "execution_count": 32,
   "metadata": {},
   "outputs": [
    {
     "data": {
      "text/plain": [
       "array([ 35,  50,  60,  70, -10,   0,  20], dtype=int32)"
      ]
     },
     "execution_count": 32,
     "metadata": {},
     "output_type": "execute_result"
    }
   ],
   "source": [
    "import math\n",
    "import numpy as np\n",
    "\n",
    "np.cumsum(tri)\n",
    "\n",
    "rev = [i for i in reversed(tri)]\n",
    "np.cumsum(rev)\n"
   ]
  },
  {
   "cell_type": "code",
   "execution_count": 33,
   "metadata": {},
   "outputs": [
    {
     "data": {
      "text/plain": [
       "(3, 3)"
      ]
     },
     "execution_count": 33,
     "metadata": {},
     "output_type": "execute_result"
    }
   ],
   "source": [
    "find_sum(part=let, l= 2)"
   ]
  },
  {
   "cell_type": "code",
   "execution_count": 34,
   "metadata": {},
   "outputs": [],
   "source": [
    "def find_equal_sum_index(arr: List[int]) -> int:\n",
    "    ind = 0\n",
    "    car = 0\n",
    "    l_sum = 0\n",
    "    r_sum = 0\n",
    "    while car < len(arr):\n",
    "\n",
    "        l_sum = l_sum + arr[:car]\n",
    "\n"
   ]
  },
  {
   "cell_type": "code",
   "execution_count": 35,
   "metadata": {},
   "outputs": [
    {
     "data": {
      "text/plain": [
       "8"
      ]
     },
     "execution_count": 35,
     "metadata": {},
     "output_type": "execute_result"
    }
   ],
   "source": [
    "#persistent Bugger\n",
    "\n",
    "x = 24\n",
    "\n",
    "tem = [int(i) for i in str(x)]\n",
    "\n",
    "prod = 1\n",
    "\n",
    "i = 0\n",
    "\n",
    "while i < len(tem):\n",
    "\n",
    "    prod = prod * tem[i] \n",
    "\n",
    "    i = i + 1\n",
    "\n",
    "prod"
   ]
  },
  {
   "cell_type": "code",
   "execution_count": 36,
   "metadata": {},
   "outputs": [],
   "source": [
    "def cum_prod(x: str) ->int:\n",
    "\n",
    "    tem = [int(i) for i in str(x)]\n",
    "\n",
    "    prod = 1\n",
    "\n",
    "    i = 0\n",
    "\n",
    "    while i < len(tem):\n",
    "\n",
    "        prod = prod * tem[i] \n",
    "\n",
    "        i = i + 1\n",
    "    \n",
    "    return prod"
   ]
  },
  {
   "cell_type": "code",
   "execution_count": 37,
   "metadata": {},
   "outputs": [],
   "source": [
    "giv = 4\n",
    "\n",
    "iters = 0\n",
    "\n",
    "while True:\n",
    "\n",
    "    if len(str(giv)) == 1:\n",
    "\n",
    "        break\n",
    "\n",
    "    prov = cum_prod(giv)\n",
    "    \n",
    "    print(prov)\n",
    "    \n",
    "    iters = iters + 1\n",
    "    \n",
    "    giv = prov\n",
    "    "
   ]
  },
  {
   "cell_type": "code",
   "execution_count": 38,
   "metadata": {},
   "outputs": [],
   "source": [
    "import numpy as np\n",
    "from sklearn.model_selection import train_test_split \n",
    "from sklearn.ensemble import AdaBoostClassifier\n",
    "\n",
    "\n",
    "\n",
    "def train_ada_boost(X, target, estimators = 3, random_seed = 0):\n",
    "    #split\n",
    "    X_train, X_test, y_train, y_test = train_test_split(X, target, test_size=0.33, random_state=random_seed)\n",
    "    #Initialize the model\n",
    "    model = AdaBoostClassifier(n_estimators = estimators, random_state = random_seed)\n",
    "    #fit\n",
    "    model.fit(X_train, y_train)\n",
    "    #return\n",
    "    return model, X_test, y_test"
   ]
  },
  {
   "cell_type": "code",
   "execution_count": 39,
   "metadata": {},
   "outputs": [
    {
     "ename": "TypeError",
     "evalue": "cannot unpack non-iterable int object",
     "output_type": "error",
     "traceback": [
      "\u001b[1;31m---------------------------------------------------------------------------\u001b[0m",
      "\u001b[1;31mTypeError\u001b[0m                                 Traceback (most recent call last)",
      "\u001b[1;32mC:\\Users\\D30001~1\\AppData\\Local\\Temp/ipykernel_1912/550437914.py\u001b[0m in \u001b[0;36m<module>\u001b[1;34m\u001b[0m\n\u001b[1;32m----> 1\u001b[1;33m \u001b[0mxax\u001b[0m \u001b[1;33m=\u001b[0m \u001b[0mdict\u001b[0m\u001b[1;33m(\u001b[0m\u001b[1;33m[\u001b[0m\u001b[1;36m5\u001b[0m\u001b[1;33m,\u001b[0m\u001b[1;36m7\u001b[0m\u001b[1;33m,\u001b[0m\u001b[1;36m5\u001b[0m\u001b[1;33m,\u001b[0m\u001b[1;36m6\u001b[0m\u001b[1;33m]\u001b[0m\u001b[1;33m)\u001b[0m\u001b[1;33m\u001b[0m\u001b[1;33m\u001b[0m\u001b[0m\n\u001b[0m\u001b[0;32m      2\u001b[0m \u001b[0mxax\u001b[0m\u001b[1;33m\u001b[0m\u001b[1;33m\u001b[0m\u001b[0m\n",
      "\u001b[1;31mTypeError\u001b[0m: cannot unpack non-iterable int object"
     ]
    }
   ],
   "source": [
    "xax = dict([5,7,5,6])\n",
    "xax"
   ]
  },
  {
   "cell_type": "code",
   "execution_count": null,
   "metadata": {},
   "outputs": [
    {
     "data": {
      "text/plain": [
       "dict"
      ]
     },
     "execution_count": 9,
     "metadata": {},
     "output_type": "execute_result"
    }
   ],
   "source": [
    "xax = {b:x for x in [5,7,5,0] for b in [6,5,8,7]}\n",
    "type(xax)"
   ]
  },
  {
   "cell_type": "code",
   "execution_count": null,
   "metadata": {},
   "outputs": [],
   "source": [
    "def modified_sum(a: List[int], n) -> int:\n",
    "\n",
    "    return sum([alfa ** n for alfa in a]) - sum(a)"
   ]
  },
  {
   "cell_type": "code",
   "execution_count": null,
   "metadata": {},
   "outputs": [],
   "source": [
    "def variance(numbers: List[int]) -> int:\n",
    "\n",
    "    return sum([((x - (sum(numbers)/len(numbers))) ** 2)  for x in numbers]) / len(numbers)"
   ]
  },
  {
   "cell_type": "code",
   "execution_count": null,
   "metadata": {},
   "outputs": [
    {
     "data": {
      "text/plain": [
       "200.0"
      ]
     },
     "execution_count": 8,
     "metadata": {},
     "output_type": "execute_result"
    }
   ],
   "source": [
    "variance([-10, 0, 10, 20, 30])"
   ]
  },
  {
   "cell_type": "code",
   "execution_count": null,
   "metadata": {},
   "outputs": [],
   "source": [
    "#Test Driven Development"
   ]
  },
  {
   "cell_type": "code",
   "execution_count": null,
   "metadata": {},
   "outputs": [],
   "source": [
    "def per(number):\n",
    "    per_mul = []\n",
    "    while len(str(number)) != 1:\n",
    "\n",
    "        temp = [int(x) for x in str(number)]\n",
    "        number = 1\n",
    "        ind = 0\n",
    "        while ind < len(temp):\n",
    "            number = number * temp[ind]\n",
    "            ind = ind + 1\n",
    "        per_mul.append(number)\n",
    "        \n",
    "    return per_mul\n"
   ]
  },
  {
   "cell_type": "code",
   "execution_count": null,
   "metadata": {},
   "outputs": [],
   "source": [
    "#Multiplicative Persistance\n",
    "#assert(per() == [])\n",
    "assert(per(8), [])\n",
    "assert(per(10), [0])\n",
    "assert(per(277777788888899), [4996238671872, 438939648, 4478976, 338688, 27648, 2688, 768, 336, 54, 20, 0])\n",
    "assert(per(69), [54, 20, 0])"
   ]
  },
  {
   "cell_type": "code",
   "execution_count": null,
   "metadata": {},
   "outputs": [
    {
     "name": "stdout",
     "output_type": "stream",
     "text": [
      "Collecting PyMonad\n",
      "  Downloading PyMonad-2.4.0-py3-none-any.whl (29 kB)\n",
      "Installing collected packages: PyMonad\n",
      "Successfully installed PyMonad-2.4.0\n",
      "Note: you may need to restart the kernel to use updated packages.\n"
     ]
    },
    {
     "name": "stderr",
     "output_type": "stream",
     "text": [
      "WARNING: You are using pip version 22.0.4; however, version 22.1 is available.\n",
      "You should consider upgrading via the 'C:\\WorkFiles\\WPy64-37120\\pypy3.7-v7.3.7-win64\\python.exe -m pip install --upgrade pip' command.\n"
     ]
    }
   ],
   "source": [
    "class DataMining:\n",
    "\n",
    "    def __init__(self, train_set):\n",
    "        self.train_set = train_set\n",
    "\n",
    "    def predict(self, x):\n",
    "        pass\n",
    "\n",
    "    def train(self, train_set):\n",
    "        "
   ]
  },
  {
   "cell_type": "code",
   "execution_count": null,
   "metadata": {},
   "outputs": [],
   "source": [
    "import re\n",
    "def validate_pin(pin):\n",
    "    reg = \"[0-9]{6}|[0-9]{4}\"\n",
    "    found = re.findall(reg, pin)\n",
    "    \n",
    "    if found != []:\n",
    "        return [f for f in re.findall(reg, pin) if f != ''][0] == pin\n",
    "    \n",
    "    else:\n",
    "        return False"
   ]
  },
  {
   "cell_type": "code",
   "execution_count": null,
   "metadata": {},
   "outputs": [
    {
     "name": "stdout",
     "output_type": "stream",
     "text": [
      "5767\n"
     ]
    }
   ],
   "source": [
    "reg = \"([0-9]{6})|([0-9]{4})\"\n",
    "pin = '5767'\n",
    "print([x for f in re.findall(reg, pin) for x in f if x != ''][0])"
   ]
  },
  {
   "cell_type": "code",
   "execution_count": null,
   "metadata": {},
   "outputs": [],
   "source": [
    "   pattern = re.compile(r\"\"\"\\d{4}    # 4 digits\n",
    "                              |       #   OR\n",
    "                             \\d{6}    # 6 digits\n",
    "                             \"\"\", re.VERBOSE)"
   ]
  },
  {
   "cell_type": "code",
   "execution_count": null,
   "metadata": {},
   "outputs": [
    {
     "data": {
      "text/plain": [
       "True"
      ]
     },
     "execution_count": 78,
     "metadata": {},
     "output_type": "execute_result"
    }
   ],
   "source": [
    "reg = \"([0-9]{6})|([0-9]{4})\"\n",
    "pin = '5767'\n",
    "bool(re.fullmatch(reg, pin))"
   ]
  },
  {
   "cell_type": "code",
   "execution_count": null,
   "metadata": {},
   "outputs": [
    {
     "data": {
      "text/plain": [
       "False"
      ]
     },
     "execution_count": 80,
     "metadata": {},
     "output_type": "execute_result"
    }
   ],
   "source": [
    "reg = \"([0-9]{6})|([0-9]{4})\"\n",
    "lob = '57685887'\n",
    "bool(re.fullmatch(reg, lob))\n",
    "#print([x for f in re.findall(reg,lob) for x in f if x != ''][0])"
   ]
  },
  {
   "cell_type": "code",
   "execution_count": null,
   "metadata": {},
   "outputs": [
    {
     "data": {
      "text/plain": [
       "'576857'"
      ]
     },
     "execution_count": 46,
     "metadata": {},
     "output_type": "execute_result"
    }
   ],
   "source": [
    "reg = \"([0-9]{6})|([0-9]{4})\"\n",
    "[x for f in re.findall(reg, '57685777') for x in f if x != ''][0]"
   ]
  },
  {
   "cell_type": "code",
   "execution_count": null,
   "metadata": {},
   "outputs": [
    {
     "data": {
      "text/plain": [
       "[]"
      ]
     },
     "execution_count": 76,
     "metadata": {},
     "output_type": "execute_result"
    }
   ],
   "source": [
    "reg = \"([0-9]{6})|([0-9]{4})\"\n",
    "[x for f in re.findall(reg, '5') for x in f if x != '']"
   ]
  },
  {
   "cell_type": "code",
   "execution_count": null,
   "metadata": {},
   "outputs": [
    {
     "name": "stdout",
     "output_type": "stream",
     "text": [
      "1558\n"
     ]
    },
    {
     "data": {
      "text/plain": [
       "True"
      ]
     },
     "execution_count": 71,
     "metadata": {},
     "output_type": "execute_result"
    }
   ],
   "source": [
    "validate_pin('1558')"
   ]
  },
  {
   "cell_type": "code",
   "execution_count": null,
   "metadata": {},
   "outputs": [
    {
     "ename": "IndexError",
     "evalue": "list index out of range",
     "output_type": "error",
     "traceback": [
      "\u001b[1;31m---------------------------------------------------------------------------\u001b[0m",
      "\u001b[1;31mIndexError\u001b[0m                                Traceback (most recent call last)",
      "\u001b[1;32mC:\\Users\\D30001~1\\AppData\\Local\\Temp/ipykernel_10152/419872577.py\u001b[0m in \u001b[0;36m<module>\u001b[1;34m\u001b[0m\n\u001b[1;32m----> 1\u001b[1;33m \u001b[0mvalidate_pin\u001b[0m\u001b[1;33m(\u001b[0m\u001b[1;34m'1'\u001b[0m\u001b[1;33m)\u001b[0m\u001b[1;33m\u001b[0m\u001b[1;33m\u001b[0m\u001b[0m\n\u001b[0m",
      "\u001b[1;32mC:\\Users\\D30001~1\\AppData\\Local\\Temp/ipykernel_10152/848735934.py\u001b[0m in \u001b[0;36mvalidate_pin\u001b[1;34m(pin)\u001b[0m\n\u001b[0;32m      2\u001b[0m \u001b[1;32mdef\u001b[0m \u001b[0mvalidate_pin\u001b[0m\u001b[1;33m(\u001b[0m\u001b[0mpin\u001b[0m\u001b[1;33m)\u001b[0m\u001b[1;33m:\u001b[0m\u001b[1;33m\u001b[0m\u001b[1;33m\u001b[0m\u001b[0m\n\u001b[0;32m      3\u001b[0m     \u001b[0mreg\u001b[0m \u001b[1;33m=\u001b[0m \u001b[1;34m\"[0-9]{6}|[0-9]{4}\"\u001b[0m\u001b[1;33m\u001b[0m\u001b[1;33m\u001b[0m\u001b[0m\n\u001b[1;32m----> 4\u001b[1;33m     \u001b[0mprint\u001b[0m\u001b[1;33m(\u001b[0m\u001b[1;33m[\u001b[0m\u001b[0mf\u001b[0m \u001b[1;32mfor\u001b[0m \u001b[0mf\u001b[0m \u001b[1;32min\u001b[0m \u001b[0mre\u001b[0m\u001b[1;33m.\u001b[0m\u001b[0mfindall\u001b[0m\u001b[1;33m(\u001b[0m\u001b[0mreg\u001b[0m\u001b[1;33m,\u001b[0m \u001b[0mpin\u001b[0m\u001b[1;33m)\u001b[0m \u001b[1;32mif\u001b[0m \u001b[0mf\u001b[0m \u001b[1;33m!=\u001b[0m \u001b[1;34m''\u001b[0m\u001b[1;33m]\u001b[0m\u001b[1;33m[\u001b[0m\u001b[1;36m0\u001b[0m\u001b[1;33m]\u001b[0m\u001b[1;33m)\u001b[0m\u001b[1;33m\u001b[0m\u001b[1;33m\u001b[0m\u001b[0m\n\u001b[0m\u001b[0;32m      5\u001b[0m     \u001b[1;32mreturn\u001b[0m \u001b[1;33m[\u001b[0m\u001b[0mf\u001b[0m \u001b[1;32mfor\u001b[0m \u001b[0mf\u001b[0m \u001b[1;32min\u001b[0m \u001b[0mre\u001b[0m\u001b[1;33m.\u001b[0m\u001b[0mfindall\u001b[0m\u001b[1;33m(\u001b[0m\u001b[0mreg\u001b[0m\u001b[1;33m,\u001b[0m \u001b[0mpin\u001b[0m\u001b[1;33m)\u001b[0m \u001b[1;32mif\u001b[0m \u001b[0mf\u001b[0m \u001b[1;33m!=\u001b[0m \u001b[1;34m''\u001b[0m\u001b[1;33m]\u001b[0m\u001b[1;33m[\u001b[0m\u001b[1;36m0\u001b[0m\u001b[1;33m]\u001b[0m \u001b[1;33m==\u001b[0m \u001b[0mpin\u001b[0m\u001b[1;33m\u001b[0m\u001b[1;33m\u001b[0m\u001b[0m\n",
      "\u001b[1;31mIndexError\u001b[0m: list index out of range"
     ]
    }
   ],
   "source": [
    "validate_pin('1')"
   ]
  },
  {
   "cell_type": "code",
   "execution_count": null,
   "metadata": {},
   "outputs": [
    {
     "name": "stdout",
     "output_type": "stream",
     "text": [
      "155808\n"
     ]
    },
    {
     "data": {
      "text/plain": [
       "True"
      ]
     },
     "execution_count": 72,
     "metadata": {},
     "output_type": "execute_result"
    }
   ],
   "source": [
    "validate_pin('155808')"
   ]
  },
  {
   "cell_type": "code",
   "execution_count": null,
   "metadata": {},
   "outputs": [
    {
     "name": "stdout",
     "output_type": "stream",
     "text": [
      "155808\n"
     ]
    },
    {
     "data": {
      "text/plain": [
       "False"
      ]
     },
     "execution_count": 73,
     "metadata": {},
     "output_type": "execute_result"
    }
   ],
   "source": [
    "validate_pin('15580889')"
   ]
  },
  {
   "cell_type": "code",
   "execution_count": null,
   "metadata": {},
   "outputs": [
    {
     "ename": "AssertionError",
     "evalue": "",
     "output_type": "error",
     "traceback": [
      "\u001b[1;31m---------------------------------------------------------------------------\u001b[0m",
      "\u001b[1;31mAssertionError\u001b[0m                            Traceback (most recent call last)",
      "\u001b[1;32mC:\\Users\\D30001~1\\AppData\\Local\\Temp/ipykernel_10152/188505568.py\u001b[0m in \u001b[0;36m<module>\u001b[1;34m\u001b[0m\n\u001b[1;32m----> 1\u001b[1;33m \u001b[1;32massert\u001b[0m\u001b[1;33m(\u001b[0m\u001b[0mvalidate_pin\u001b[0m\u001b[1;33m(\u001b[0m\u001b[1;34m'1558'\u001b[0m\u001b[1;33m)\u001b[0m \u001b[1;33m==\u001b[0m \u001b[1;32mTrue\u001b[0m\u001b[1;33m)\u001b[0m\u001b[1;33m\u001b[0m\u001b[1;33m\u001b[0m\u001b[0m\n\u001b[0m",
      "\u001b[1;31mAssertionError\u001b[0m: "
     ]
    }
   ],
   "source": [
    "assert(validate_pin('1558') == True)"
   ]
  },
  {
   "cell_type": "code",
   "execution_count": null,
   "metadata": {},
   "outputs": [
    {
     "data": {
      "text/plain": [
       "-1.0"
      ]
     },
     "execution_count": 86,
     "metadata": {},
     "output_type": "execute_result"
    }
   ],
   "source": [
    "-1 ** 0.5"
   ]
  },
  {
   "cell_type": "code",
   "execution_count": null,
   "metadata": {},
   "outputs": [
    {
     "data": {
      "text/plain": [
       "True"
      ]
     },
     "execution_count": 85,
     "metadata": {},
     "output_type": "execute_result"
    }
   ],
   "source": [
    "(-1 ** 0.5).is_integer()"
   ]
  },
  {
   "cell_type": "code",
   "execution_count": null,
   "metadata": {},
   "outputs": [
    {
     "data": {
      "text/plain": [
       "False"
      ]
     },
     "execution_count": 89,
     "metadata": {},
     "output_type": "execute_result"
    }
   ],
   "source": [
    "(49.5 ** 0.5).is_integer()"
   ]
  },
  {
   "cell_type": "code",
   "execution_count": null,
   "metadata": {},
   "outputs": [
    {
     "data": {
      "text/plain": [
       "False"
      ]
     },
     "execution_count": 91,
     "metadata": {},
     "output_type": "execute_result"
    }
   ],
   "source": [
    "a = 49.5\n",
    "a.is_integer()"
   ]
  },
  {
   "cell_type": "code",
   "execution_count": null,
   "metadata": {},
   "outputs": [],
   "source": [
    "string = \"\"\"Twinkle, twinkle, little star, \n",
    "          How I wonder what you are! Up above the world \n",
    "          so high, Like a diamond in the sky. Twinkle, \n",
    "          twinkle, little star, How \n",
    "          I wonder what you are\"\"\""
   ]
  },
  {
   "cell_type": "code",
   "execution_count": null,
   "metadata": {},
   "outputs": [
    {
     "name": "stdout",
     "output_type": "stream",
     "text": [
      "Twinkle, twinkle, little star, \n",
      "\t          How I wonder what you are! Up above the world \n",
      "\t\t          so high, Like a diamond in the sky. Twinkle, \n",
      "\t\t          twinkle, little star, How \n",
      "          I wonder what you are\n"
     ]
    }
   ],
   "source": [
    "morp_list = string.split('\\n')\n",
    "\n",
    "morp_list[0] = morp_list[0]\n",
    "morp_list[1] = '\\t' + morp_list[1]\n",
    "morp_list[2] = '\\t\\t' + morp_list[2]\n",
    "morp_list[3] = '\\t\\t' + morp_list[3]\n",
    "morp_list = '\\n'.join(morp_list)\n",
    "print(morp_list)"
   ]
  },
  {
   "cell_type": "code",
   "execution_count": null,
   "metadata": {},
   "outputs": [
    {
     "data": {
      "text/plain": [
       "'3.7.12 (44db26267d0a, Oct 24 2021, 14:22:11)\\n[PyPy 7.3.7 with MSC v.1929 64 bit (AMD64)]'"
      ]
     },
     "execution_count": 21,
     "metadata": {},
     "output_type": "execute_result"
    }
   ],
   "source": [
    "import sys\n",
    "sys.version"
   ]
  },
  {
   "cell_type": "code",
   "execution_count": null,
   "metadata": {},
   "outputs": [
    {
     "data": {
      "text/plain": [
       "datetime.datetime(2022, 5, 21, 14, 46, 31, 40782)"
      ]
     },
     "execution_count": 24,
     "metadata": {},
     "output_type": "execute_result"
    }
   ],
   "source": [
    "import datetime\n",
    "\n",
    "datetime.datetime.now()"
   ]
  },
  {
   "cell_type": "code",
   "execution_count": null,
   "metadata": {},
   "outputs": [],
   "source": [
    "#word.isalpha()\n",
    "def pig_it(text):\n",
    "    if text.split(' '):\n",
    "        return ' '.join([wor[1:] + wor[0] + 'ay' if wor not in '?!*_/:;' else wor for wor in text.split(' ') ])"
   ]
  },
  {
   "cell_type": "code",
   "execution_count": null,
   "metadata": {},
   "outputs": [],
   "source": [
    "import unittest\n",
    "\n",
    "assert(pig_it('Pig latin is cool') == 'igPay atinlay siay oolcay')\n",
    "assert(pig_it('This is my string !') == 'hisTay siay ymay tringsay !')"
   ]
  },
  {
   "cell_type": "code",
   "execution_count": null,
   "metadata": {},
   "outputs": [
    {
     "data": {
      "text/plain": [
       "['igPay', 'atinlay', 'siay', 'oolcay']"
      ]
     },
     "execution_count": 3,
     "metadata": {},
     "output_type": "execute_result"
    }
   ],
   "source": [
    "text = 'Pig latin is cool'\n",
    "[wor[1:] + wor[0] + 'ay' for wor in text.split(' ')]"
   ]
  },
  {
   "cell_type": "code",
   "execution_count": null,
   "metadata": {},
   "outputs": [],
   "source": [
    "class Ball(object):\n",
    "\n",
    "    def __init__(self, ball_type = 'regular'):\n",
    "        self.ball_type = ball_type\n",
    "\n",
    "ball_a = Ball()\n",
    "ball_s = Ball('sumper')\n",
    "assert(ball_a.ball_type == 'regular')\n",
    "assert(ball_s.ball_type == 'sumper') \n"
   ]
  },
  {
   "cell_type": "code",
   "execution_count": null,
   "metadata": {},
   "outputs": [],
   "source": [
    "class Human(object):\n",
    "\n",
    "    def __init__(self):\n",
    "        pass\n",
    "\n",
    "class Man(Human):\n",
    "\n",
    "    def __init__(self):\n",
    "        pass\n",
    "\n",
    "class Woman(Human):\n",
    "\n",
    "    def __init__(self):\n",
    "        pass\n",
    "\n",
    "def God():\n",
    "\n",
    "    return [Man(), Woman()]\n",
    "\n",
    "paradise = God()\n"
   ]
  },
  {
   "cell_type": "code",
   "execution_count": null,
   "metadata": {},
   "outputs": [
    {
     "data": {
      "text/plain": [
       "True"
      ]
     },
     "execution_count": 18,
     "metadata": {},
     "output_type": "execute_result"
    }
   ],
   "source": [
    "isinstance(paradise[0],Man)"
   ]
  },
  {
   "cell_type": "code",
   "execution_count": null,
   "metadata": {},
   "outputs": [
    {
     "data": {
      "text/plain": [
       "True"
      ]
     },
     "execution_count": 20,
     "metadata": {},
     "output_type": "execute_result"
    }
   ],
   "source": [
    "isinstance(paradise[1],Woman)"
   ]
  },
  {
   "cell_type": "code",
   "execution_count": 41,
   "metadata": {},
   "outputs": [
    {
     "name": "stdout",
     "output_type": "stream",
     "text": [
      "Johns age is 65\n",
      "Deres age is 56\n",
      "livs age is 46\n",
      "ives age is 57\n"
     ]
    }
   ],
   "source": [
    "class Person(object):\n",
    "    \n",
    "    def __init__(self, name, age):\n",
    "        \n",
    "        self.name = name\n",
    "        self.age = age\n",
    "\n",
    "    def info(self):\n",
    "\n",
    "        print(f\"{self.name}s age is {self.age}\")\n",
    "\n",
    "names = ['John','Dere','liv', 'ive']\n",
    "age = [65, 56, 46, 57]\n",
    "\n",
    "for x in range(4):\n",
    "    person = Person(names[x], age[x])\n",
    "    person.info()"
   ]
  },
  {
   "cell_type": "code",
   "execution_count": 55,
   "metadata": {},
   "outputs": [
    {
     "name": "stdout",
     "output_type": "stream",
     "text": [
      "Johns age is 65\n",
      "Deres age is 56\n",
      "livs age is 46\n",
      "ives age is 57\n"
     ]
    }
   ],
   "source": [
    "class Person(object):\n",
    "    \n",
    "    def __init__(self, name, age):\n",
    "        \n",
    "        self.name = name\n",
    "        self.age = str(age)\n",
    "        self.info = f\"{self.name}s age is {self.age}\"\n",
    "        \n",
    "\n",
    "names = ['John','Dere','liv', 'ive']\n",
    "age = [65, 56, 46, 57]\n",
    "\n",
    "for x in range(4):\n",
    "    person = Person(names[x], age[x])\n",
    "    print(person.info)"
   ]
  },
  {
   "cell_type": "code",
   "execution_count": 51,
   "metadata": {},
   "outputs": [
    {
     "data": {
      "text/plain": [
       "<bound method Person.info of <__main__.Person object at 0x0000020d3a3b0288>>"
      ]
     },
     "execution_count": 51,
     "metadata": {},
     "output_type": "execute_result"
    }
   ],
   "source": [
    "person.info"
   ]
  },
  {
   "cell_type": "code",
   "execution_count": 28,
   "metadata": {},
   "outputs": [],
   "source": [
    "class List:\n",
    "    \n",
    "    def remove_(self, integer_list, values_list):\n",
    "    \n",
    "        if len(integer_list) == 0 or len(values_list) == 0:\n",
    "            \n",
    "            raise 'Error'\n",
    "            \n",
    "        for x in values_list:\n",
    "\n",
    "            cnt = integer_list.count(x)\n",
    "\n",
    "            while cnt != 0:        \n",
    "                \n",
    "                integer_list.remove(x)\n",
    "\n",
    "                cnt -= 1\n",
    "        \n",
    "        return integer_list"
   ]
  },
  {
   "cell_type": "code",
   "execution_count": 29,
   "metadata": {},
   "outputs": [],
   "source": [
    "a = List()"
   ]
  },
  {
   "cell_type": "code",
   "execution_count": 30,
   "metadata": {},
   "outputs": [],
   "source": [
    "integer_list = [1, 1, 2 ,3 ,1 ,2 ,3 ,4, 4, 3 ,5, 6, 7, 2, 8]"
   ]
  },
  {
   "cell_type": "code",
   "execution_count": 24,
   "metadata": {},
   "outputs": [
    {
     "data": {
      "text/plain": [
       "3"
      ]
     },
     "execution_count": 24,
     "metadata": {},
     "output_type": "execute_result"
    }
   ],
   "source": [
    "integer_list.count(1)"
   ]
  },
  {
   "cell_type": "code",
   "execution_count": 31,
   "metadata": {},
   "outputs": [
    {
     "data": {
      "text/plain": [
       "[5, 6, 7, 8]"
      ]
     },
     "execution_count": 31,
     "metadata": {},
     "output_type": "execute_result"
    }
   ],
   "source": [
    "values_list  = [1, 3, 4, 2]\n",
    "\n",
    "a.remove_(integer_list, values_list)\n",
    "integer_list"
   ]
  },
  {
   "cell_type": "code",
   "execution_count": 27,
   "metadata": {},
   "outputs": [
    {
     "data": {
      "text/plain": [
       "[2, 2, 4]"
      ]
     },
     "execution_count": 27,
     "metadata": {},
     "output_type": "execute_result"
    }
   ],
   "source": [
    "integer_list =  [1, 1, 2 ,3 ,1 ,2 ,3 ,4]\n",
    "values_list = [1, 3]\n",
    "\n",
    "l.remove_(integer_list, values_list)"
   ]
  },
  {
   "cell_type": "code",
   "execution_count": 32,
   "metadata": {},
   "outputs": [],
   "source": [
    "l = List()\n",
    "\n",
    "integer_list =  [1, 1, 2 ,3 ,1 ,2 ,3 ,4]\n",
    "values_list = [1, 3]\n",
    "assert(l.remove_(integer_list, values_list), [2, 2, 4])\n",
    "\n",
    "integer_list = [1, 1, 2 ,3 ,1 ,2 ,3 ,4, 4, 3 ,5, 6, 7, 2, 8]\n",
    "values_list  = [1, 3, 4, 2]\n",
    "assert(l.remove_(integer_list, values_list) ==  [5, 6 ,7 ,8])\n",
    "\n",
    "integer_list = [8, 2, 7, 2, 3, 4, 6, 5, 4, 4, 1, 2 , 3]\n",
    "values_list  = [2, 4, 3]\n",
    "assert(l.remove_(integer_list, values_list), [8, 7, 6, 5, 1])\n"
   ]
  },
  {
   "cell_type": "code",
   "execution_count": 35,
   "metadata": {},
   "outputs": [
    {
     "name": "stdout",
     "output_type": "stream",
     "text": [
      "2019329383512\n",
      "2019329383512\n"
     ]
    }
   ],
   "source": [
    "integer_list = [8, 2, 7, 2, 3, 4, 6, 5, 4, 4, 1, 2 , 3]\n",
    "print(id(integer_list))\n",
    "values_list  = [2, 4, 3]\n",
    "\n",
    "l.remove_(integer_list, values_list)\n",
    "print(id(integer_list))"
   ]
  },
  {
   "cell_type": "code",
   "execution_count": 36,
   "metadata": {},
   "outputs": [
    {
     "name": "stdout",
     "output_type": "stream",
     "text": [
      "2019335975240\n",
      "2019335975264\n"
     ]
    }
   ],
   "source": [
    "integer_list = [8, 2, 7, 2, 3, 4, 6, 5, 4, 4, 1, 2 , 3]\n",
    "print(id(integer_list))\n",
    "integer_list = list(set(integer_list))\n",
    "print(id(integer_list))"
   ]
  },
  {
   "cell_type": "code",
   "execution_count": 13,
   "metadata": {},
   "outputs": [
    {
     "ename": "AttributeError",
     "evalue": "type object 'List' has no attribute '__class_getitem__'",
     "output_type": "error",
     "traceback": [
      "\u001b[1;31m---------------------------------------------------------------------------\u001b[0m",
      "\u001b[1;31mAttributeError\u001b[0m                            Traceback (most recent call last)",
      "\u001b[1;32mC:\\Users\\D30001~1\\AppData\\Local\\Temp/ipykernel_6812/75421307.py\u001b[0m in \u001b[0;36m<module>\u001b[1;34m\u001b[0m\n\u001b[1;32m----> 1\u001b[1;33m \u001b[1;32mclass\u001b[0m \u001b[0mSong\u001b[0m\u001b[1;33m(\u001b[0m\u001b[0mobject\u001b[0m\u001b[1;33m)\u001b[0m\u001b[1;33m:\u001b[0m\u001b[1;33m\u001b[0m\u001b[1;33m\u001b[0m\u001b[0m\n\u001b[0m\u001b[0;32m      2\u001b[0m \u001b[1;33m\u001b[0m\u001b[0m\n\u001b[0;32m      3\u001b[0m     \u001b[1;32mdef\u001b[0m \u001b[0m__init__\u001b[0m\u001b[1;33m(\u001b[0m\u001b[0mself\u001b[0m\u001b[1;33m,\u001b[0m \u001b[0mtitle\u001b[0m\u001b[1;33m,\u001b[0m \u001b[0martist\u001b[0m\u001b[1;33m)\u001b[0m\u001b[1;33m:\u001b[0m\u001b[1;33m\u001b[0m\u001b[1;33m\u001b[0m\u001b[0m\n\u001b[0;32m      4\u001b[0m         \u001b[0mself\u001b[0m\u001b[1;33m.\u001b[0m\u001b[0mtitle\u001b[0m \u001b[1;33m=\u001b[0m \u001b[0mtitle\u001b[0m\u001b[1;33m\u001b[0m\u001b[1;33m\u001b[0m\u001b[0m\n\u001b[0;32m      5\u001b[0m         \u001b[0mself\u001b[0m\u001b[1;33m.\u001b[0m\u001b[0martist\u001b[0m \u001b[1;33m=\u001b[0m \u001b[0martist\u001b[0m\u001b[1;33m\u001b[0m\u001b[1;33m\u001b[0m\u001b[0m\n",
      "\u001b[1;32mC:\\Users\\D30001~1\\AppData\\Local\\Temp/ipykernel_6812/75421307.py\u001b[0m in \u001b[0;36mSong\u001b[1;34m(***failed resolving arguments***)\u001b[0m\n\u001b[0;32m      6\u001b[0m         \u001b[0mself\u001b[0m\u001b[1;33m.\u001b[0m\u001b[0mdata_store\u001b[0m \u001b[1;33m=\u001b[0m \u001b[1;33m[\u001b[0m\u001b[1;33m]\u001b[0m\u001b[1;33m\u001b[0m\u001b[1;33m\u001b[0m\u001b[0m\n\u001b[0;32m      7\u001b[0m \u001b[1;33m\u001b[0m\u001b[0m\n\u001b[1;32m----> 8\u001b[1;33m     \u001b[1;32mdef\u001b[0m \u001b[0mhow_many\u001b[0m\u001b[1;33m(\u001b[0m\u001b[0mself\u001b[0m\u001b[1;33m,\u001b[0m \u001b[0mnames\u001b[0m\u001b[1;33m:\u001b[0m \u001b[0mList\u001b[0m\u001b[1;33m[\u001b[0m\u001b[0mstr\u001b[0m\u001b[1;33m]\u001b[0m\u001b[1;33m)\u001b[0m \u001b[1;33m->\u001b[0m \u001b[0mint\u001b[0m\u001b[1;33m:\u001b[0m\u001b[1;33m\u001b[0m\u001b[1;33m\u001b[0m\u001b[0m\n\u001b[0m\u001b[0;32m      9\u001b[0m \u001b[1;33m\u001b[0m\u001b[0m\n\u001b[0;32m     10\u001b[0m         \u001b[0mlen_before\u001b[0m \u001b[1;33m=\u001b[0m \u001b[0mlen\u001b[0m\u001b[1;33m(\u001b[0m\u001b[0mself\u001b[0m\u001b[1;33m.\u001b[0m\u001b[0mdata_store\u001b[0m\u001b[1;33m)\u001b[0m\u001b[1;33m\u001b[0m\u001b[1;33m\u001b[0m\u001b[0m\n",
      "\u001b[1;31mAttributeError\u001b[0m: type object 'List' has no attribute '__class_getitem__'"
     ]
    }
   ],
   "source": [
    "class Song(object):\n",
    "\n",
    "    def __init__(self, title, artist):\n",
    "        self.title = title\n",
    "        self.artist = artist\n",
    "        self.data_store = []\n",
    "\n",
    "    def how_many(self, names: List[str]) -> int:\n",
    "\n",
    "        len_before = len(self.data_store)\n",
    "\n",
    "        [self.data_store.append(name.lower()) for name in names]\n",
    "\n",
    "        #making the dataset unique with set\n",
    "        self.data_store = list(set(self.data_store))\n",
    "        \n",
    "        len_after = len(self.data_store)\n",
    "\n",
    "        return len_after - len_before\n"
   ]
  },
  {
   "cell_type": "code",
   "execution_count": null,
   "metadata": {},
   "outputs": [],
   "source": [
    "class Song:\n",
    "    def __init__(self, title, artist):\n",
    "        self.title = title\n",
    "        self.artist = artist\n",
    "        self._seen = set()\n",
    "    \n",
    "    def how_many(self, people):\n",
    "        tmp = set(map(str.lower, people))\n",
    "        res = len(tmp - self._seen)\n",
    "        self._seen.update(tmp)\n",
    "        return res"
   ]
  },
  {
   "cell_type": "code",
   "execution_count": 7,
   "metadata": {},
   "outputs": [
    {
     "data": {
      "text/plain": [
       "5"
      ]
     },
     "execution_count": 7,
     "metadata": {},
     "output_type": "execute_result"
    }
   ],
   "source": [
    "mount_moose = Song('Mount Moose', 'The Snazzy Moose')\n",
    "\n",
    "mount_moose.how_many(['John', 'Fred', 'BOb', 'carl', 'RyAn'])"
   ]
  },
  {
   "cell_type": "code",
   "execution_count": 8,
   "metadata": {},
   "outputs": [
    {
     "data": {
      "text/plain": [
       "2"
      ]
     },
     "execution_count": 8,
     "metadata": {},
     "output_type": "execute_result"
    }
   ],
   "source": [
    "mount_moose.how_many(['JoHn', 'Luke', 'AmAndA'])"
   ]
  },
  {
   "cell_type": "code",
   "execution_count": 14,
   "metadata": {},
   "outputs": [],
   "source": [
    "class List(object):\n",
    "    \n",
    "    def count_spec_digits(self,integers, digit):\n",
    "        \n",
    "        temp = []\n",
    "        for nums in integers:\n",
    "            temp.extend(list(str(nums).replace('-','')))\n",
    "\n",
    "        result = []\n",
    "\n",
    "        for n in digit:\n",
    "            t = result.append((n, temp.count(str(n))))\n",
    "\n",
    "        return result"
   ]
  },
  {
   "cell_type": "code",
   "execution_count": 6,
   "metadata": {},
   "outputs": [],
   "source": [
    "def count_spec_digits(integers: List[int], digit: List[int]) ->List[int]:\n",
    "    temp = []\n",
    "    for nums in integers:\n",
    "        temp.extend(list(str(nums).replace('-','')))\n",
    "\n",
    "    result = []\n",
    "\n",
    "    for n in digit:\n",
    "        t = result.append((n, temp.count(str(n))))\n",
    "\n",
    "    return result"
   ]
  },
  {
   "cell_type": "code",
   "execution_count": 1,
   "metadata": {},
   "outputs": [],
   "source": [
    "integers_list =  [1, -1, 2 ,-3 ,1 ,2 ,3 ,4]\n",
    "digits = [1, 3]\n",
    "temp = []\n",
    "for nums in integers_list:\n",
    "    temp.extend(list(str(nums).replace('-','')))\n",
    "\n",
    "result = []\n",
    "\n",
    "for n in digits:\n",
    "    t = result.append((n, temp.count(str(n))))"
   ]
  },
  {
   "cell_type": "code",
   "execution_count": 2,
   "metadata": {},
   "outputs": [
    {
     "data": {
      "text/plain": [
       "['1', '1', '2', '3', '1', '2', '3', '4']"
      ]
     },
     "execution_count": 2,
     "metadata": {},
     "output_type": "execute_result"
    }
   ],
   "source": [
    "temp"
   ]
  },
  {
   "cell_type": "code",
   "execution_count": 3,
   "metadata": {},
   "outputs": [
    {
     "data": {
      "text/plain": [
       "[(1, 3), (3, 2)]"
      ]
     },
     "execution_count": 3,
     "metadata": {},
     "output_type": "execute_result"
    }
   ],
   "source": [
    "result"
   ]
  },
  {
   "cell_type": "code",
   "execution_count": 15,
   "metadata": {},
   "outputs": [],
   "source": [
    "#l = List()\n",
    "\n",
    "integers_list =  [1, 1, 2 ,3 ,1 ,2 ,3 ,4]\n",
    "digits_list = [1, 3]\n",
    "assert(count_spec_digits(integers_list, digits_list)==[(1, 3), (3, 2)])\n",
    "\n",
    "integers_list = [-18, -31, 81, -19, 111, -888]\n",
    "digits_list = [1, 8, 4]\n",
    "assert(count_spec_digits(integers_list, digits_list)== [(1, 7), (8, 5), (4, 0)])\n",
    "\n",
    "integers_list = [-77, -65, 56, -79, 6666, 222]\n",
    "digits_list = [1, 8, 4]\n",
    "assert(count_spec_digits(integers_list, digits_list)== [(1, 0), (8, 0), (4, 0)])\n",
    "\n",
    "integers_list = []\n",
    "digits_list = [1, 8, 4]\n",
    "assert(count_spec_digits(integers_list, digits_list)== [(1, 0), (8, 0), (4, 0)])"
   ]
  },
  {
   "cell_type": "code",
   "execution_count": 16,
   "metadata": {},
   "outputs": [],
   "source": [
    "l = List() #Ensure there is no name pollution in the working space\n",
    "\n",
    "integers_list =  [1, 1, 2 ,3 ,1 ,2 ,3 ,4]\n",
    "digits_list = [1, 3]\n",
    "assert(l.count_spec_digits(integers_list, digits_list)==[(1, 3), (3, 2)])\n",
    "\n",
    "integers_list = [-18, -31, 81, -19, 111, -888]\n",
    "digits_list = [1, 8, 4]\n",
    "assert(l.count_spec_digits(integers_list, digits_list)== [(1, 7), (8, 5), (4, 0)])\n",
    "\n",
    "integers_list = [-77, -65, 56, -79, 6666, 222]\n",
    "digits_list = [1, 8, 4]\n",
    "assert(l.count_spec_digits(integers_list, digits_list)== [(1, 0), (8, 0), (4, 0)])\n",
    "\n",
    "integers_list = []\n",
    "digits_list = [1, 8, 4]\n",
    "assert(l.count_spec_digits(integers_list, digits_list)== [(1, 0), (8, 0), (4, 0)])"
   ]
  },
  {
   "cell_type": "code",
   "execution_count": 23,
   "metadata": {},
   "outputs": [],
   "source": [
    "#Interactive dictionary\n",
    "class Dictionary(object):\n",
    "\n",
    "    def __init__(self):\n",
    "        \n",
    "        self.store = {} #to attach a variable to the instance, include self\n",
    "\n",
    "    def newentry(self, word, definition):\n",
    "        \n",
    "        self.store[word] = definition\n",
    "\n",
    "    def look(self, key):\n",
    "\n",
    "        if key in self.store.keys(): #Use the method not attribute\n",
    "\n",
    "            return self.store[key]\n",
    "\n",
    "        else:\n",
    "\n",
    "            return f\"Can't find entry for {key}\""
   ]
  },
  {
   "cell_type": "code",
   "execution_count": 24,
   "metadata": {},
   "outputs": [],
   "source": [
    "#SK1902 solution\n",
    "class Dictionary_1(dict):\n",
    "    newentry = dict.__setitem__ #This is assigning the function to a variable\n",
    "    \n",
    "    def look(self, key):\n",
    "        return self.get(key, f\"Can't find entry for {key}\")"
   ]
  },
  {
   "cell_type": "code",
   "execution_count": 25,
   "metadata": {},
   "outputs": [],
   "source": [
    "d = Dictionary_1()\n",
    "\n",
    "d.newentry(\"Apple\", \"A fruit\")"
   ]
  },
  {
   "cell_type": "code",
   "execution_count": 22,
   "metadata": {},
   "outputs": [],
   "source": [
    "d = Dictionary()\n",
    "\n",
    "d.newentry(\"Apple\", \"A fruit\")\n",
    "assert(d.look(\"Apple\")== \"A fruit\")\n",
    "\n",
    "d.newentry(\"Soccer\", \"A sport\")\n",
    "assert(d.look(\"Soccer\")== \"A sport\")\n",
    "assert(d.look(\"Hi\")== \"Can't find entry for Hi\")\n",
    "assert(d.look(\"Ball\")== \"Can't find entry for Ball\")"
   ]
  },
  {
   "cell_type": "code",
   "execution_count": 134,
   "metadata": {},
   "outputs": [],
   "source": [
    "def strip_comment(strng, markers):\n",
    "    if all([mark not in strng for mark in markers]):\n",
    "        return ''\n",
    "    \n",
    "    lines = strng.split('\\n')\n",
    "    \n",
    "    strp_line = []\n",
    "\n",
    "    for l in lines:\n",
    "        \n",
    "        if all([mark not in l for mark in markers]):\n",
    "            \n",
    "            strp_line.append(l)\n",
    "\n",
    "        else:\n",
    "\n",
    "            for mark in markers:\n",
    "\n",
    "                if mark in l:\n",
    "\n",
    "                    idx = l.index(mark)\n",
    "                    #print(idx)\n",
    "                    temp = l[: idx]\n",
    "                    strp_line.append(temp)\n",
    "                \n",
    "                else:\n",
    "\n",
    "                    strp_line.append(l)\n",
    "    \n",
    "    #print(strp_line)\n",
    "\n",
    "    strp_line = [l for l in strp_line if all([mark not in l for mark in markers])]\n",
    "    \n",
    "    print(strp_line)\n",
    "\n",
    "    #strp_line = ['\\n' if l == '' else l for l in strp_line]\n",
    "\n",
    "    #print(strp_line)\n",
    "\n",
    "    strp_line = [l[:-1] if (l != '' and l[-1] == ' ') else l for l in strp_line]\n",
    "\n",
    "    return '\\n'.join(strp_line)\n"
   ]
  },
  {
   "cell_type": "code",
   "execution_count": 135,
   "metadata": {},
   "outputs": [
    {
     "data": {
      "text/plain": [
       "True"
      ]
     },
     "execution_count": 135,
     "metadata": {},
     "output_type": "execute_result"
    }
   ],
   "source": [
    "solution = strip_comment\n",
    "\n",
    "solution('apples, pears and bananas\\ngrapes\\nbananas apples', []) == ''"
   ]
  },
  {
   "cell_type": "code",
   "execution_count": 86,
   "metadata": {},
   "outputs": [
    {
     "name": "stdout",
     "output_type": "stream",
     "text": [
      "['apples, pears ', 'apples, pears # and bananas', 'grapes', 'bananas !apples', 'bananas ']\n",
      "['apples, pears ', 'grapes', 'bananas ']\n"
     ]
    },
    {
     "data": {
      "text/plain": [
       "'apples, pears\\ngrapes\\nbananas'"
      ]
     },
     "execution_count": 86,
     "metadata": {},
     "output_type": "execute_result"
    }
   ],
   "source": [
    "solution('apples, pears # and bananas\\ngrapes\\nbananas !apples', ['#', '!'])"
   ]
  },
  {
   "cell_type": "code",
   "execution_count": 87,
   "metadata": {},
   "outputs": [
    {
     "name": "stdout",
     "output_type": "stream",
     "text": [
      "['a ', 'a #b', 'c', 'd $e f g', 'd ']\n",
      "['a ', 'c', 'd ']\n"
     ]
    },
    {
     "data": {
      "text/plain": [
       "'a\\nc\\nd'"
      ]
     },
     "execution_count": 87,
     "metadata": {},
     "output_type": "execute_result"
    }
   ],
   "source": [
    "solution('a #b\\nc\\nd $e f g', ['#', '$'])"
   ]
  },
  {
   "cell_type": "code",
   "execution_count": 88,
   "metadata": {},
   "outputs": [
    {
     "name": "stdout",
     "output_type": "stream",
     "text": [
      "[' a ', ' a #b', 'c', 'd $e f g', 'd ']\n",
      "[' a ', 'c', 'd ']\n"
     ]
    },
    {
     "data": {
      "text/plain": [
       "' a\\nc\\nd'"
      ]
     },
     "execution_count": 88,
     "metadata": {},
     "output_type": "execute_result"
    }
   ],
   "source": [
    "solution(' a #b\\nc\\nd $e f g', ['#', '$'])"
   ]
  },
  {
   "cell_type": "code",
   "execution_count": 103,
   "metadata": {},
   "outputs": [
    {
     "name": "stdout",
     "output_type": "stream",
     "text": [
      "bananas ? strawberries\n",
      "@ . bananas apples lemons\n",
      ",\n",
      "' = bananas cherries bananas !\n",
      "watermelons oranges , oranges\n"
     ]
    }
   ],
   "source": [
    "tr = \"bananas ? strawberries\\n@ . bananas apples lemons\\n,\\n' = bananas cherries bananas !\\nwatermelons oranges , oranges\"\n",
    "print(tr)\n",
    "\n",
    "mar = ['.', ',', '?', '#', '^', '!']"
   ]
  },
  {
   "cell_type": "code",
   "execution_count": 137,
   "metadata": {},
   "outputs": [
    {
     "name": "stdout",
     "output_type": "stream",
     "text": [
      "['bananas ', '@ ', '', \"' = bananas cherries bananas \", 'watermelons oranges ']\n",
      "bananas\n",
      "@\n",
      "\n",
      "' = bananas cherries bananas\n",
      "watermelons oranges\n"
     ]
    }
   ],
   "source": [
    "print(solution(tr, mar))"
   ]
  },
  {
   "cell_type": "code",
   "execution_count": 138,
   "metadata": {},
   "outputs": [
    {
     "name": "stdout",
     "output_type": "stream",
     "text": [
      "['apples, pears ', 'grapes', 'bananas ']\n",
      "['a ', 'c', 'd ']\n",
      "[' a ', 'c', 'd ']\n"
     ]
    }
   ],
   "source": [
    "assert(solution('apples, pears and bananas\\ngrapes\\nbananas apples', []) == '')\n",
    "assert(solution('apples, pears # and bananas\\ngrapes\\nbananas !apples', ['#', '!']) == 'apples, pears\\ngrapes\\nbananas')\n",
    "assert(solution('a #b\\nc\\nd $e f g', ['#', '$']) == 'a\\nc\\nd')\n",
    "assert(solution(' a #b\\nc\\nd $e f g', ['#', '$']) == ' a\\nc\\nd')"
   ]
  },
  {
   "cell_type": "code",
   "execution_count": 141,
   "metadata": {},
   "outputs": [],
   "source": [
    "def how_much_i_love_you(nb_petals):\n",
    "    loves = ['I love you', 'a little', 'a lot', 'passionately', 'madly', 'not at all']\n",
    "    ind = nb_petals % len(loves)\n",
    "    return loves[ind - 1]"
   ]
  },
  {
   "cell_type": "code",
   "execution_count": 12,
   "metadata": {},
   "outputs": [],
   "source": [
    "def createPhoneNumber(array):\n",
    "    area = []\n",
    "    loca = []\n",
    "    id = []\n",
    "    \n",
    "    for ind, val in enumerate(array):\n",
    "\n",
    "        if (ind < 3):\n",
    "            area.append(str(val))\n",
    "        elif (ind >= 3 and ind < 6):\n",
    "            loca.append(str(val))\n",
    "        else:\n",
    "           id.append(str(val)) \n",
    "    print(''.join(area), ''.join(loca), ''.join(id))\n",
    "    return f\"({str(''.join(area))}) {str(''.join(loca))}- {str(''.join(id))}\""
   ]
  },
  {
   "cell_type": "code",
   "execution_count": 13,
   "metadata": {},
   "outputs": [
    {
     "name": "stdout",
     "output_type": "stream",
     "text": [
      "111 111 1111\n"
     ]
    },
    {
     "data": {
      "text/plain": [
       "'(111) 111- 1111'"
      ]
     },
     "execution_count": 13,
     "metadata": {},
     "output_type": "execute_result"
    }
   ],
   "source": [
    "createPhoneNumber([1, 1, 1, 1, 1, 1, 1, 1, 1, 1])"
   ]
  },
  {
   "cell_type": "code",
   "execution_count": 4,
   "metadata": {},
   "outputs": [
    {
     "ename": "TypeError",
     "evalue": "sequence item 0: expected str, int found",
     "output_type": "error",
     "traceback": [
      "\u001b[1;31m---------------------------------------------------------------------------\u001b[0m",
      "\u001b[1;31mTypeError\u001b[0m                                 Traceback (most recent call last)",
      "\u001b[1;32mC:\\Users\\D30001~1\\AppData\\Local\\Temp/ipykernel_14232/1817989907.py\u001b[0m in \u001b[0;36m<module>\u001b[1;34m\u001b[0m\n\u001b[1;32m----> 1\u001b[1;33m \u001b[1;32massert\u001b[0m\u001b[1;33m(\u001b[0m\u001b[0mcreatePhoneNumber\u001b[0m\u001b[1;33m(\u001b[0m\u001b[1;33m[\u001b[0m\u001b[1;36m1\u001b[0m\u001b[1;33m,\u001b[0m \u001b[1;36m1\u001b[0m\u001b[1;33m,\u001b[0m \u001b[1;36m1\u001b[0m\u001b[1;33m,\u001b[0m \u001b[1;36m1\u001b[0m\u001b[1;33m,\u001b[0m \u001b[1;36m1\u001b[0m\u001b[1;33m,\u001b[0m \u001b[1;36m1\u001b[0m\u001b[1;33m,\u001b[0m \u001b[1;36m1\u001b[0m\u001b[1;33m,\u001b[0m \u001b[1;36m1\u001b[0m\u001b[1;33m,\u001b[0m \u001b[1;36m1\u001b[0m\u001b[1;33m,\u001b[0m \u001b[1;36m1\u001b[0m\u001b[1;33m]\u001b[0m\u001b[1;33m)\u001b[0m \u001b[1;33m==\u001b[0m \u001b[1;34m\"(111) 111-1111\"\u001b[0m\u001b[1;33m)\u001b[0m\u001b[1;33m;\u001b[0m\u001b[1;33m\u001b[0m\u001b[1;33m\u001b[0m\u001b[0m\n\u001b[0m\u001b[0;32m      2\u001b[0m \u001b[1;32massert\u001b[0m\u001b[1;33m(\u001b[0m\u001b[0mcreatePhoneNumber\u001b[0m\u001b[1;33m(\u001b[0m\u001b[1;33m[\u001b[0m\u001b[1;36m1\u001b[0m\u001b[1;33m,\u001b[0m \u001b[1;36m2\u001b[0m\u001b[1;33m,\u001b[0m \u001b[1;36m3\u001b[0m\u001b[1;33m,\u001b[0m \u001b[1;36m4\u001b[0m\u001b[1;33m,\u001b[0m \u001b[1;36m5\u001b[0m\u001b[1;33m,\u001b[0m \u001b[1;36m6\u001b[0m\u001b[1;33m,\u001b[0m \u001b[1;36m7\u001b[0m\u001b[1;33m,\u001b[0m \u001b[1;36m8\u001b[0m\u001b[1;33m,\u001b[0m \u001b[1;36m9\u001b[0m\u001b[1;33m,\u001b[0m \u001b[1;36m0\u001b[0m\u001b[1;33m]\u001b[0m\u001b[1;33m)\u001b[0m \u001b[1;33m==\u001b[0m \u001b[1;34m\"(123) 456-7890\"\u001b[0m\u001b[1;33m)\u001b[0m\u001b[1;33m;\u001b[0m\u001b[1;33m\u001b[0m\u001b[1;33m\u001b[0m\u001b[0m\n",
      "\u001b[1;32mC:\\Users\\D30001~1\\AppData\\Local\\Temp/ipykernel_14232/3691946787.py\u001b[0m in \u001b[0;36mcreatePhoneNumber\u001b[1;34m(array)\u001b[0m\n\u001b[0;32m     13\u001b[0m            \u001b[0mid\u001b[0m\u001b[1;33m.\u001b[0m\u001b[0mappend\u001b[0m\u001b[1;33m(\u001b[0m\u001b[0mval\u001b[0m\u001b[1;33m)\u001b[0m\u001b[1;33m\u001b[0m\u001b[1;33m\u001b[0m\u001b[0m\n\u001b[0;32m     14\u001b[0m \u001b[1;33m\u001b[0m\u001b[0m\n\u001b[1;32m---> 15\u001b[1;33m     \u001b[1;32mreturn\u001b[0m \u001b[1;34mf\"({str(''.join(area))}) {str(''.join(loca))}- {str(''.join(id))}\"\u001b[0m\u001b[1;33m\u001b[0m\u001b[1;33m\u001b[0m\u001b[0m\n\u001b[0m",
      "\u001b[1;31mTypeError\u001b[0m: sequence item 0: expected str, int found"
     ]
    }
   ],
   "source": [
    "assert(createPhoneNumber([1, 1, 1, 1, 1, 1, 1, 1, 1, 1]) == \"(111) 111-1111\");\n",
    "assert(createPhoneNumber([1, 2, 3, 4, 5, 6, 7, 8, 9, 0]) == \"(123) 456-7890\");"
   ]
  },
  {
   "cell_type": "code",
   "execution_count": 53,
   "metadata": {},
   "outputs": [],
   "source": [
    "class User(object):\n",
    "    def __init__(self, name, balance, checking_account):\n",
    "        \n",
    "        self.name = name\n",
    "        self.balance = balance\n",
    "        self.checking_account = checking_account\n",
    "\n",
    "        #Following code creates the account number and assigns user account to it\n",
    "        self.accountsDict = {}\n",
    "        \n",
    "        self.acc_num = 0        \n",
    "        \n",
    "        self.accountsDict[self.acc_num] = self\n",
    "        \n",
    "        self.acc_num = self.acc_num + 1\n",
    "\n",
    "\n",
    "    def get_balance(self):\n",
    "        \n",
    "        return self.balance\n",
    "\n",
    "    def add_cash(self, depositAmount):\n",
    "        \n",
    "        self.balance = self.balance + depositAmount\n",
    "        return f'{self.name} has {self.balance}.'\n",
    "\n",
    "    def withdraw(self, amount):\n",
    "            \n",
    "        if self.checking_account is False:\n",
    "\n",
    "            return f\"{self.name}'s checking account is disabled.\"\n",
    "            \n",
    "        if amount < self.balance:\n",
    "\n",
    "            self.balance = self.balance - amount\n",
    "\n",
    "            return f'{self.name} has {self.balance}.'\n",
    "        else:\n",
    "\n",
    "            raise ValueError(f\"{self.name} can't withdraw {amount}, he only has {self.balance}.\")\n",
    "\n",
    "    def check(self, user_name, amount):\n",
    "\n",
    "        if self.checking_account is False:\n",
    "\n",
    "            return f\"{self.name}'s checking account is disabled\"\n",
    "\n",
    "        if self.balance < amount:\n",
    "\n",
    "            return f\"{self.name} doesn't have enough money\"\n",
    "            \n",
    "        user_name.withdraw(amount)\n",
    "        \n",
    "\n",
    "        self.add_cash(amount)\n",
    "\n",
    "        return f\"{self.name} has {self.balance} and {user_name.name} has {user_name.get_balance()}.\"\n"
   ]
  },
  {
   "cell_type": "code",
   "execution_count": null,
   "metadata": {},
   "outputs": [],
   "source": [
    "class User(object):\n",
    "    \n",
    "    def __init__(self, name, balance, checking_account):\n",
    "        \n",
    "        self.name = name\n",
    "        self.balance = balance\n",
    "        self.checking_account = checking_account\n",
    "\n",
    "    def get_balance(self):\n",
    "        \n",
    "        return self.balance\n",
    "    \n",
    "    def get_name(self):\n",
    "        \n",
    "        return self.name\n",
    "    \n",
    "    def get_checking(self):\n",
    "        \n",
    "        return self.checking_account\n",
    "\n",
    "    def add_cash(self, depositAmount):\n",
    "        \n",
    "        self.balance = self.balance + depositAmount\n",
    "        return f'{self.name} has {self.balance}.'\n",
    "\n",
    "    def withdraw(self, amount):\n",
    "            \n",
    "        if self.checking_account is False:\n",
    "\n",
    "            raise ValueError(f\"{self.name}'s checking account is disabled.\")\n",
    "            \n",
    "        if amount < self.balance:\n",
    "\n",
    "            self.balance = self.balance - amount\n",
    "\n",
    "            return f'{self.name} has {self.balance}.'\n",
    "        else:\n",
    "\n",
    "            raise ValueError(f\"{self.name} can't withdraw {amount}, he only has {self.balance}.\")\n",
    "\n",
    "    def check(self, user_name, amount):\n",
    "\n",
    "        if user_name.get_checking() is False:\n",
    "\n",
    "            raise ValueError(f\"{user_name.get_name()}'s checking account is disabled\")\n",
    "\n",
    "        elif self.checking_account is False:\n",
    "\n",
    "            raise ValueError(f\"{self.name}'s checking account is disabled\")\n",
    "\n",
    "        if user_name.get_balance() < amount:\n",
    "\n",
    "            raise ValueError (f\"{user_name.get_name()} doesn't have enough money\")\n",
    "            \n",
    "        user_name.withdraw(amount)\n",
    "        \n",
    "        self.add_cash(amount)\n",
    "\n",
    "        return f\"{self.name} has {self.balance} and {user_name.name} has {user_name.get_balance()}.\""
   ]
  },
  {
   "cell_type": "code",
   "execution_count": 54,
   "metadata": {},
   "outputs": [],
   "source": [
    "Jeff = User('Jeff', 70, True)\n",
    "Joe = User('Joe', 70, True)"
   ]
  },
  {
   "cell_type": "code",
   "execution_count": 58,
   "metadata": {},
   "outputs": [
    {
     "name": "stdout",
     "output_type": "stream",
     "text": [
      "true\n"
     ]
    }
   ],
   "source": [
    "if Joe.checking_account is True:\n",
    "    print('true')"
   ]
  },
  {
   "cell_type": "code",
   "execution_count": 51,
   "metadata": {},
   "outputs": [],
   "source": [
    "def sample_tests():\n",
    "    Jeff = User('Jeff', 70, True)\n",
    "    Joe = User('Joe', 70, True)\n",
    "    \n",
    "    Jeff.withdraw(2)  \n",
    "    Joe.check(Jeff, 50) \n",
    "    Jeff.check(Joe, 80)  \n",
    "    Jeff.add_cash(20)\n",
    "    \n",
    "sample_tests()"
   ]
  },
  {
   "cell_type": "code",
   "execution_count": 49,
   "metadata": {},
   "outputs": [],
   "source": [
    "Jeff = User('Jeff', 70, True)\n",
    "Joe = User('Joe', 70, True)"
   ]
  },
  {
   "cell_type": "code",
   "execution_count": 45,
   "metadata": {},
   "outputs": [
    {
     "data": {
      "text/plain": [
       "'Jeff has 68'"
      ]
     },
     "execution_count": 45,
     "metadata": {},
     "output_type": "execute_result"
    }
   ],
   "source": [
    "Jeff.withdraw(2)"
   ]
  },
  {
   "cell_type": "code",
   "execution_count": 46,
   "metadata": {},
   "outputs": [
    {
     "data": {
      "text/plain": [
       "'Jeff has 88.'"
      ]
     },
     "execution_count": 46,
     "metadata": {},
     "output_type": "execute_result"
    }
   ],
   "source": [
    "Jeff.add_cash(20)"
   ]
  },
  {
   "cell_type": "code",
   "execution_count": 47,
   "metadata": {},
   "outputs": [
    {
     "data": {
      "text/plain": [
       "'Joe has 120 and Jeff has 38.'"
      ]
     },
     "execution_count": 47,
     "metadata": {},
     "output_type": "execute_result"
    }
   ],
   "source": [
    "Joe.check(Jeff, 50)"
   ]
  },
  {
   "cell_type": "code",
   "execution_count": 48,
   "metadata": {},
   "outputs": [
    {
     "data": {
      "text/plain": [
       "'Jeff has 118 and Joe has 40.'"
      ]
     },
     "execution_count": 48,
     "metadata": {},
     "output_type": "execute_result"
    }
   ],
   "source": [
    "Jeff.check(Joe, 80)"
   ]
  },
  {
   "cell_type": "code",
   "execution_count": 52,
   "metadata": {},
   "outputs": [],
   "source": [
    "def sample_tests():\n",
    "    Jeff = User('Jeff', 70, True)\n",
    "    Joe = User('Joe', 70, True)\n",
    "    \n",
    "    assert(Jeff.withdraw(2) == 'Jeff has 68.')\n",
    "    assert(Joe.check(Jeff, 50) == 'Joe has 120 and Jeff has 18.')\n",
    "    assert(Jeff.check(Joe, 80) == 'Jeff has 98 and Joe has 40.')\n",
    "    assert(Jeff.add_cash(20) == 'Jeff has 118.')\n",
    "\n",
    "sample_tests()"
   ]
  },
  {
   "cell_type": "code",
   "execution_count": null,
   "metadata": {},
   "outputs": [],
   "source": [
    "\n",
    "class Bank(object):\n",
    "    def __init__(self):\n",
    "\n",
    "\n",
    "    def balance(self,accountNumber):\n",
    "\n",
    "        oAccount = self.accountsDict[accountNumber]\n",
    "        \n",
    "        theBalance = oAccount.balance()\n",
    "\n",
    "        if theBalance is not None:\n",
    "\n",
    "            print(f\"Your balance is {theBalance}\")\n",
    "\n",
    "    def deposit(self, accountNumber, add_money):\n",
    "        \n",
    "        oAccount = self.accountsDict[accountNumber]\n",
    "        \n",
    "        theBalance = oAccount.deposit(add_money)\n",
    "\n",
    "        if theBalance is not None:\n",
    "\n",
    "            print(f\"Your balance is {theBalance}\")\n",
    "\n",
    "    def withdraw(self, accountNumber, take_money):\n",
    "\n",
    "        oAccount = self.accountsDict[accountNumber]\n",
    "\n",
    "        theBalance = oAccount.withdraw(take_money)\n",
    "\n",
    "        if theBalance is not None:\n",
    "\n",
    "            print(f\"Your balance is {theBalance}\")\n"
   ]
  },
  {
   "cell_type": "code",
   "execution_count": 20,
   "metadata": {},
   "outputs": [],
   "source": [
    "def generate_hashtag(text:str)->str:\n",
    "    \n",
    "    #edge cases considered\n",
    "    if text == \"\" or len(text) > 140:\n",
    "        return \" \"\n",
    "    #There are multiple cases to be handled\n",
    "    text = text.strip(' ') #striping the trailing white spaces\n",
    "\n",
    "    if all([len(w) == 1 for w in text.split(' ')]):\n",
    "        text = \"#\" +''.join([w.upper() for w in text.split(' ')])\n",
    "        return text\n",
    "\n",
    "    if any([len(w) > 1  for w in text.split(' ')]):\n",
    "        new_text = []\n",
    "        \n",
    "        for t in text.split(' '):\n",
    "            \n",
    "            if t != '':\n",
    "                temp_lower = t.lower()\n",
    "                temp_lower = temp_lower[0].upper() + temp_lower[1:]\n",
    "                new_text.append(temp_lower)\n",
    "        \n",
    "        new_text = \"#\" + ''.join(new_text)\n",
    "\n",
    "        return new_text"
   ]
  },
  {
   "cell_type": "code",
   "execution_count": null,
   "metadata": {},
   "outputs": [],
   "source": [
    " \"\"\"for word in s.split():\n",
    "        output += word.capitalize() \"\"\""
   ]
  },
  {
   "cell_type": "code",
   "execution_count": 21,
   "metadata": {},
   "outputs": [
    {
     "name": "stdout",
     "output_type": "stream",
     "text": [
      " \n",
      "#DoWeHaveAHashtag\n",
      "#Codewars\n",
      "#Codewars\n",
      "#CodewarsIsNice\n",
      "#CodewarsIsNice\n",
      "#CodewarsIsNice\n",
      "#CIN\n",
      "#CodewarsIsNice\n",
      " \n"
     ]
    }
   ],
   "source": [
    "#learnt to create regex to remove the unwanted text from the copied text\n",
    "print(generate_hashtag(''))\n",
    "print(generate_hashtag('Do We have A Hashtag'))\n",
    "print(generate_hashtag('Codewars'))\n",
    "print(generate_hashtag('Codewars      '))\n",
    "print(generate_hashtag('Codewars Is Nice'))\n",
    "print(generate_hashtag('codewars is nice'))\n",
    "print(generate_hashtag('CodeWars is nice'))\n",
    "print(generate_hashtag('c i n'))\n",
    "print(generate_hashtag('codewars  is  nice'))\n",
    "print(generate_hashtag('Looooooooooooooooooooooooooooooooooooooooooooooooooooooooooooooooooooooooooooooooooooooooooooooooooooooooooooooooooooooooooooooooooooooooooooooooooooooooooong Cat'))"
   ]
  },
  {
   "cell_type": "code",
   "execution_count": 1,
   "metadata": {},
   "outputs": [],
   "source": [
    "class Fighter(object):\n",
    "    def __init__(self, name, health, damage_per_attack):\n",
    "        self.name = name\n",
    "        self.health = health\n",
    "        self.damage_per_attack = damage_per_attack\n",
    "        \n",
    "    def __str__(self): return \"Fighter({}, {}, {})\".format(self.name, self.health, self.damage_per_attack)\n",
    "    __repr__=__str__"
   ]
  },
  {
   "cell_type": "code",
   "execution_count": 2,
   "metadata": {},
   "outputs": [
    {
     "data": {
      "text/plain": [
       "5"
      ]
     },
     "execution_count": 2,
     "metadata": {},
     "output_type": "execute_result"
    }
   ],
   "source": [
    "x = Fighter('harry', 5, 2)\n",
    "x.health"
   ]
  },
  {
   "cell_type": "code",
   "execution_count": 3,
   "metadata": {},
   "outputs": [
    {
     "data": {
      "text/plain": [
       "True"
      ]
     },
     "execution_count": 3,
     "metadata": {},
     "output_type": "execute_result"
    }
   ],
   "source": [
    "x.name == 'harry'"
   ]
  },
  {
   "cell_type": "code",
   "execution_count": 27,
   "metadata": {},
   "outputs": [],
   "source": [
    "def declare_winner(fighter1, fighter2, first_attacker):\n",
    "    \n",
    "    if fighter1.name == first_attacker:\n",
    "        f1 = fighter1\n",
    "        f2 = fighter2\n",
    "    else:\n",
    "        f1 = fighter2\n",
    "        f2 = fighter1\n",
    "\n",
    "    while True:\n",
    "\n",
    "        #fighter1 attacks\n",
    "\n",
    "        f2.health = f2.health - f1.damage_per_attack\n",
    "\n",
    "        print(f2.name, f2.health)\n",
    "\n",
    "        if f2.health < 0:\n",
    "            \n",
    "            break\n",
    "\n",
    "        f1.health = f1.health - f2.damage_per_attack\n",
    "\n",
    "        print(f1.name, f1.health)\n",
    "        \n",
    "        if  f1.health < 0:\n",
    "            \n",
    "            break\n",
    "    \n",
    "    if f1.health > 0 :\n",
    "\n",
    "        return f1.name\n",
    "\n",
    "    else:\n",
    "\n",
    "        return f2.name\n"
   ]
  },
  {
   "cell_type": "code",
   "execution_count": 32,
   "metadata": {},
   "outputs": [
    {
     "name": "stdout",
     "output_type": "stream",
     "text": [
      "Harald 16\n",
      "Harry 0\n",
      "Harald 12\n",
      "Harry -5\n",
      "Harald\n"
     ]
    }
   ],
   "source": [
    "print(declare_winner(Fighter(\"Harald\", 20, 5), Fighter(\"Harry\", 5, 4), \"Harry\"))"
   ]
  },
  {
   "cell_type": "code",
   "execution_count": 12,
   "metadata": {},
   "outputs": [],
   "source": [
    "class Quark(object):\n",
    "\n",
    "    def __init__(self, color, flavor):\n",
    "        \n",
    "        if color in [\"red\",\"blue\",\"green\"]:\n",
    "            self.color = color\n",
    "        \n",
    "        else:\n",
    "            raise AttributeError (\"use valid colors\")\n",
    "        \n",
    "        if flavor in ['up', 'down', 'strange', 'charm', 'top', 'bottom']:\n",
    "            self.flavor = flavor\n",
    "\n",
    "        else:\n",
    "            raise AttributeError (\"use valid flavors\")\n",
    "\n",
    "        self.baryon_number = 1/3\n",
    "\n",
    "    def get_color(self):\n",
    "        \n",
    "        return self.color\n",
    "\n",
    "    def set_color(self,new_color):\n",
    "        \n",
    "        self.color = new_color\n",
    "\n",
    "    def get_flavor(self):\n",
    "        \n",
    "        return self.flavor\n",
    "\n",
    "    def interact(self,another_quark):\n",
    "        \n",
    "        src_color = self.color\n",
    "\n",
    "        if another_quark.get_color() is not None:\n",
    "\n",
    "            temp = another_quark.get_color()\n",
    "\n",
    "            another_quark.set_color(src_color)\n",
    "\n",
    "            self.color = temp\n",
    "\n",
    "        else:\n",
    "\n",
    "            raise AttributeError (\"no color attribute\")\n"
   ]
  },
  {
   "cell_type": "code",
   "execution_count": null,
   "metadata": {},
   "outputs": [],
   "source": [
    "#Other solution\n",
    "class Quark(object):\n",
    "\n",
    "    def __init__(self, color, flavor):\n",
    "        self.color = color\n",
    "        self.flavor = flavor\n",
    "        self.baryon_number = 1/3\n",
    "    \n",
    "    def interact(self, other):\n",
    "        self.color, other.color = other.color, self.color"
   ]
  },
  {
   "cell_type": "code",
   "execution_count": 16,
   "metadata": {},
   "outputs": [
    {
     "data": {
      "text/plain": [
       "<__main__.Quark at 0x27b6ca26410>"
      ]
     },
     "execution_count": 16,
     "metadata": {},
     "output_type": "execute_result"
    }
   ],
   "source": [
    "a = Quark('red','up')\n",
    "a"
   ]
  },
  {
   "cell_type": "code",
   "execution_count": 14,
   "metadata": {},
   "outputs": [
    {
     "ename": "AttributeError",
     "evalue": "use valid flavors",
     "output_type": "error",
     "traceback": [
      "\u001b[1;31m---------------------------------------------------------------------------\u001b[0m",
      "\u001b[1;31mAttributeError\u001b[0m                            Traceback (most recent call last)",
      "\u001b[1;32mC:\\Users\\D30001~1\\AppData\\Local\\Temp/ipykernel_7972/3715835955.py\u001b[0m in \u001b[0;36m<module>\u001b[1;34m\u001b[0m\n\u001b[1;32m----> 1\u001b[1;33m \u001b[0ma\u001b[0m \u001b[1;33m=\u001b[0m \u001b[0mQuark\u001b[0m\u001b[1;33m(\u001b[0m\u001b[1;34m'red'\u001b[0m\u001b[1;33m,\u001b[0m\u001b[1;34m'nice'\u001b[0m\u001b[1;33m)\u001b[0m\u001b[1;33m\u001b[0m\u001b[1;33m\u001b[0m\u001b[0m\n\u001b[0m\u001b[0;32m      2\u001b[0m \u001b[0ma\u001b[0m\u001b[1;33m\u001b[0m\u001b[1;33m\u001b[0m\u001b[0m\n",
      "\u001b[1;32mC:\\Users\\D30001~1\\AppData\\Local\\Temp/ipykernel_7972/952906971.py\u001b[0m in \u001b[0;36m__init__\u001b[1;34m(self, color, flavor)\u001b[0m\n\u001b[0;32m     13\u001b[0m \u001b[1;33m\u001b[0m\u001b[0m\n\u001b[0;32m     14\u001b[0m         \u001b[1;32melse\u001b[0m\u001b[1;33m:\u001b[0m\u001b[1;33m\u001b[0m\u001b[1;33m\u001b[0m\u001b[0m\n\u001b[1;32m---> 15\u001b[1;33m             \u001b[1;32mraise\u001b[0m \u001b[0mAttributeError\u001b[0m \u001b[1;33m(\u001b[0m\u001b[1;34m\"use valid flavors\"\u001b[0m\u001b[1;33m)\u001b[0m\u001b[1;33m\u001b[0m\u001b[1;33m\u001b[0m\u001b[0m\n\u001b[0m\u001b[0;32m     16\u001b[0m \u001b[1;33m\u001b[0m\u001b[0m\n\u001b[0;32m     17\u001b[0m         \u001b[0mself\u001b[0m\u001b[1;33m.\u001b[0m\u001b[0mbaryon_number\u001b[0m \u001b[1;33m=\u001b[0m \u001b[1;36m1\u001b[0m\u001b[1;33m/\u001b[0m\u001b[1;36m3\u001b[0m\u001b[1;33m\u001b[0m\u001b[1;33m\u001b[0m\u001b[0m\n",
      "\u001b[1;31mAttributeError\u001b[0m: use valid flavors"
     ]
    }
   ],
   "source": [
    "a = Quark('red','nice')\n",
    "a"
   ]
  },
  {
   "cell_type": "code",
   "execution_count": 15,
   "metadata": {},
   "outputs": [
    {
     "data": {
      "text/plain": [
       "0.3333333333333333"
      ]
     },
     "execution_count": 15,
     "metadata": {},
     "output_type": "execute_result"
    }
   ],
   "source": [
    "a.baryon_number"
   ]
  },
  {
   "cell_type": "code",
   "execution_count": 17,
   "metadata": {},
   "outputs": [
    {
     "name": "stdout",
     "output_type": "stream",
     "text": [
      "red\n",
      "strange\n",
      "0.3333333333333333\n",
      "None\n",
      "blue\n",
      "red\n"
     ]
    }
   ],
   "source": [
    "q1 = Quark(\"red\", \"up\")\n",
    "q2 = Quark(\"blue\", \"strange\")\n",
    "\n",
    "print(q1.color)\n",
    "print(q2.flavor)\n",
    "\n",
    "print(q2.baryon_number)\n",
    "\n",
    "print(q1.interact(q2))\n",
    "\n",
    "print(q1.color)\n",
    "print(q2.color)"
   ]
  },
  {
   "cell_type": "code",
   "execution_count": 7,
   "metadata": {},
   "outputs": [],
   "source": [
    "class PokeScan(object):\n",
    "    \n",
    "    def __init__(self, name, level, pkmntype):\n",
    "\n",
    "        self.name = name\n",
    "        self.level = level\n",
    "        self.pkmntype = pkmntype\n",
    "\n",
    "    def info(self):\n",
    "\n",
    "        pkmn_type = {'water':'wet', 'fire' : 'fiery', 'grass':'grassy'}\n",
    "\n",
    "        if self.level <= 20:\n",
    "\n",
    "            pkmn_strength = 'weak'\n",
    "\n",
    "        elif self.level > 20 and self.level < 50:\n",
    "\n",
    "            pkmn_strength = 'fair'\n",
    "\n",
    "        elif self.level >= 50:\n",
    "\n",
    "            pkmn_strength = 'strong'\n",
    "\n",
    "        return f\"{self.name}, a {pkmn_type[self.pkmntype]} and {pkmn_strength} Pokemon.\""
   ]
  },
  {
   "cell_type": "code",
   "execution_count": 8,
   "metadata": {},
   "outputs": [
    {
     "data": {
      "text/plain": [
       "'Bulbasaur, a grassy and strong Pokemon.'"
      ]
     },
     "execution_count": 8,
     "metadata": {},
     "output_type": "execute_result"
    }
   ],
   "source": [
    "PokeScan('Squirtle', 0, 'water').info()\n",
    "PokeScan('Charmander', 0, 'fire').info()\n",
    "PokeScan('Bulbasaur', 0, 'grass').info()\n",
    "\n",
    "PokeScan('Squirtle', 20, 'water').info()\n",
    "PokeScan('Charmander', 20, 'fire').info()\n",
    "PokeScan('Bulbasaur', 20, 'grass').info()\n",
    "\n",
    "PokeScan('Squirtle', 21, 'water').info()\n",
    "PokeScan('Charmander', 21, 'fire').info()\n",
    "PokeScan('Bulbasaur', 21, 'grass').info()\n",
    "\n",
    "PokeScan('Squirtle', 50, 'water').info()\n",
    "PokeScan('Charmander', 50, 'fire').info()\n",
    "PokeScan('Bulbasaur', 50, 'grass').info()\n",
    "\n",
    "PokeScan('Squirtle', 51, 'water').info()\n",
    "PokeScan('Charmander', 51, 'fire').info()\n",
    "PokeScan('Bulbasaur', 51, 'grass').info()\n",
    "\n",
    "PokeScan('Squirtle', 100, 'water').info()\n",
    "PokeScan('Charmander', 100, 'fire').info()\n",
    "PokeScan('Bulbasaur', 100, 'grass').info()\n"
   ]
  },
  {
   "cell_type": "code",
   "execution_count": 1,
   "metadata": {},
   "outputs": [],
   "source": [
    "#Pushing zeros to the end!!!\n",
    "def move_zeros(array):\n",
    "    if array == []:\n",
    "        return []\n",
    "\n",
    "    return [x for x in array if x != 0] + [x for x in array if x == 0]\n",
    "    "
   ]
  },
  {
   "cell_type": "code",
   "execution_count": 5,
   "metadata": {},
   "outputs": [
    {
     "data": {
      "text/plain": [
       "[9, 9, 1, 2, 1, 1, 3, 1, 9, 9, 0, 0, 0, 0, 0, 0, 0, 0, 0, 0]"
      ]
     },
     "execution_count": 5,
     "metadata": {},
     "output_type": "execute_result"
    }
   ],
   "source": [
    "move_zeros([9, 0, 0, 9, 1, 2, 0, 1, 0, 1, 0, 3, 0, 1, 9, 0, 0, 0, 0, 9])"
   ]
  },
  {
   "cell_type": "code",
   "execution_count": 2,
   "metadata": {},
   "outputs": [
    {
     "data": {
      "text/plain": [
       "[]"
      ]
     },
     "execution_count": 2,
     "metadata": {},
     "output_type": "execute_result"
    }
   ],
   "source": [
    "move_zeros([9, 0, 0, 9, 1, 2, 0, 1, 0, 1, 0, 3, 0, 1, 9, 0, 0, 0, 0, 9])\n",
    "move_zeros([0, 0])\n",
    "move_zeros([0])\n",
    "move_zeros([])"
   ]
  },
  {
   "cell_type": "code",
   "execution_count": 33,
   "metadata": {},
   "outputs": [],
   "source": [
    "#using closures in place of classes\n",
    "def counter():\n",
    "\n",
    "    def increment_(start = 0):\n",
    "        return start + 1\n",
    "\n",
    "    out_start = increment_()\n",
    "    \n",
    "    return out_start       "
   ]
  },
  {
   "cell_type": "code",
   "execution_count": 2,
   "metadata": {},
   "outputs": [
    {
     "data": {
      "text/plain": [
       "1"
      ]
     },
     "execution_count": 2,
     "metadata": {},
     "output_type": "execute_result"
    }
   ],
   "source": [
    "loc = [5, 7, 8, 9, 8]\n",
    "loc.index(7)"
   ]
  },
  {
   "cell_type": "code",
   "execution_count": 32,
   "metadata": {},
   "outputs": [],
   "source": [
    "is_even = lambda x: not x % 2    \n",
    "\n",
    "def drop_while(arr, pred):\n",
    "    \n",
    "    for ind, x in enumerate(arr):\n",
    "\n",
    "        if not pred(x):\n",
    "\n",
    "            return ind"
   ]
  },
  {
   "cell_type": "code",
   "execution_count": 40,
   "metadata": {},
   "outputs": [
    {
     "data": {
      "text/plain": [
       "[1, 5, 4, 3]"
      ]
     },
     "execution_count": 40,
     "metadata": {},
     "output_type": "execute_result"
    }
   ],
   "source": [
    "arr = [2,6,4,10,1,5,4,3]\n",
    "\n",
    "arr[[ind for ind in range(len(arr)) if not is_even(arr[ind])][0]:]"
   ]
  },
  {
   "cell_type": "code",
   "execution_count": 26,
   "metadata": {},
   "outputs": [
    {
     "name": "stdout",
     "output_type": "stream",
     "text": [
      "hi\n"
     ]
    }
   ],
   "source": [
    "if not is_even(1):\n",
    "    print('hi')"
   ]
  },
  {
   "cell_type": "code",
   "execution_count": 44,
   "metadata": {},
   "outputs": [],
   "source": [
    "def drop_while(arr, pred): \n",
    "    return arr[[ind for ind in range(len(arr)) if not pred(arr[ind])][0]:]"
   ]
  },
  {
   "cell_type": "code",
   "execution_count": 47,
   "metadata": {},
   "outputs": [],
   "source": [
    "lst1 = [\n",
    "  { 'firstName': 'Noah', 'lastName': 'M.', 'country': 'Switzerland', 'continent': 'Europe', 'age': 19, 'language': 'JavaScript' },\n",
    "  { 'firstName': 'Maia', 'lastName': 'S.', 'country': 'Tahiti', 'continent': 'Oceania', 'age': 28, 'language': 'JavaScript' },\n",
    "  { 'firstName': 'Shufen', 'lastName': 'L.', 'country': 'Taiwan', 'continent': 'Asia', 'age': 35, 'language': 'HTML' },\n",
    "  { 'firstName': 'Sumayah', 'lastName': 'M.', 'country': 'Tajikistan', 'continent': 'Asia', 'age': 30, 'language': 'CSS' }\n",
    "]"
   ]
  },
  {
   "cell_type": "code",
   "execution_count": 49,
   "metadata": {},
   "outputs": [],
   "source": [
    "def count_developers(lst):\n",
    "    return len([x for x in lst if x['continent'] == 'Europe' and x['language'] == 'JavaScript'])"
   ]
  },
  {
   "cell_type": "code",
   "execution_count": 48,
   "metadata": {},
   "outputs": [
    {
     "data": {
      "text/plain": [
       "1"
      ]
     },
     "execution_count": 48,
     "metadata": {},
     "output_type": "execute_result"
    }
   ],
   "source": [
    "count_developers(lst1)\n"
   ]
  },
  {
   "cell_type": "code",
   "execution_count": 53,
   "metadata": {},
   "outputs": [],
   "source": [
    "list1 = [\n",
    "    { 'firstName': 'Noah', 'lastName': 'M.', 'country': 'Switzerland', 'continent': 'Europe', 'age': 19, 'language': 'C', 'meal': 'vegetarian' },\n",
    "    { 'firstName': 'Anna', 'lastName': 'R.', 'country': 'Liechtenstein', 'continent': 'Europe', 'age': 52, 'language': 'JavaScript', 'meal': 'standard' },\n",
    "    { 'firstName': 'Ramona', 'lastName': 'R.', 'country': 'Paraguay', 'continent': 'Americas', 'age': 29, 'language': 'Ruby', 'meal': 'vegan' },\n",
    "    { 'firstName': 'George', 'lastName': 'B.', 'country': 'England', 'continent': 'Europe', 'age': 81, 'language': 'C', 'meal': 'vegetarian' },\n",
    "]"
   ]
  },
  {
   "cell_type": "code",
   "execution_count": 73,
   "metadata": {},
   "outputs": [],
   "source": [
    "from collections import Counter\n",
    "\n",
    "def order_food(lst):\n",
    "    return dict(Counter([x['meal'] for x in lst]).most_common())"
   ]
  },
  {
   "cell_type": "code",
   "execution_count": 68,
   "metadata": {},
   "outputs": [
    {
     "data": {
      "text/plain": [
       "<bound method Counter.most_common of Counter()>"
      ]
     },
     "execution_count": 68,
     "metadata": {},
     "output_type": "execute_result"
    }
   ],
   "source": [
    "x = Counter()\n",
    "x.most_common"
   ]
  },
  {
   "cell_type": "code",
   "execution_count": 74,
   "metadata": {},
   "outputs": [
    {
     "data": {
      "text/plain": [
       "{'vegetarian': 2, 'standard': 1, 'vegan': 1}"
      ]
     },
     "execution_count": 74,
     "metadata": {},
     "output_type": "execute_result"
    }
   ],
   "source": [
    "order_food(list1)"
   ]
  },
  {
   "cell_type": "code",
   "execution_count": 75,
   "metadata": {},
   "outputs": [
    {
     "data": {
      "text/plain": [
       "'16.85'"
      ]
     },
     "execution_count": 75,
     "metadata": {},
     "output_type": "execute_result"
    }
   ],
   "source": [
    "str(16.85)"
   ]
  },
  {
   "cell_type": "code",
   "execution_count": 79,
   "metadata": {},
   "outputs": [],
   "source": [
    "def format_money(amount):\n",
    "\n",
    "    if isinstance(amount, int):\n",
    "        return f'${amount}.00'\n",
    "\n",
    "    elif isinstance(amount, float):\n",
    "        rs = str(amount).split('.')\n",
    "        \n",
    "        if len(rs[1]) == 1:\n",
    "            return f'${rs[0]}.{rs[1]}0'\n",
    "        \n",
    "        else:\n",
    "            return f'${rs[0]}.{rs[1]}'\n",
    "\n",
    "# solution at the top\n",
    "#  return '${:.2f}'.format(amount)"
   ]
  },
  {
   "cell_type": "code",
   "execution_count": 86,
   "metadata": {},
   "outputs": [],
   "source": [
    "def remove_elem(my_list):\n",
    "\n",
    "    return [x for ind, x in enumerate(my_list) if not ind % 2]"
   ]
  },
  {
   "cell_type": "code",
   "execution_count": 87,
   "metadata": {},
   "outputs": [
    {
     "data": {
      "text/plain": [
       "[1, 3, 6, 7]"
      ]
     },
     "execution_count": 87,
     "metadata": {},
     "output_type": "execute_result"
    }
   ],
   "source": [
    "remove_elem([1,2,3,4,6,8,7,0])"
   ]
  },
  {
   "cell_type": "code",
   "execution_count": 82,
   "metadata": {},
   "outputs": [
    {
     "data": {
      "text/plain": [
       "'$0.80'"
      ]
     },
     "execution_count": 82,
     "metadata": {},
     "output_type": "execute_result"
    }
   ],
   "source": [
    "format_money(0.8)"
   ]
  },
  {
   "cell_type": "code",
   "execution_count": 8,
   "metadata": {},
   "outputs": [
    {
     "data": {
      "text/plain": [
       "'DNTUSIEEORKSI'"
      ]
     },
     "execution_count": 8,
     "metadata": {},
     "output_type": "execute_result"
    }
   ],
   "source": [
    "test_string = \"DNTU SI EEORKSI\"\n",
    "test_string.replace(' ','')"
   ]
  },
  {
   "cell_type": "code",
   "execution_count": 10,
   "metadata": {},
   "outputs": [
    {
     "name": "stdout",
     "output_type": "stream",
     "text": [
      "True\n"
     ]
    }
   ],
   "source": [
    "if test_string.replace(' ', '').isalnum():\n",
    "    print(test_string.isupper())"
   ]
  },
  {
   "cell_type": "code",
   "execution_count": 32,
   "metadata": {},
   "outputs": [],
   "source": [
    "def is_uppercase(inp):\n",
    "    \n",
    "    if all(([x.isupper() or x.isnumeric() for x in inp if x.isalnum()])):\n",
    "        \"\"\"If each char is upper or numeric if character is alphanumeric\n",
    "        then return True\"\"\"\n",
    "        return True\n",
    "\n",
    "    elif all([not x.isalnum() for x in inp]):\n",
    "        #if all characters are not alpha numeric then return true\n",
    "        return True\n",
    "\n",
    "    else:\n",
    "        return False"
   ]
  },
  {
   "cell_type": "code",
   "execution_count": 34,
   "metadata": {},
   "outputs": [],
   "source": [
    "anoth = \"hello I AM DONALD\""
   ]
  },
  {
   "cell_type": "code",
   "execution_count": 29,
   "metadata": {},
   "outputs": [
    {
     "name": "stdout",
     "output_type": "stream",
     "text": [
      "['K', 'Y', 'V', 'R', 'G', 'M', 'U', '8', 'A', 'B', 'C', '5', 'G', 'U', 'Y', '4', '6', 'J', 'P', '7', 'T', 'W', 'T', 'N', 'N', 'Q', 'S', 'X']\n"
     ]
    }
   ],
   "source": [
    "fail_str = 'K+.Y!^VRGM:U8AB$ C5GUY[46)|J\"/P7TW\\0@T`NNQSX]'\n",
    "if not fail_str.isalnum():\n",
    "    print([x for x in fail_str if x.isalnum()])"
   ]
  },
  {
   "cell_type": "code",
   "execution_count": 33,
   "metadata": {},
   "outputs": [
    {
     "data": {
      "text/plain": [
       "True"
      ]
     },
     "execution_count": 33,
     "metadata": {},
     "output_type": "execute_result"
    }
   ],
   "source": [
    "is_uppercase(fail_str)"
   ]
  },
  {
   "cell_type": "code",
   "execution_count": 35,
   "metadata": {},
   "outputs": [
    {
     "data": {
      "text/plain": [
       "False"
      ]
     },
     "execution_count": 35,
     "metadata": {},
     "output_type": "execute_result"
    }
   ],
   "source": [
    "is_uppercase(anoth)"
   ]
  },
  {
   "cell_type": "code",
   "execution_count": 31,
   "metadata": {},
   "outputs": [
    {
     "name": "stdout",
     "output_type": "stream",
     "text": [
      "True\n"
     ]
    }
   ],
   "source": [
    "if not fail_str.isalnum():\n",
    "    print(all(([x.isupper() or x.isnumeric() for x in fail_str if x.isalnum()])))"
   ]
  },
  {
   "cell_type": "code",
   "execution_count": 36,
   "metadata": {},
   "outputs": [
    {
     "data": {
      "text/plain": [
       "True"
      ]
     },
     "execution_count": 36,
     "metadata": {},
     "output_type": "execute_result"
    }
   ],
   "source": [
    "test_str = \"HELLO I AM DONALD\"\n",
    "is_uppercase(test_str)"
   ]
  },
  {
   "cell_type": "code",
   "execution_count": 18,
   "metadata": {},
   "outputs": [
    {
     "data": {
      "text/plain": [
       "[True, True, True, True, True, False, True, True, False, True]"
      ]
     },
     "execution_count": 18,
     "metadata": {},
     "output_type": "execute_result"
    }
   ],
   "source": [
    "[x.isalnum() for x in test_str]"
   ]
  },
  {
   "cell_type": "code",
   "execution_count": 19,
   "metadata": {},
   "outputs": [
    {
     "data": {
      "text/plain": [
       "False"
      ]
     },
     "execution_count": 19,
     "metadata": {},
     "output_type": "execute_result"
    }
   ],
   "source": [
    "all([x.isalnum() for x in test_str])"
   ]
  },
  {
   "cell_type": "code",
   "execution_count": 23,
   "metadata": {},
   "outputs": [
    {
     "data": {
      "text/plain": [
       "False"
      ]
     },
     "execution_count": 23,
     "metadata": {},
     "output_type": "execute_result"
    }
   ],
   "source": [
    "test_str.isupper()"
   ]
  },
  {
   "cell_type": "code",
   "execution_count": 24,
   "metadata": {},
   "outputs": [
    {
     "data": {
      "text/plain": [
       "True"
      ]
     },
     "execution_count": 24,
     "metadata": {},
     "output_type": "execute_result"
    }
   ],
   "source": [
    "anoth = \"$%&\"\n",
    "is_uppercase(anoth)"
   ]
  },
  {
   "cell_type": "code",
   "execution_count": 20,
   "metadata": {},
   "outputs": [
    {
     "data": {
      "text/plain": [
       "True"
      ]
     },
     "execution_count": 20,
     "metadata": {},
     "output_type": "execute_result"
    }
   ],
   "source": [
    "is_uppercase('RFwJM`pv*O')"
   ]
  },
  {
   "cell_type": "code",
   "execution_count": 1,
   "metadata": {},
   "outputs": [
    {
     "ename": "SyntaxError",
     "evalue": "invalid syntax (2440940521.py, line 1)",
     "output_type": "error",
     "traceback": [
      "\u001b[1;36m  File \u001b[1;32m\"C:\\Users\\D30001~1\\AppData\\Local\\Temp/ipykernel_7888/2440940521.py\"\u001b[1;36m, line \u001b[1;32m1\u001b[0m\n\u001b[1;33m    def snail(array)\u001b[0m\n\u001b[1;37m                    ^\u001b[0m\n\u001b[1;31mSyntaxError\u001b[0m\u001b[1;31m:\u001b[0m invalid syntax\n"
     ]
    }
   ],
   "source": [
    "def snail(array):\n",
    "    \"\"\"Steps to traverse the square array from outside to inside...\"\"\"\n",
    "    \n"
   ]
  },
  {
   "cell_type": "code",
   "execution_count": null,
   "metadata": {},
   "outputs": [],
   "source": [
    "arr1 = [[1,2,3],\n",
    "         [4,5,6],\n",
    "         [7,8,9]]\n",
    "expected_1 = [1,2,3,6,9,8,7,4,5]\n",
    "\n",
    "arr2 = [[1,2,3],\n",
    "         [8,9,4],\n",
    "         [7,6,5]]\n",
    "expected_2 = [1,2,3,4,5,6,7,8,9]"
   ]
  },
  {
   "cell_type": "markdown",
   "metadata": {},
   "source": [
    "![](20220605051146.png)  "
   ]
  },
  {
   "cell_type": "code",
   "execution_count": 15,
   "metadata": {},
   "outputs": [],
   "source": [
    "import math\n",
    "\n",
    "def bloodMoon(r):\n",
    "    \"\"\"Calculate hypotnuse AD and then AF\n",
    "    Calculate area of AD/ 2 and AF/2\n",
    "    Subtract the later area from the former area.\"\"\"\n",
    "\n",
    "    fe = ((2 * (r ** 2)) ** 0.5) / 2 #Radius of AHFDE circle\n",
    "    #small circle r is half of big circle.\n",
    "\n",
    "    af = ((2 * (fe ** 2)) ** 0.5) / 2\n",
    "\n",
    "    def cir_area(r):\n",
    "\n",
    "        return math.pi * r * r\n",
    "    \n",
    "    big_c = cir_area(fe)\n",
    "\n",
    "    small_c = cir_area(af)\n",
    "\n",
    "    return big_c - small_c"
   ]
  },
  {
   "cell_type": "code",
   "execution_count": 18,
   "metadata": {},
   "outputs": [
    {
     "data": {
      "text/plain": [
       "7.068583470577034"
      ]
     },
     "execution_count": 18,
     "metadata": {},
     "output_type": "execute_result"
    }
   ],
   "source": [
    "bloodMoon(3)"
   ]
  },
  {
   "cell_type": "code",
   "execution_count": 2,
   "metadata": {},
   "outputs": [
    {
     "data": {
      "text/plain": [
       "'ssttrr'"
      ]
     },
     "execution_count": 2,
     "metadata": {},
     "output_type": "execute_result"
    }
   ],
   "source": [
    "\"\".join([x+x for x in 'str'])"
   ]
  },
  {
   "cell_type": "code",
   "execution_count": 6,
   "metadata": {},
   "outputs": [
    {
     "data": {
      "text/plain": [
       "[0, 1, 0, 1, 1, 1, 1, 0, 0, 0, 1, 1, 0, 0, 1, 1, 1]"
      ]
     },
     "execution_count": 6,
     "metadata": {},
     "output_type": "execute_result"
    }
   ],
   "source": [
    "numb = \"45385593107843568\"\n",
    "[1 if int(x) >= 5 else 0 for x in numb]"
   ]
  },
  {
   "cell_type": "code",
   "execution_count": 7,
   "metadata": {},
   "outputs": [
    {
     "data": {
      "text/plain": [
       "'8j8mBliB8gimjB8B8jlB'"
      ]
     },
     "execution_count": 7,
     "metadata": {},
     "output_type": "execute_result"
    }
   ],
   "source": [
    "'8 j 8   mBliB8g  imjB8B8  jl  B'.replace(' ','')"
   ]
  },
  {
   "cell_type": "code",
   "execution_count": 1,
   "metadata": {},
   "outputs": [],
   "source": [
    "array =[[ 0, 1, 2, 3, 4 ],\n",
    "    [ 10,11,12,13,14 ],\n",
    "    [ 20,21,22,23,24 ],\n",
    "    [ 30,31,32,33,34 ]] \n",
    "    "
   ]
  },
  {
   "cell_type": "code",
   "execution_count": 7,
   "metadata": {},
   "outputs": [
    {
     "data": {
      "text/plain": [
       "\"['0', '1', '2', '3', '4']\\n['10', '11', '12', '13', '14']\\n['20', '21', '22', '23', '24']\\n['30', '31', '32', '33', '34']\""
      ]
     },
     "execution_count": 7,
     "metadata": {},
     "output_type": "execute_result"
    }
   ],
   "source": [
    "'\\n'.join([str([str(x) for x in y])for y in array])\n",
    "#another one line\n",
    "'\\n'.join(','.join(map(str, line)) for line in array)\n",
    "#another one line\n",
    "(str(array).replace('],', '\\n').replace('[', '').replace(']', '').replace(' ', ''))  "
   ]
  },
  {
   "cell_type": "code",
   "execution_count": 3,
   "metadata": {},
   "outputs": [],
   "source": [
    "def add10(x): return x + 10\n",
    "def mul30(x): return x * 30\n",
    "\n",
    "def chain(init_val, functions):\n",
    "    ret_val = init_val\n",
    "    \n",
    "    for func in functions:\n",
    "        ret_val = func(ret_val)\n",
    "    \n",
    "    return ret_val\n",
    "\n",
    "#one line\n",
    "#reduce(lambda x, f: f(x), functions, init_val)"
   ]
  },
  {
   "cell_type": "code",
   "execution_count": 4,
   "metadata": {},
   "outputs": [
    {
     "data": {
      "text/plain": [
       "1800"
      ]
     },
     "execution_count": 4,
     "metadata": {},
     "output_type": "execute_result"
    }
   ],
   "source": [
    "chain(50,[add10, mul30])"
   ]
  },
  {
   "cell_type": "code",
   "execution_count": 15,
   "metadata": {},
   "outputs": [
    {
     "data": {
      "text/plain": [
       "True"
      ]
     },
     "execution_count": 15,
     "metadata": {},
     "output_type": "execute_result"
    }
   ],
   "source": [
    "'f'.upper() in 'BCDFGHJKLMNPQRSTVWXYZ'"
   ]
  },
  {
   "cell_type": "code",
   "execution_count": 18,
   "metadata": {},
   "outputs": [
    {
     "data": {
      "text/plain": [
       "'zteote'"
      ]
     },
     "execution_count": 18,
     "metadata": {},
     "output_type": "execute_result"
    }
   ],
   "source": [
    "s = 'te'\n",
    "'z'+f'{s}o{s}'"
   ]
  },
  {
   "cell_type": "code",
   "execution_count": 27,
   "metadata": {},
   "outputs": [],
   "source": [
    "def robber_encode(sentence):\n",
    "    sentence = sentence.split(' ')\n",
    "    new_robber = []\n",
    "    \n",
    "    for word in sentence:\n",
    "        robeer = ''\n",
    "        \n",
    "        for letter in word:\n",
    "         \n",
    "            if letter.upper() in 'BCDFGHJKLMNPQRSTVWXYZ':\n",
    "                robeer = robeer + f'{letter}o{letter}'\n",
    "         \n",
    "            else:\n",
    "                robeer = robeer + letter\n",
    "        \n",
    "        new_robber.append(robeer)\n",
    "        \n",
    "    return ' '.join(new_robber)"
   ]
  },
  {
   "cell_type": "code",
   "execution_count": 29,
   "metadata": {},
   "outputs": [],
   "source": [
    "from functools import partial\n",
    "from re import compile\n",
    "\n",
    "r1 = partial(compile(r\"(?=[a-z])([^aeiou])\").sub, r\"\\1o\\1\")\n",
    "r2 = partial(compile(r\"(?=[A-Z])([^AEIOU])\").sub, r\"\\1O\\1\")\n",
    "\n",
    "def robber_encode(sentence):\n",
    "    return r1(r2(sentence))"
   ]
  },
  {
   "cell_type": "code",
   "execution_count": 28,
   "metadata": {},
   "outputs": [
    {
     "data": {
      "text/plain": [
       "'fofolollolowow tothohe wowhohitote rorabobbobitot'"
      ]
     },
     "execution_count": 28,
     "metadata": {},
     "output_type": "execute_result"
    }
   ],
   "source": [
    "robber_encode(sentence=\"follow the white rabbit\")"
   ]
  },
  {
   "cell_type": "markdown",
   "metadata": {},
   "source": [
    "Before starting to solve the problem, the input needs to be validated. \n",
    "Find the easiest method to validate the input.\n",
    "\n",
    "Some cases the negative validation of the inputs can help. \n",
    "\n",
    "In other cases the solution itself can do validation and return answer. This is solution that you need to aspire"
   ]
  },
  {
   "cell_type": "code",
   "execution_count": 2,
   "metadata": {},
   "outputs": [],
   "source": [
    "x = input(\"ender\")"
   ]
  },
  {
   "cell_type": "code",
   "execution_count": 1,
   "metadata": {},
   "outputs": [
    {
     "data": {
      "text/plain": [
       "'my Tomo Hawk'"
      ]
     },
     "execution_count": 1,
     "metadata": {},
     "output_type": "execute_result"
    }
   ],
   "source": [
    "def breakCamel(s):\n",
    "    broken = ''\n",
    "    for x in s:\n",
    "        if x in \"ABCDEFGHIJKLMNOPQRSTUVWXYZ\":\n",
    "            broken = broken + \" \" + x\n",
    "\n",
    "        else:\n",
    "            broken = broken + x\n",
    "\n",
    "    return broken\n",
    "\"\"\"\n",
    "Some clever solutions\n",
    " ''.join(' ' + c if c.isupper() else c for c in s)\n",
    " re.sub('([A-Z])', r' \\1', s)\n",
    "\"\"\"\n",
    "\n",
    "breakCamel('myTomoHawk')"
   ]
  },
  {
   "cell_type": "code",
   "execution_count": 2,
   "metadata": {},
   "outputs": [
    {
     "data": {
      "text/plain": [
       "22"
      ]
     },
     "execution_count": 2,
     "metadata": {},
     "output_type": "execute_result"
    }
   ],
   "source": [
    "from math import log,ceil\n",
    "def evaporator(vol, evap, thres):\n",
    "    day = 0\n",
    "    thrs_vol = vol * thres * 0.01\n",
    "    while True:\n",
    "        vol = vol - (vol * evap * 0.01)\n",
    "        day = day + 1\n",
    "        if vol <= thrs_vol:\n",
    "            return day\n",
    "#ceil(log(threshold/100,1-evap_per_day/100))\n",
    "evaporator(10,10,10)"
   ]
  },
  {
   "cell_type": "code",
   "execution_count": 12,
   "metadata": {},
   "outputs": [
    {
     "data": {
      "text/plain": [
       "'0x5'"
      ]
     },
     "execution_count": 12,
     "metadata": {},
     "output_type": "execute_result"
    }
   ],
   "source": [
    "hex(5)"
   ]
  },
  {
   "cell_type": "code",
   "execution_count": 13,
   "metadata": {},
   "outputs": [],
   "source": [
    "def rgb(r, g, b):\n",
    "    \n",
    "    def conv_hex(d):\n",
    "        if d < 0 : return \"00\"\n",
    "        if d >= 255: return \"FF\"\n",
    "        if d > 0 and d <= 9:\n",
    "            return \"0\" + (hex(d)[2:].upper())\n",
    "        return  (hex(d))[2:].upper()\n",
    "    \n",
    "    return conv_hex(r) + conv_hex(g) + conv_hex(b)\n",
    "\n",
    "\"\"\"\n",
    "round = lambda x: min(255, max(x, 0))\n",
    "    return (\"{:02X}\" * 3).format(round(r), round(g), round(b))\n",
    "\"\"\""
   ]
  },
  {
   "cell_type": "code",
   "execution_count": 15,
   "metadata": {},
   "outputs": [
    {
     "data": {
      "text/plain": [
       "'FEFDFC'"
      ]
     },
     "execution_count": 15,
     "metadata": {},
     "output_type": "execute_result"
    }
   ],
   "source": [
    "rgb(254,253,252)"
   ]
  },
  {
   "cell_type": "code",
   "execution_count": 13,
   "metadata": {},
   "outputs": [],
   "source": [
    "class Person(object):\n",
    "    def __init__(self,name):\n",
    "        self.name = name\n",
    "\n",
    "    def greet(self,your_name):\n",
    "        return f\"Hello {your_name}, my name is {self.name}\""
   ]
  },
  {
   "cell_type": "code",
   "execution_count": 14,
   "metadata": {},
   "outputs": [
    {
     "data": {
      "text/plain": [
       "'Hello Jill, my name is Jill'"
      ]
     },
     "execution_count": 14,
     "metadata": {},
     "output_type": "execute_result"
    }
   ],
   "source": [
    "jack = Person(\"Jack\")\n",
    "jill = Person(\"Jill\")\n",
    "\n",
    "jill.greet(\"Jill\")"
   ]
  },
  {
   "cell_type": "code",
   "execution_count": 18,
   "metadata": {},
   "outputs": [],
   "source": [
    "class Animal(object):\n",
    "    def __init__(self, name, species, age, health, weight, color):\n",
    "        self.name = name\n",
    "        self.species = species\n",
    "        self.age = age\n",
    "        self.health = health\n",
    "        self.weight = weight\n",
    "        self.color = color\n",
    "\n",
    "dog1 = Animal(\"Bob\", \"Dog\", 5, \"good\", \"50lb\", \"brown\")\n",
    "#Need to learn about Encapsulation to implement this...\n"
   ]
  },
  {
   "cell_type": "code",
   "execution_count": 19,
   "metadata": {},
   "outputs": [],
   "source": [
    "sunday = [6737, 7244, 5776, 9826, 7057, 9247, 5842, 5484, 6543, 5153, 6832, 8274,\n",
    "          7148, 6152, 5940, 8040, 9174, 7555, 7682, 5252, 8793, 8837, 7320, 8478, 6063, \n",
    "          5751, 9716, 5085, 7315, 7859, 6628, 5425, 6331, 7097, 6249, 8381, 5936, 8496, \n",
    "          6934, 8347, 7036, 6421, 6510, 5821, 8602, 5312, 7836, 8032, 9871, 5990, 6309, 7825]\n",
    "\n",
    "monday = [9175, 7883, 7596, 8635, 9274, 9675, 5603, 6863, 6442, 9500, 7468, 9719,\n",
    "          6648, 8180, 7944, 5190, 6209, 7175, 5984, 9737, 5548, 6803, 9254, 5932, 7360, 9221, \n",
    "          5702, 5252, 7041, 7287, 5185, 9139, 7187, 8855, 9310, 9105, 9769, 9679, 7842,\n",
    "          7466, 7321, 6785, 8770, 8108, 7985, 5186, 9021, 9098, 6099, 5828, 7217, 9387]\n",
    "\n",
    "tuesday = [8646, 6945, 6364, 9563, 5627, 5068, 9157, 9439, 5681, 8674, 6379, 8292,\n",
    "           7552, 5370, 7579, 9851, 8520, 5881, 7138, 7890, 6016, 5630, 5985, 9758, 8415, 7313,\n",
    "           7761, 9853, 7937, 9268, 7888, 6589, 9366, 9867, 5093, 6684, 8793, 8116, 8493, \n",
    "           5265, 5815, 7191, 9515, 7825, 9508, 6878, 7180, 8756, 5717, 7555, 9447, 7703]\n",
    "\n",
    "wednesday = [6353, 9605, 5464, 9752, 9915, 7446, 9419, 6520, 7438, 6512, 7102, \n",
    "             5047, 6601, 8303, 9118, 5093, 8463, 7116, 7378, 9738, 9998, 7125, 6445, 6031, 8710,\n",
    "             5182, 9142, 9415, 9710, 7342, 9425, 7927, 9030, 7742, 8394, 9652, 5783, 7698, \n",
    "             9492, 6973, 6531, 7698, 8994, 8058, 6406, 5738, 7500, 8357, 7378, 9598, 5405, 9493]\n",
    "\n",
    "thursday = [6149, 6439, 9899, 5897, 8589, 7627, 6348, 9625, 9490, 5502, 5723, 8197,\n",
    "            9866, 6609, 6308, 7163, 9726, 7222, 7549, 6203, 5876, 8836, 6442, 6752, 8695, 8402,\n",
    "            9638, 9925, 5508, 8636, 5226, 9941, 8936, 5047, 6445, 8063, 6083, 7383, 7548, 5066, \n",
    "            7107, 6911, 9302, 5202, 7487, 5593, 8620, 8858, 5360, 6638, 8012, 8701]\n",
    "\n",
    "friday = [5000, 5642, 9143, 7731, 8477, 8000, 7411, 8813, 8288, 5637, 6244, 6589, 6362, \n",
    "         6200, 6781, 8371, 7082, 5348, 8842, 9513, 5896, 6628, 8164, 8473, 5663, 9501, \n",
    "         9177, 8384, 8229, 8781, 9160, 6955, 9407, 7443, 8934, 8072, 8942, 6859, 5617,\n",
    "         5078, 8910, 6732, 9848, 8951, 9407, 6699, 9842, 7455, 8720, 5725, 6960, 5127]\n",
    "\n",
    "saturday = [5448, 8041, 6573, 8104, 6208, 5912, 7927, 8909, 7000, 5059, 6412, 6354, 8943, \n",
    "            5460, 9979, 5379, 8501, 6831, 7022, 7575, 5828, 5354, 5115, 9625, 7795, 7003, \n",
    "            5524, 9870, 6591, 8616, 5163, 6656, 8150, 8826, 6875, 5242, 9585, 9649, 9838, \n",
    "            7150, 6567, 8524, 7613, 7809, 5562, 7799, 7179, 5184, 7960, 9455, 5633, 9085]"
   ]
  },
  {
   "cell_type": "code",
   "execution_count": 23,
   "metadata": {},
   "outputs": [
    {
     "data": {
      "text/plain": [
       "54636040"
      ]
     },
     "execution_count": 23,
     "metadata": {},
     "output_type": "execute_result"
    }
   ],
   "source": [
    "stairs = [sunday,monday,tuesday,wednesday,thursday,friday,saturday]\n",
    "def stairs_in_20(stairs):\n",
    "    return sum([sum(x) for x in stairs]) * 20\n",
    "    #return 20 * sum(map(sum, stairs))\n",
    "\n",
    "stairs_in_20(stairs) "
   ]
  },
  {
   "cell_type": "code",
   "execution_count": 10,
   "metadata": {},
   "outputs": [
    {
     "name": "stdout",
     "output_type": "stream",
     "text": [
      "BGI\n",
      "False\n",
      "BGNOI\n",
      "True\n",
      "BGNOI\n",
      "True\n"
     ]
    },
    {
     "data": {
      "text/plain": [
       "'WIN'"
      ]
     },
     "execution_count": 10,
     "metadata": {},
     "output_type": "execute_result"
    }
   ],
   "source": [
    "def bingo(array):\n",
    "    bingo_list = list('BINGO')\n",
    "    keys = dict(zip(range(1, 27),list(\"ABCDEFGHIJKLMNOPQRSTUVWXYZ\")))\n",
    "    array_set = list(set(array)) #remove duplicates\n",
    "    array_let = ''.join([keys[index] for index in array_set if keys[index] in 'BINGO'])\n",
    "    print(array_let)\n",
    "    print(all([letter in array_let for letter in list('BINGO')]))\n",
    "    if all([letter in 'BINGO' for letter in array_let]):\n",
    "        return \"WIN\"\n",
    "    else:\n",
    "        return \"LOSE\"\n",
    "\n",
    "#return \"WIN\" if {2, 7, 9, 14, 15}.issubset(set(array)) else \"LOSE\"\n",
    "\n",
    "bingo([1, 2, 3, 4, 5, 6, 7, 8, 9, 10])\n",
    "bingo([1, 2, 3, 7, 5, 14, 7, 15, 9, 10])\n",
    "bingo([5, 2, 13, 7, 5, 14, 17, 15, 9, 10])"
   ]
  },
  {
   "cell_type": "code",
   "execution_count": 8,
   "metadata": {},
   "outputs": [
    {
     "data": {
      "text/plain": [
       "[True, False, True, False, True, False, True, False, True]"
      ]
     },
     "execution_count": 8,
     "metadata": {},
     "output_type": "execute_result"
    }
   ],
   "source": [
    "def alternate(n, f_v, s_v):\n",
    "    alte = []\n",
    "    for x in range(1, n+1):\n",
    "        if x % 2 != 0:\n",
    "            alte.append(f_v)\n",
    "\n",
    "        else:\n",
    "            alte.append(s_v)\n",
    "    return alte\n",
    "\n",
    "alternate(5,True,False)\n",
    "alternate(0,'klue','red')\n",
    "\n",
    "[True if x % 2 != 0 else False for x in range(1, 10)]\n",
    "[[True, False][i % 2] for i in range(n)]"
   ]
  },
  {
   "cell_type": "code",
   "execution_count": 3,
   "metadata": {},
   "outputs": [
    {
     "ename": "TypeError",
     "evalue": "array() missing required argument 'object' (pos 0)",
     "output_type": "error",
     "traceback": [
      "\u001b[1;31m---------------------------------------------------------------------------\u001b[0m",
      "\u001b[1;31mTypeError\u001b[0m                                 Traceback (most recent call last)",
      "\u001b[1;32mC:\\Users\\D30001~1\\AppData\\Local\\Temp/ipykernel_14836/1173105051.py\u001b[0m in \u001b[0;36m<module>\u001b[1;34m\u001b[0m\n\u001b[0;32m      1\u001b[0m \u001b[1;32mimport\u001b[0m \u001b[0mnumpy\u001b[0m \u001b[1;32mas\u001b[0m \u001b[0mnp\u001b[0m\u001b[1;33m\u001b[0m\u001b[1;33m\u001b[0m\u001b[0m\n\u001b[1;32m----> 2\u001b[1;33m \u001b[0mvar\u001b[0m \u001b[1;33m=\u001b[0m \u001b[0mnp\u001b[0m\u001b[1;33m.\u001b[0m\u001b[0marray\u001b[0m\u001b[1;33m(\u001b[0m\u001b[1;33m)\u001b[0m\u001b[1;33m\u001b[0m\u001b[1;33m\u001b[0m\u001b[0m\n\u001b[0m",
      "\u001b[1;31mTypeError\u001b[0m: array() missing required argument 'object' (pos 0)"
     ]
    }
   ],
   "source": [
    "import numpy as np\n",
    "var = np.array()"
   ]
  },
  {
   "cell_type": "code",
   "execution_count": 18,
   "metadata": {},
   "outputs": [],
   "source": [
    "def calculate(list_num):\n",
    "    \n",
    "    try:\n",
    "        \n",
    "        var = np.array(list_num).reshape(3,3)\n",
    "        calcs = dict()\n",
    "        calcs['mean'] = [list(var.mean(axis=0)), list(var.mean(axis=1)),var.flatten().mean()]\n",
    "        calcs['variance'] = [list(var.var(axis=0)), list(var.var(axis=1)),var.flatten().var()]\n",
    "        calcs['standard deviation'] = [list(var.std(axis=0)), list(var.std(axis=1)),var.flatten().std()]\n",
    "        calcs['max'] = [list(var.max(axis=0)), list(var.max(axis=1)),var.flatten().max()]\n",
    "        calcs['min'] = [list(var.min(axis=0)), list(var.min(axis=1)),var.flatten().min()]\n",
    "        calcs['sum'] = [list(var.sum(axis=0)), list(var.sum(axis=1)),var.flatten().sum()]\n",
    "        return calcs\n",
    "    except:\n",
    "        \n",
    "        print('Check the provided data.')"
   ]
  },
  {
   "cell_type": "code",
   "execution_count": 19,
   "metadata": {},
   "outputs": [
    {
     "name": "stdout",
     "output_type": "stream",
     "text": [
      "Check the provided data.\n"
     ]
    }
   ],
   "source": [
    "list1 = [0,1,2,3,4,5,6,7]\n",
    "calculate(list1)"
   ]
  },
  {
   "cell_type": "code",
   "execution_count": 23,
   "metadata": {},
   "outputs": [
    {
     "data": {
      "text/plain": [
       "{'mean': [[4.666666666666667, 4.333333333333333, 2.6666666666666665],\n",
       "  [5.0, 3.0, 3.6666666666666665],\n",
       "  3.888888888888889],\n",
       " 'variance': [[9.555555555555555, 11.555555555555557, 4.222222222222222],\n",
       "  [10.666666666666666, 0.0, 14.888888888888891],\n",
       "  9.209876543209875],\n",
       " 'standard deviation': [[3.0912061651652345,\n",
       "   3.39934634239519,\n",
       "   2.0548046676563256],\n",
       "  [3.265986323710904, 0.0, 3.8586123009300755],\n",
       "  3.0347778408328137],\n",
       " 'max': [[9, 9, 5], [9, 3, 9], 9],\n",
       " 'min': [[2, 1, 0], [1, 3, 0], 0],\n",
       " 'sum': [[14, 13, 8], [15, 9, 11], 35]}"
      ]
     },
     "execution_count": 23,
     "metadata": {},
     "output_type": "execute_result"
    }
   ],
   "source": [
    "giv_list1 = [9,1,5,3,3,3,2,9,0]\n",
    "calculate(giv_list1)"
   ]
  },
  {
   "cell_type": "code",
   "execution_count": 24,
   "metadata": {},
   "outputs": [
    {
     "name": "stdout",
     "output_type": "stream",
     "text": [
      "this\n",
      "This\n"
     ]
    }
   ],
   "source": [
    "import time\n",
    "\n",
    "print(\"this\")\n",
    "time.sleep(50)\n",
    "print('This')"
   ]
  },
  {
   "cell_type": "code",
   "execution_count": 5,
   "metadata": {},
   "outputs": [
    {
     "data": {
      "text/plain": [
       "'\\nif a1 and a2:\\n        return max(\\n            len(max(a1, key=len)) - len(min(a2, key=len)),\\n            len(max(a2, key=len)) - len(min(a1, key=len)))\\n    return -1\\n'"
      ]
     },
     "execution_count": 5,
     "metadata": {},
     "output_type": "execute_result"
    }
   ],
   "source": [
    "def mxdiflg(a1, a2):\n",
    "    if len(a1) == 0 or len(a2) == 0:\n",
    "        return -1\n",
    "    \n",
    "    len1 = [len(a) for a in a1]\n",
    "    len2 = [len(a) for a in a2]\n",
    "    \n",
    "    dif_len = []\n",
    "\n",
    "    for l in len1:\n",
    "        for m in len2:\n",
    "            dif_len.append(abs(l - m))\n",
    "        \n",
    "    return max(dif_len)\n",
    "\n",
    "\"\"\"\n",
    "if a1 and a2:\n",
    "        return max(\n",
    "            len(max(a1, key=len)) - len(min(a2, key=len)),\n",
    "            len(max(a2, key=len)) - len(min(a1, key=len)))\n",
    "    return -1\n",
    "\"\"\""
   ]
  },
  {
   "cell_type": "code",
   "execution_count": 6,
   "metadata": {},
   "outputs": [
    {
     "data": {
      "text/plain": [
       "13"
      ]
     },
     "execution_count": 6,
     "metadata": {},
     "output_type": "execute_result"
    }
   ],
   "source": [
    "a1 = [\"hoqq\", \"bbllkw\", \"oox\", \"ejjuyyy\", \"plmiis\", \"xxxzgpsssa\", \"xxwwkktt\", \"znnnnfqknaz\", \"qqquuhii\", \"dvvvwz\"]\n",
    "a2 = [\"cccooommaaqqoxii\", \"gggqaffhhh\", \"tttoowwwmmww\"]\n",
    "\n",
    "mxdiflg(a1,a2)"
   ]
  },
  {
   "cell_type": "code",
   "execution_count": 1,
   "metadata": {},
   "outputs": [],
   "source": [
    "class Animal:\n",
    "\n",
    "    def __init__(self, name, species, age, health, weight, color):\n",
    "        self.name = name\n",
    "        self.species = species\n",
    "        self.age = age\n",
    "        self.health = health\n",
    "        self.weight = weight\n",
    "        self.color = color\n",
    "\n",
    "def make_class(name, species, age, health, weight, color):\n",
    "\n",
    "    return Animal(name, species, age, health, weight, color)\n",
    "\n",
    "Animel = make_class\n",
    "\n",
    "dog2 = Animel(\"Bob\", \"Dog\", 5, \"good\", \"50lb\", \"brown\")\n",
    "#failing with error that object is not callable"
   ]
  },
  {
   "cell_type": "code",
   "execution_count": 15,
   "metadata": {},
   "outputs": [
    {
     "ename": "TypeError",
     "evalue": "'str' object does not support item assignment",
     "output_type": "error",
     "traceback": [
      "\u001b[1;31m---------------------------------------------------------------------------\u001b[0m",
      "\u001b[1;31mTypeError\u001b[0m                                 Traceback (most recent call last)",
      "\u001b[1;32mC:\\Users\\D30001~1\\AppData\\Local\\Temp/ipykernel_8196/258633121.py\u001b[0m in \u001b[0;36m<module>\u001b[1;34m\u001b[0m\n\u001b[0;32m      1\u001b[0m \u001b[0ms\u001b[0m \u001b[1;33m=\u001b[0m \u001b[1;34m'aAbB'\u001b[0m\u001b[1;33m\u001b[0m\u001b[1;33m\u001b[0m\u001b[0m\n\u001b[1;32m----> 2\u001b[1;33m \u001b[0ms\u001b[0m\u001b[1;33m[\u001b[0m\u001b[1;36m1\u001b[0m\u001b[1;33m]\u001b[0m \u001b[1;33m=\u001b[0m\u001b[1;34m'x'\u001b[0m\u001b[1;33m\u001b[0m\u001b[1;33m\u001b[0m\u001b[0m\n\u001b[0m\u001b[0;32m      3\u001b[0m \u001b[0ms\u001b[0m\u001b[1;33m\u001b[0m\u001b[1;33m\u001b[0m\u001b[0m\n",
      "\u001b[1;31mTypeError\u001b[0m: 'str' object does not support item assignment"
     ]
    }
   ],
   "source": [
    "s = 'aAbB'\n",
    "s[1] ='x'\n",
    "s"
   ]
  },
  {
   "cell_type": "code",
   "execution_count": 24,
   "metadata": {},
   "outputs": [],
   "source": [
    "def encode(message):\n",
    "    cypher_e = {\"A\":\"G\",\"E\":\"D\",\"Y\":\"R\",\"O\":\"P\",\"U\":\"L\",\"I\":\"K\"}\n",
    "    cypher_d = {\"G\":\"A\",\"D\":\"E\",\"R\":\"Y\",\"P\":\"O\",\"L\":\"U\",\"K\":\"I\"}\n",
    "    interim = list(message)\n",
    "\n",
    "    for ind, char in enumerate(message):\n",
    "        if char.upper() in cypher_d:\n",
    "            if char.islower():\n",
    "\n",
    "                interim[ind] = cypher_d[char.upper()].lower()\n",
    "\n",
    "            else:\n",
    "\n",
    "                interim[ind] = cypher_d[char]\n",
    "\n",
    "        elif char.upper() in cypher_e:\n",
    "            if char.islower():\n",
    "\n",
    "                interim[ind] = cypher_e[char.upper()].lower()\n",
    "\n",
    "            else:\n",
    "\n",
    "                interim[ind] = cypher_e[char]\n",
    "\n",
    "    return ''.join(interim) \n",
    "\n",
    "decode = encode"
   ]
  },
  {
   "cell_type": "code",
   "execution_count": 21,
   "metadata": {},
   "outputs": [
    {
     "data": {
      "text/plain": [
       "'agedyropulik'"
      ]
     },
     "execution_count": 21,
     "metadata": {},
     "output_type": "execute_result"
    }
   ],
   "source": [
    "dict = {i[0]:i[1] for i in ['GA', 'DE', 'RY', 'PO', 'LU', 'KI', 'AG', 'ED', 'YR', 'OP', 'UL', 'IK','ga', 'de', 'ry', 'po', 'lu', 'ki', 'ag', 'ed', 'yr', 'op', 'ul', 'ik'] }\n",
    "\n",
    "def encode(s):\n",
    "\n",
    "    return ''.join([dict[i] if i in dict else i for i in s])\n",
    "    \n",
    "def decode(s):\n",
    "\n",
    "    return ''.join([dict[i] if i in dict else i for i in s])"
   ]
  },
  {
   "cell_type": "code",
   "execution_count": 25,
   "metadata": {},
   "outputs": [
    {
     "data": {
      "text/plain": [
       "'Gug hgs g cgt'"
      ]
     },
     "execution_count": 25,
     "metadata": {},
     "output_type": "execute_result"
    }
   ],
   "source": [
    "decode(\"Ala has a cat\")"
   ]
  },
  {
   "cell_type": "code",
   "execution_count": null,
   "metadata": {},
   "outputs": [],
   "source": [
    "def snail(snail_map):\n",
    "    pass"
   ]
  },
  {
   "cell_type": "code",
   "execution_count": 28,
   "metadata": {},
   "outputs": [
    {
     "data": {
      "text/plain": [
       "array([1, 2, 3, 4, 5, 6, 7, 8, 9])"
      ]
     },
     "execution_count": 28,
     "metadata": {},
     "output_type": "execute_result"
    }
   ],
   "source": [
    "array = [[1,2,3],\n",
    "         [4,5,6],\n",
    "         [7,8,9]]\n",
    "\n",
    "import numpy as np\n",
    "np.array(array).flatten()"
   ]
  },
  {
   "cell_type": "code",
   "execution_count": 5,
   "metadata": {},
   "outputs": [
    {
     "data": {
      "text/plain": [
       "['7', '7', '9', '7']"
      ]
     },
     "execution_count": 5,
     "metadata": {},
     "output_type": "execute_result"
    }
   ],
   "source": [
    "temp = list('79797')\n",
    "temp.pop(1)\n",
    "temp"
   ]
  },
  {
   "cell_type": "code",
   "execution_count": 20,
   "metadata": {},
   "outputs": [
    {
     "ename": "IndexError",
     "evalue": "string index out of range",
     "output_type": "error",
     "traceback": [
      "\u001b[1;31m---------------------------------------------------------------------------\u001b[0m",
      "\u001b[1;31mIndexError\u001b[0m                                Traceback (most recent call last)",
      "\u001b[1;32mC:\\Users\\D30001~1\\AppData\\Local\\Temp/ipykernel_15792/2127127227.py\u001b[0m in \u001b[0;36m<module>\u001b[1;34m\u001b[0m\n\u001b[0;32m      1\u001b[0m \u001b[0mt\u001b[0m \u001b[1;33m=\u001b[0m \u001b[1;34m'atosu'\u001b[0m\u001b[1;33m\u001b[0m\u001b[1;33m\u001b[0m\u001b[0m\n\u001b[1;32m----> 2\u001b[1;33m \u001b[0mt\u001b[0m\u001b[1;33m[\u001b[0m\u001b[1;36m6\u001b[0m\u001b[1;33m]\u001b[0m\u001b[1;33m\u001b[0m\u001b[1;33m\u001b[0m\u001b[0m\n\u001b[0m",
      "\u001b[1;31mIndexError\u001b[0m: string index out of range"
     ]
    }
   ],
   "source": [
    "t = 'atosu'\n",
    "t[6]"
   ]
  },
  {
   "cell_type": "code",
   "execution_count": 21,
   "metadata": {},
   "outputs": [],
   "source": [
    "import re\n",
    "\n",
    "def sevenAte9(string):\n",
    "    \n",
    "    regex = r\"(?<=7)9(?=7)\"\n",
    "\n",
    "    return re.sub(regex, \"\",string)"
   ]
  },
  {
   "cell_type": "code",
   "execution_count": 22,
   "metadata": {},
   "outputs": [
    {
     "data": {
      "text/plain": [
       "'777'"
      ]
     },
     "execution_count": 22,
     "metadata": {},
     "output_type": "execute_result"
    }
   ],
   "source": [
    "def seven_ate9(str_):\n",
    "   while str_.find('797') != -1: #this loops multiple times until no \"797\"\n",
    "       str_ = str_.replace('797','77')\n",
    "   return str_"
   ]
  },
  {
   "cell_type": "code",
   "execution_count": null,
   "metadata": {},
   "outputs": [],
   "source": []
  },
  {
   "cell_type": "code",
   "execution_count": 2,
   "metadata": {},
   "outputs": [],
   "source": [
    "import pytube"
   ]
  },
  {
   "cell_type": "code",
   "execution_count": 5,
   "metadata": {},
   "outputs": [
    {
     "data": {
      "text/plain": [
       "'c:\\\\WorkFiles\\\\WPy64-37120\\\\notebooks\\\\Programmers57Challenges\\\\Dark Electronic Music —  Future Garage for Coding Programming Hacking.mp4'"
      ]
     },
     "execution_count": 5,
     "metadata": {},
     "output_type": "execute_result"
    }
   ],
   "source": [
    "pytube.YouTube(\"https://www.youtube.com/watch?v=HlAJHkiRGTI\").streams.get_by_itag(140).download()"
   ]
  }
 ],
 "metadata": {
  "interpreter": {
   "hash": "a42c93b5eee6b56421653baa65deacde473063d5c4965d27c7a75f4e31a8d403"
  },
  "kernelspec": {
   "display_name": "Python 3.7.12 64-bit (system)",
   "language": "python",
   "name": "python3"
  },
  "language_info": {
   "codemirror_mode": {
    "name": "ipython",
    "version": 3
   },
   "file_extension": ".py",
   "mimetype": "text/x-python",
   "name": "python",
   "nbconvert_exporter": "python",
   "pygments_lexer": "ipython3",
   "version": "3.7.12"
  },
  "orig_nbformat": 4
 },
 "nbformat": 4,
 "nbformat_minor": 2
}
