{
 "cells": [
  {
   "cell_type": "code",
   "execution_count": 25,
   "metadata": {},
   "outputs": [],
   "source": [
    "let = [1, 2,3,4,3,2,1]"
   ]
  },
  {
   "cell_type": "code",
   "execution_count": 26,
   "metadata": {},
   "outputs": [],
   "source": [
    "l_sum = 0\n",
    "r_sum = 0\n",
    "\n",
    "from typing import List\n",
    "\n",
    "def find_sum(part: List[int], l:int) ->int:\n",
    "    \"\"\"Given array and an integer, calculate \n",
    "    the sum on both sides of the array\"\"\"\n",
    "\n",
    "    l_sum = sum(part[:l])\n",
    "    r_sum = sum(part[-l:])\n",
    "    \n",
    "    return l_sum, r_sum"
   ]
  },
  {
   "cell_type": "code",
   "execution_count": 27,
   "metadata": {},
   "outputs": [
    {
     "data": {
      "text/plain": [
       "[1, 3, 6, 10, 13, 15, 16]"
      ]
     },
     "execution_count": 27,
     "metadata": {},
     "output_type": "execute_result"
    }
   ],
   "source": [
    "[sum(let[:ind]) + i for ind, i in enumerate(let)]"
   ]
  },
  {
   "cell_type": "code",
   "execution_count": 28,
   "metadata": {},
   "outputs": [
    {
     "data": {
      "text/plain": [
       "[1, 2, 3, 4, 3, 2, 1]"
      ]
     },
     "execution_count": 28,
     "metadata": {},
     "output_type": "execute_result"
    }
   ],
   "source": [
    "[i for i in reversed(let)]"
   ]
  },
  {
   "cell_type": "code",
   "execution_count": 29,
   "metadata": {},
   "outputs": [],
   "source": [
    "def str_rev(arr: List[int]) -> List[List[int]]:\n",
    "    f_sum = [sum(arr[:ind]) for ind, _ in enumerate(arr)]\n",
    "    arr = [i for i in reversed(arr)]\n",
    "    r_sum = [sum(arr[:ind]) for ind, _ in enumerate(arr)]\n",
    "    return f_sum, r_sum\n"
   ]
  },
  {
   "cell_type": "code",
   "execution_count": 30,
   "metadata": {},
   "outputs": [],
   "source": [
    "def str_rev(arr: List[int]) -> List[List[int]]:\n",
    "    f_sum = [sum(arr[:ind]) for ind in range(1, len(arr) - 1)]\n",
    "    arr = [i for i in reversed(arr)]\n",
    "    r_sum = [sum(arr[:ind]) for ind in range(1, len(arr))]\n",
    "    return f_sum, r_sum\n"
   ]
  },
  {
   "cell_type": "code",
   "execution_count": 31,
   "metadata": {},
   "outputs": [
    {
     "data": {
      "text/plain": [
       "([20, 30, -50, -40, -30], [35, 50, 60, 70, -10, 0])"
      ]
     },
     "execution_count": 31,
     "metadata": {},
     "output_type": "execute_result"
    }
   ],
   "source": [
    "tri = [20,10,-80,10,10,15,35]\n",
    "\n",
    "str_rev(tri)"
   ]
  },
  {
   "cell_type": "code",
   "execution_count": 32,
   "metadata": {},
   "outputs": [
    {
     "data": {
      "text/plain": [
       "array([ 35,  50,  60,  70, -10,   0,  20], dtype=int32)"
      ]
     },
     "execution_count": 32,
     "metadata": {},
     "output_type": "execute_result"
    }
   ],
   "source": [
    "import math\n",
    "import numpy as np\n",
    "\n",
    "np.cumsum(tri)\n",
    "\n",
    "rev = [i for i in reversed(tri)]\n",
    "np.cumsum(rev)\n"
   ]
  },
  {
   "cell_type": "code",
   "execution_count": 33,
   "metadata": {},
   "outputs": [
    {
     "data": {
      "text/plain": [
       "(3, 3)"
      ]
     },
     "execution_count": 33,
     "metadata": {},
     "output_type": "execute_result"
    }
   ],
   "source": [
    "find_sum(part=let, l= 2)"
   ]
  },
  {
   "cell_type": "code",
   "execution_count": 34,
   "metadata": {},
   "outputs": [],
   "source": [
    "def find_equal_sum_index(arr: List[int]) -> int:\n",
    "    ind = 0\n",
    "    car = 0\n",
    "    l_sum = 0\n",
    "    r_sum = 0\n",
    "    while car < len(arr):\n",
    "\n",
    "        l_sum = l_sum + arr[:car]\n",
    "\n"
   ]
  },
  {
   "cell_type": "code",
   "execution_count": 35,
   "metadata": {},
   "outputs": [
    {
     "data": {
      "text/plain": [
       "8"
      ]
     },
     "execution_count": 35,
     "metadata": {},
     "output_type": "execute_result"
    }
   ],
   "source": [
    "#persistent Bugger\n",
    "\n",
    "x = 24\n",
    "\n",
    "tem = [int(i) for i in str(x)]\n",
    "\n",
    "prod = 1\n",
    "\n",
    "i = 0\n",
    "\n",
    "while i < len(tem):\n",
    "\n",
    "    prod = prod * tem[i] \n",
    "\n",
    "    i = i + 1\n",
    "\n",
    "prod"
   ]
  },
  {
   "cell_type": "code",
   "execution_count": 36,
   "metadata": {},
   "outputs": [],
   "source": [
    "def cum_prod(x: str) ->int:\n",
    "\n",
    "    tem = [int(i) for i in str(x)]\n",
    "\n",
    "    prod = 1\n",
    "\n",
    "    i = 0\n",
    "\n",
    "    while i < len(tem):\n",
    "\n",
    "        prod = prod * tem[i] \n",
    "\n",
    "        i = i + 1\n",
    "    \n",
    "    return prod"
   ]
  },
  {
   "cell_type": "code",
   "execution_count": 37,
   "metadata": {},
   "outputs": [],
   "source": [
    "giv = 4\n",
    "\n",
    "iters = 0\n",
    "\n",
    "while True:\n",
    "\n",
    "    if len(str(giv)) == 1:\n",
    "\n",
    "        break\n",
    "\n",
    "    prov = cum_prod(giv)\n",
    "    \n",
    "    print(prov)\n",
    "    \n",
    "    iters = iters + 1\n",
    "    \n",
    "    giv = prov\n",
    "    "
   ]
  },
  {
   "cell_type": "code",
   "execution_count": 38,
   "metadata": {},
   "outputs": [],
   "source": [
    "import numpy as np\n",
    "from sklearn.model_selection import train_test_split \n",
    "from sklearn.ensemble import AdaBoostClassifier\n",
    "\n",
    "\n",
    "\n",
    "def train_ada_boost(X, target, estimators = 3, random_seed = 0):\n",
    "    #split\n",
    "    X_train, X_test, y_train, y_test = train_test_split(X, target, test_size=0.33, random_state=random_seed)\n",
    "    #Initialize the model\n",
    "    model = AdaBoostClassifier(n_estimators = estimators, random_state = random_seed)\n",
    "    #fit\n",
    "    model.fit(X_train, y_train)\n",
    "    #return\n",
    "    return model, X_test, y_test"
   ]
  },
  {
   "cell_type": "code",
   "execution_count": 39,
   "metadata": {},
   "outputs": [
    {
     "ename": "TypeError",
     "evalue": "cannot unpack non-iterable int object",
     "output_type": "error",
     "traceback": [
      "\u001b[1;31m---------------------------------------------------------------------------\u001b[0m",
      "\u001b[1;31mTypeError\u001b[0m                                 Traceback (most recent call last)",
      "\u001b[1;32mC:\\Users\\D30001~1\\AppData\\Local\\Temp/ipykernel_1912/550437914.py\u001b[0m in \u001b[0;36m<module>\u001b[1;34m\u001b[0m\n\u001b[1;32m----> 1\u001b[1;33m \u001b[0mxax\u001b[0m \u001b[1;33m=\u001b[0m \u001b[0mdict\u001b[0m\u001b[1;33m(\u001b[0m\u001b[1;33m[\u001b[0m\u001b[1;36m5\u001b[0m\u001b[1;33m,\u001b[0m\u001b[1;36m7\u001b[0m\u001b[1;33m,\u001b[0m\u001b[1;36m5\u001b[0m\u001b[1;33m,\u001b[0m\u001b[1;36m6\u001b[0m\u001b[1;33m]\u001b[0m\u001b[1;33m)\u001b[0m\u001b[1;33m\u001b[0m\u001b[1;33m\u001b[0m\u001b[0m\n\u001b[0m\u001b[0;32m      2\u001b[0m \u001b[0mxax\u001b[0m\u001b[1;33m\u001b[0m\u001b[1;33m\u001b[0m\u001b[0m\n",
      "\u001b[1;31mTypeError\u001b[0m: cannot unpack non-iterable int object"
     ]
    }
   ],
   "source": [
    "xax = dict([5,7,5,6])\n",
    "xax"
   ]
  },
  {
   "cell_type": "code",
   "execution_count": null,
   "metadata": {},
   "outputs": [
    {
     "data": {
      "text/plain": [
       "dict"
      ]
     },
     "execution_count": 9,
     "metadata": {},
     "output_type": "execute_result"
    }
   ],
   "source": [
    "xax = {b:x for x in [5,7,5,0] for b in [6,5,8,7]}\n",
    "type(xax)"
   ]
  },
  {
   "cell_type": "code",
   "execution_count": null,
   "metadata": {},
   "outputs": [],
   "source": [
    "def modified_sum(a: List[int], n) -> int:\n",
    "\n",
    "    return sum([alfa ** n for alfa in a]) - sum(a)"
   ]
  },
  {
   "cell_type": "code",
   "execution_count": null,
   "metadata": {},
   "outputs": [],
   "source": [
    "def variance(numbers: List[int]) -> int:\n",
    "\n",
    "    return sum([((x - (sum(numbers)/len(numbers))) ** 2)  for x in numbers]) / len(numbers)"
   ]
  },
  {
   "cell_type": "code",
   "execution_count": null,
   "metadata": {},
   "outputs": [
    {
     "data": {
      "text/plain": [
       "200.0"
      ]
     },
     "execution_count": 8,
     "metadata": {},
     "output_type": "execute_result"
    }
   ],
   "source": [
    "variance([-10, 0, 10, 20, 30])"
   ]
  },
  {
   "cell_type": "code",
   "execution_count": null,
   "metadata": {},
   "outputs": [],
   "source": [
    "#Test Driven Development"
   ]
  },
  {
   "cell_type": "code",
   "execution_count": null,
   "metadata": {},
   "outputs": [],
   "source": [
    "def per(number):\n",
    "    per_mul = []\n",
    "    while len(str(number)) != 1:\n",
    "\n",
    "        temp = [int(x) for x in str(number)]\n",
    "        number = 1\n",
    "        ind = 0\n",
    "        while ind < len(temp):\n",
    "            number = number * temp[ind]\n",
    "            ind = ind + 1\n",
    "        per_mul.append(number)\n",
    "        \n",
    "    return per_mul\n"
   ]
  },
  {
   "cell_type": "code",
   "execution_count": null,
   "metadata": {},
   "outputs": [],
   "source": [
    "#Multiplicative Persistance\n",
    "#assert(per() == [])\n",
    "assert(per(8), [])\n",
    "assert(per(10), [0])\n",
    "assert(per(277777788888899), [4996238671872, 438939648, 4478976, 338688, 27648, 2688, 768, 336, 54, 20, 0])\n",
    "assert(per(69), [54, 20, 0])"
   ]
  },
  {
   "cell_type": "code",
   "execution_count": null,
   "metadata": {},
   "outputs": [
    {
     "name": "stdout",
     "output_type": "stream",
     "text": [
      "Collecting PyMonad\n",
      "  Downloading PyMonad-2.4.0-py3-none-any.whl (29 kB)\n",
      "Installing collected packages: PyMonad\n",
      "Successfully installed PyMonad-2.4.0\n",
      "Note: you may need to restart the kernel to use updated packages.\n"
     ]
    },
    {
     "name": "stderr",
     "output_type": "stream",
     "text": [
      "WARNING: You are using pip version 22.0.4; however, version 22.1 is available.\n",
      "You should consider upgrading via the 'C:\\WorkFiles\\WPy64-37120\\pypy3.7-v7.3.7-win64\\python.exe -m pip install --upgrade pip' command.\n"
     ]
    }
   ],
   "source": [
    "class DataMining:\n",
    "\n",
    "    def __init__(self, train_set):\n",
    "        self.train_set = train_set\n",
    "\n",
    "    def predict(self, x):\n",
    "        pass\n",
    "\n",
    "    def train(self, train_set):\n",
    "        "
   ]
  },
  {
   "cell_type": "code",
   "execution_count": null,
   "metadata": {},
   "outputs": [],
   "source": [
    "import re\n",
    "def validate_pin(pin):\n",
    "    reg = \"[0-9]{6}|[0-9]{4}\"\n",
    "    found = re.findall(reg, pin)\n",
    "    \n",
    "    if found != []:\n",
    "        return [f for f in re.findall(reg, pin) if f != ''][0] == pin\n",
    "    \n",
    "    else:\n",
    "        return False"
   ]
  },
  {
   "cell_type": "code",
   "execution_count": null,
   "metadata": {},
   "outputs": [
    {
     "name": "stdout",
     "output_type": "stream",
     "text": [
      "5767\n"
     ]
    }
   ],
   "source": [
    "reg = \"([0-9]{6})|([0-9]{4})\"\n",
    "pin = '5767'\n",
    "print([x for f in re.findall(reg, pin) for x in f if x != ''][0])"
   ]
  },
  {
   "cell_type": "code",
   "execution_count": null,
   "metadata": {},
   "outputs": [],
   "source": [
    "   pattern = re.compile(r\"\"\"\\d{4}    # 4 digits\n",
    "                              |       #   OR\n",
    "                             \\d{6}    # 6 digits\n",
    "                             \"\"\", re.VERBOSE)"
   ]
  },
  {
   "cell_type": "code",
   "execution_count": null,
   "metadata": {},
   "outputs": [
    {
     "data": {
      "text/plain": [
       "True"
      ]
     },
     "execution_count": 78,
     "metadata": {},
     "output_type": "execute_result"
    }
   ],
   "source": [
    "reg = \"([0-9]{6})|([0-9]{4})\"\n",
    "pin = '5767'\n",
    "bool(re.fullmatch(reg, pin))"
   ]
  },
  {
   "cell_type": "code",
   "execution_count": null,
   "metadata": {},
   "outputs": [
    {
     "data": {
      "text/plain": [
       "False"
      ]
     },
     "execution_count": 80,
     "metadata": {},
     "output_type": "execute_result"
    }
   ],
   "source": [
    "reg = \"([0-9]{6})|([0-9]{4})\"\n",
    "lob = '57685887'\n",
    "bool(re.fullmatch(reg, lob))\n",
    "#print([x for f in re.findall(reg,lob) for x in f if x != ''][0])"
   ]
  },
  {
   "cell_type": "code",
   "execution_count": null,
   "metadata": {},
   "outputs": [
    {
     "data": {
      "text/plain": [
       "'576857'"
      ]
     },
     "execution_count": 46,
     "metadata": {},
     "output_type": "execute_result"
    }
   ],
   "source": [
    "reg = \"([0-9]{6})|([0-9]{4})\"\n",
    "[x for f in re.findall(reg, '57685777') for x in f if x != ''][0]"
   ]
  },
  {
   "cell_type": "code",
   "execution_count": null,
   "metadata": {},
   "outputs": [
    {
     "data": {
      "text/plain": [
       "[]"
      ]
     },
     "execution_count": 76,
     "metadata": {},
     "output_type": "execute_result"
    }
   ],
   "source": [
    "reg = \"([0-9]{6})|([0-9]{4})\"\n",
    "[x for f in re.findall(reg, '5') for x in f if x != '']"
   ]
  },
  {
   "cell_type": "code",
   "execution_count": null,
   "metadata": {},
   "outputs": [
    {
     "name": "stdout",
     "output_type": "stream",
     "text": [
      "1558\n"
     ]
    },
    {
     "data": {
      "text/plain": [
       "True"
      ]
     },
     "execution_count": 71,
     "metadata": {},
     "output_type": "execute_result"
    }
   ],
   "source": [
    "validate_pin('1558')"
   ]
  },
  {
   "cell_type": "code",
   "execution_count": null,
   "metadata": {},
   "outputs": [
    {
     "ename": "IndexError",
     "evalue": "list index out of range",
     "output_type": "error",
     "traceback": [
      "\u001b[1;31m---------------------------------------------------------------------------\u001b[0m",
      "\u001b[1;31mIndexError\u001b[0m                                Traceback (most recent call last)",
      "\u001b[1;32mC:\\Users\\D30001~1\\AppData\\Local\\Temp/ipykernel_10152/419872577.py\u001b[0m in \u001b[0;36m<module>\u001b[1;34m\u001b[0m\n\u001b[1;32m----> 1\u001b[1;33m \u001b[0mvalidate_pin\u001b[0m\u001b[1;33m(\u001b[0m\u001b[1;34m'1'\u001b[0m\u001b[1;33m)\u001b[0m\u001b[1;33m\u001b[0m\u001b[1;33m\u001b[0m\u001b[0m\n\u001b[0m",
      "\u001b[1;32mC:\\Users\\D30001~1\\AppData\\Local\\Temp/ipykernel_10152/848735934.py\u001b[0m in \u001b[0;36mvalidate_pin\u001b[1;34m(pin)\u001b[0m\n\u001b[0;32m      2\u001b[0m \u001b[1;32mdef\u001b[0m \u001b[0mvalidate_pin\u001b[0m\u001b[1;33m(\u001b[0m\u001b[0mpin\u001b[0m\u001b[1;33m)\u001b[0m\u001b[1;33m:\u001b[0m\u001b[1;33m\u001b[0m\u001b[1;33m\u001b[0m\u001b[0m\n\u001b[0;32m      3\u001b[0m     \u001b[0mreg\u001b[0m \u001b[1;33m=\u001b[0m \u001b[1;34m\"[0-9]{6}|[0-9]{4}\"\u001b[0m\u001b[1;33m\u001b[0m\u001b[1;33m\u001b[0m\u001b[0m\n\u001b[1;32m----> 4\u001b[1;33m     \u001b[0mprint\u001b[0m\u001b[1;33m(\u001b[0m\u001b[1;33m[\u001b[0m\u001b[0mf\u001b[0m \u001b[1;32mfor\u001b[0m \u001b[0mf\u001b[0m \u001b[1;32min\u001b[0m \u001b[0mre\u001b[0m\u001b[1;33m.\u001b[0m\u001b[0mfindall\u001b[0m\u001b[1;33m(\u001b[0m\u001b[0mreg\u001b[0m\u001b[1;33m,\u001b[0m \u001b[0mpin\u001b[0m\u001b[1;33m)\u001b[0m \u001b[1;32mif\u001b[0m \u001b[0mf\u001b[0m \u001b[1;33m!=\u001b[0m \u001b[1;34m''\u001b[0m\u001b[1;33m]\u001b[0m\u001b[1;33m[\u001b[0m\u001b[1;36m0\u001b[0m\u001b[1;33m]\u001b[0m\u001b[1;33m)\u001b[0m\u001b[1;33m\u001b[0m\u001b[1;33m\u001b[0m\u001b[0m\n\u001b[0m\u001b[0;32m      5\u001b[0m     \u001b[1;32mreturn\u001b[0m \u001b[1;33m[\u001b[0m\u001b[0mf\u001b[0m \u001b[1;32mfor\u001b[0m \u001b[0mf\u001b[0m \u001b[1;32min\u001b[0m \u001b[0mre\u001b[0m\u001b[1;33m.\u001b[0m\u001b[0mfindall\u001b[0m\u001b[1;33m(\u001b[0m\u001b[0mreg\u001b[0m\u001b[1;33m,\u001b[0m \u001b[0mpin\u001b[0m\u001b[1;33m)\u001b[0m \u001b[1;32mif\u001b[0m \u001b[0mf\u001b[0m \u001b[1;33m!=\u001b[0m \u001b[1;34m''\u001b[0m\u001b[1;33m]\u001b[0m\u001b[1;33m[\u001b[0m\u001b[1;36m0\u001b[0m\u001b[1;33m]\u001b[0m \u001b[1;33m==\u001b[0m \u001b[0mpin\u001b[0m\u001b[1;33m\u001b[0m\u001b[1;33m\u001b[0m\u001b[0m\n",
      "\u001b[1;31mIndexError\u001b[0m: list index out of range"
     ]
    }
   ],
   "source": [
    "validate_pin('1')"
   ]
  },
  {
   "cell_type": "code",
   "execution_count": null,
   "metadata": {},
   "outputs": [
    {
     "name": "stdout",
     "output_type": "stream",
     "text": [
      "155808\n"
     ]
    },
    {
     "data": {
      "text/plain": [
       "True"
      ]
     },
     "execution_count": 72,
     "metadata": {},
     "output_type": "execute_result"
    }
   ],
   "source": [
    "validate_pin('155808')"
   ]
  },
  {
   "cell_type": "code",
   "execution_count": null,
   "metadata": {},
   "outputs": [
    {
     "name": "stdout",
     "output_type": "stream",
     "text": [
      "155808\n"
     ]
    },
    {
     "data": {
      "text/plain": [
       "False"
      ]
     },
     "execution_count": 73,
     "metadata": {},
     "output_type": "execute_result"
    }
   ],
   "source": [
    "validate_pin('15580889')"
   ]
  },
  {
   "cell_type": "code",
   "execution_count": null,
   "metadata": {},
   "outputs": [
    {
     "ename": "AssertionError",
     "evalue": "",
     "output_type": "error",
     "traceback": [
      "\u001b[1;31m---------------------------------------------------------------------------\u001b[0m",
      "\u001b[1;31mAssertionError\u001b[0m                            Traceback (most recent call last)",
      "\u001b[1;32mC:\\Users\\D30001~1\\AppData\\Local\\Temp/ipykernel_10152/188505568.py\u001b[0m in \u001b[0;36m<module>\u001b[1;34m\u001b[0m\n\u001b[1;32m----> 1\u001b[1;33m \u001b[1;32massert\u001b[0m\u001b[1;33m(\u001b[0m\u001b[0mvalidate_pin\u001b[0m\u001b[1;33m(\u001b[0m\u001b[1;34m'1558'\u001b[0m\u001b[1;33m)\u001b[0m \u001b[1;33m==\u001b[0m \u001b[1;32mTrue\u001b[0m\u001b[1;33m)\u001b[0m\u001b[1;33m\u001b[0m\u001b[1;33m\u001b[0m\u001b[0m\n\u001b[0m",
      "\u001b[1;31mAssertionError\u001b[0m: "
     ]
    }
   ],
   "source": [
    "assert(validate_pin('1558') == True)"
   ]
  },
  {
   "cell_type": "code",
   "execution_count": null,
   "metadata": {},
   "outputs": [
    {
     "data": {
      "text/plain": [
       "-1.0"
      ]
     },
     "execution_count": 86,
     "metadata": {},
     "output_type": "execute_result"
    }
   ],
   "source": [
    "-1 ** 0.5"
   ]
  },
  {
   "cell_type": "code",
   "execution_count": null,
   "metadata": {},
   "outputs": [
    {
     "data": {
      "text/plain": [
       "True"
      ]
     },
     "execution_count": 85,
     "metadata": {},
     "output_type": "execute_result"
    }
   ],
   "source": [
    "(-1 ** 0.5).is_integer()"
   ]
  },
  {
   "cell_type": "code",
   "execution_count": null,
   "metadata": {},
   "outputs": [
    {
     "data": {
      "text/plain": [
       "False"
      ]
     },
     "execution_count": 89,
     "metadata": {},
     "output_type": "execute_result"
    }
   ],
   "source": [
    "(49.5 ** 0.5).is_integer()"
   ]
  },
  {
   "cell_type": "code",
   "execution_count": null,
   "metadata": {},
   "outputs": [
    {
     "data": {
      "text/plain": [
       "False"
      ]
     },
     "execution_count": 91,
     "metadata": {},
     "output_type": "execute_result"
    }
   ],
   "source": [
    "a = 49.5\n",
    "a.is_integer()"
   ]
  },
  {
   "cell_type": "code",
   "execution_count": null,
   "metadata": {},
   "outputs": [],
   "source": [
    "string = \"\"\"Twinkle, twinkle, little star, \n",
    "          How I wonder what you are! Up above the world \n",
    "          so high, Like a diamond in the sky. Twinkle, \n",
    "          twinkle, little star, How \n",
    "          I wonder what you are\"\"\""
   ]
  },
  {
   "cell_type": "code",
   "execution_count": null,
   "metadata": {},
   "outputs": [
    {
     "name": "stdout",
     "output_type": "stream",
     "text": [
      "Twinkle, twinkle, little star, \n",
      "\t          How I wonder what you are! Up above the world \n",
      "\t\t          so high, Like a diamond in the sky. Twinkle, \n",
      "\t\t          twinkle, little star, How \n",
      "          I wonder what you are\n"
     ]
    }
   ],
   "source": [
    "morp_list = string.split('\\n')\n",
    "\n",
    "morp_list[0] = morp_list[0]\n",
    "morp_list[1] = '\\t' + morp_list[1]\n",
    "morp_list[2] = '\\t\\t' + morp_list[2]\n",
    "morp_list[3] = '\\t\\t' + morp_list[3]\n",
    "morp_list = '\\n'.join(morp_list)\n",
    "print(morp_list)"
   ]
  },
  {
   "cell_type": "code",
   "execution_count": null,
   "metadata": {},
   "outputs": [
    {
     "data": {
      "text/plain": [
       "'3.7.12 (44db26267d0a, Oct 24 2021, 14:22:11)\\n[PyPy 7.3.7 with MSC v.1929 64 bit (AMD64)]'"
      ]
     },
     "execution_count": 21,
     "metadata": {},
     "output_type": "execute_result"
    }
   ],
   "source": [
    "import sys\n",
    "sys.version"
   ]
  },
  {
   "cell_type": "code",
   "execution_count": null,
   "metadata": {},
   "outputs": [
    {
     "data": {
      "text/plain": [
       "datetime.datetime(2022, 5, 21, 14, 46, 31, 40782)"
      ]
     },
     "execution_count": 24,
     "metadata": {},
     "output_type": "execute_result"
    }
   ],
   "source": [
    "import datetime\n",
    "\n",
    "datetime.datetime.now()"
   ]
  },
  {
   "cell_type": "code",
   "execution_count": null,
   "metadata": {},
   "outputs": [],
   "source": [
    "def pig_it(text):\n",
    "    if text.split(' '):\n",
    "        return ' '.join([wor[1:] + wor[0] + 'ay' if wor not in '?!*_/:;' else wor for wor in text.split(' ') ])"
   ]
  },
  {
   "cell_type": "code",
   "execution_count": null,
   "metadata": {},
   "outputs": [],
   "source": [
    "import unittest\n",
    "\n",
    "assert(pig_it('Pig latin is cool') == 'igPay atinlay siay oolcay')\n",
    "assert(pig_it('This is my string !') == 'hisTay siay ymay tringsay !')"
   ]
  },
  {
   "cell_type": "code",
   "execution_count": null,
   "metadata": {},
   "outputs": [
    {
     "data": {
      "text/plain": [
       "['igPay', 'atinlay', 'siay', 'oolcay']"
      ]
     },
     "execution_count": 3,
     "metadata": {},
     "output_type": "execute_result"
    }
   ],
   "source": [
    "text = 'Pig latin is cool'\n",
    "[wor[1:] + wor[0] + 'ay' for wor in text.split(' ')]"
   ]
  },
  {
   "cell_type": "code",
   "execution_count": null,
   "metadata": {},
   "outputs": [],
   "source": [
    "class Ball(object):\n",
    "\n",
    "    def __init__(self, ball_type = 'regular'):\n",
    "        self.ball_type = ball_type\n",
    "\n",
    "ball_a = Ball()\n",
    "ball_s = Ball('sumper')\n",
    "assert(ball_a.ball_type == 'regular')\n",
    "assert(ball_s.ball_type == 'sumper') \n"
   ]
  },
  {
   "cell_type": "code",
   "execution_count": null,
   "metadata": {},
   "outputs": [],
   "source": [
    "class Human(object):\n",
    "\n",
    "    def __init__(self):\n",
    "        pass\n",
    "\n",
    "class Man(Human):\n",
    "\n",
    "    def __init__(self):\n",
    "        pass\n",
    "\n",
    "class Woman(Human):\n",
    "\n",
    "    def __init__(self):\n",
    "        pass\n",
    "\n",
    "def God():\n",
    "\n",
    "    return [Man(), Woman()]\n",
    "\n",
    "paradise = God()\n"
   ]
  },
  {
   "cell_type": "code",
   "execution_count": null,
   "metadata": {},
   "outputs": [
    {
     "data": {
      "text/plain": [
       "True"
      ]
     },
     "execution_count": 18,
     "metadata": {},
     "output_type": "execute_result"
    }
   ],
   "source": [
    "isinstance(paradise[0],Man)"
   ]
  },
  {
   "cell_type": "code",
   "execution_count": null,
   "metadata": {},
   "outputs": [
    {
     "data": {
      "text/plain": [
       "True"
      ]
     },
     "execution_count": 20,
     "metadata": {},
     "output_type": "execute_result"
    }
   ],
   "source": [
    "isinstance(paradise[1],Woman)"
   ]
  },
  {
   "cell_type": "code",
   "execution_count": 41,
   "metadata": {},
   "outputs": [
    {
     "name": "stdout",
     "output_type": "stream",
     "text": [
      "Johns age is 65\n",
      "Deres age is 56\n",
      "livs age is 46\n",
      "ives age is 57\n"
     ]
    }
   ],
   "source": [
    "class Person(object):\n",
    "    \n",
    "    def __init__(self, name, age):\n",
    "        \n",
    "        self.name = name\n",
    "        self.age = age\n",
    "\n",
    "    def info(self):\n",
    "\n",
    "        print(f\"{self.name}s age is {self.age}\")\n",
    "\n",
    "names = ['John','Dere','liv', 'ive']\n",
    "age = [65, 56, 46, 57]\n",
    "\n",
    "for x in range(4):\n",
    "    person = Person(names[x], age[x])\n",
    "    person.info()"
   ]
  },
  {
   "cell_type": "code",
   "execution_count": 55,
   "metadata": {},
   "outputs": [
    {
     "name": "stdout",
     "output_type": "stream",
     "text": [
      "Johns age is 65\n",
      "Deres age is 56\n",
      "livs age is 46\n",
      "ives age is 57\n"
     ]
    }
   ],
   "source": [
    "class Person(object):\n",
    "    \n",
    "    def __init__(self, name, age):\n",
    "        \n",
    "        self.name = name\n",
    "        self.age = str(age)\n",
    "        self.info = f\"{self.name}s age is {self.age}\"\n",
    "        \n",
    "\n",
    "names = ['John','Dere','liv', 'ive']\n",
    "age = [65, 56, 46, 57]\n",
    "\n",
    "for x in range(4):\n",
    "    person = Person(names[x], age[x])\n",
    "    print(person.info)"
   ]
  },
  {
   "cell_type": "code",
   "execution_count": 51,
   "metadata": {},
   "outputs": [
    {
     "data": {
      "text/plain": [
       "<bound method Person.info of <__main__.Person object at 0x0000020d3a3b0288>>"
      ]
     },
     "execution_count": 51,
     "metadata": {},
     "output_type": "execute_result"
    }
   ],
   "source": [
    "person.info"
   ]
  },
  {
   "cell_type": "code",
   "execution_count": null,
   "metadata": {},
   "outputs": [],
   "source": []
  },
  {
   "cell_type": "code",
   "execution_count": 49,
   "metadata": {},
   "outputs": [
    {
     "data": {
      "text/plain": [
       "'ives age is 57'"
      ]
     },
     "execution_count": 49,
     "metadata": {},
     "output_type": "execute_result"
    }
   ],
   "source": [
    "person.info()"
   ]
  }
 ],
 "metadata": {
  "interpreter": {
   "hash": "a42c93b5eee6b56421653baa65deacde473063d5c4965d27c7a75f4e31a8d403"
  },
  "kernelspec": {
   "display_name": "Python 3.7.12 64-bit (system)",
   "language": "python",
   "name": "python3"
  },
  "language_info": {
   "codemirror_mode": {
    "name": "ipython",
    "version": 3
   },
   "file_extension": ".py",
   "mimetype": "text/x-python",
   "name": "python",
   "nbconvert_exporter": "python",
   "pygments_lexer": "ipython3",
   "version": "3.7.12"
  },
  "orig_nbformat": 4
 },
 "nbformat": 4,
 "nbformat_minor": 2
}
